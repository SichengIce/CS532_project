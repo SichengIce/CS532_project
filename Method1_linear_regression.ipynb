{
 "cells": [
  {
   "cell_type": "markdown",
   "metadata": {},
   "source": [
    "# Linear regression classification "
   ]
  },
  {
   "cell_type": "code",
   "execution_count": 1,
   "metadata": {},
   "outputs": [],
   "source": [
    "import numpy as np\n",
    "import pandas as pd\n",
    "import matplotlib.pyplot as plt"
   ]
  },
  {
   "cell_type": "code",
   "execution_count": 2,
   "metadata": {},
   "outputs": [],
   "source": [
    "X_train = np.asarray(pd.read_csv(\"training_data.csv\"))\n",
    "y_train = np.asarray(pd.read_csv(\"training_label.csv\"))\n",
    "X_test = np.asarray(pd.read_csv(\"testing_data.csv\"))\n",
    "y_test = np.asarray(pd.read_csv(\"testing_label.csv\"))"
   ]
  },
  {
   "cell_type": "code",
   "execution_count": 3,
   "metadata": {},
   "outputs": [],
   "source": [
    "n_train = X_train.shape[0]\n",
    "n_test = X_test.shape[0]"
   ]
  },
  {
   "cell_type": "code",
   "execution_count": 4,
   "metadata": {},
   "outputs": [],
   "source": [
    "# normalize data (Min-Max Normalization)"
   ]
  },
  {
   "cell_type": "code",
   "execution_count": 5,
   "metadata": {},
   "outputs": [],
   "source": [
    "# def noramlization(data):\n",
    "#     minVals = data.min(0)\n",
    "#     maxVals = data.max(0)\n",
    "#     ranges = maxVals - minVals\n",
    "#     normData = np.zeros(np.shape(data))\n",
    "#     m = data.shape[0]\n",
    "#     normData = data - np.tile(minVals, (m, 1))\n",
    "#     normData = normData/np.tile(ranges, (m, 1))\n",
    "#     return normData"
   ]
  },
  {
   "cell_type": "code",
   "execution_count": 6,
   "metadata": {},
   "outputs": [],
   "source": [
    "def z_score(x, axis):\n",
    "    xr = np.rollaxis(x, axis=axis)\n",
    "    xr -= np.mean(x, axis=axis)\n",
    "    xr /= np.std(x, axis=axis)\n",
    "    # print(x)\n",
    "    return x"
   ]
  },
  {
   "cell_type": "code",
   "execution_count": 7,
   "metadata": {},
   "outputs": [],
   "source": [
    "X_train = z_score(X_train,0)\n",
    "X_test = z_score(X_test,0)"
   ]
  },
  {
   "cell_type": "code",
   "execution_count": 20,
   "metadata": {},
   "outputs": [],
   "source": [
    "# First let's try the simple least square problem  "
   ]
  },
  {
   "cell_type": "markdown",
   "metadata": {},
   "source": [
    "# Least square solution "
   ]
  },
  {
   "cell_type": "code",
   "execution_count": 8,
   "metadata": {},
   "outputs": [],
   "source": [
    "n_train = len(X_train)\n",
    "k_fold = 5\n",
    "id_train = [[]] * k_fold\n",
    "id_val = [[]] * k_fold\n",
    "\n",
    "for m in range(k_fold):\n",
    "    id_val[m] = range(m, n_train, k_fold) # Indices of k_fold validation sets.\n",
    "    id_train[m] = np.setdiff1d(range(n_train), id_val[m])"
   ]
  },
  {
   "cell_type": "code",
   "execution_count": 9,
   "metadata": {},
   "outputs": [],
   "source": [
    "Err_rate = []\n",
    "Sq_err = []\n",
    "W_less = 100"
   ]
  },
  {
   "cell_type": "code",
   "execution_count": 10,
   "metadata": {
    "scrolled": true
   },
   "outputs": [
    {
     "name": "stdout",
     "output_type": "stream",
     "text": [
      "\n",
      " iteration 0\n",
      "Validation error rate: 41.0958904109589 %\n",
      "Validation mean square error: 1.643835616438356\n",
      "\n",
      " iteration 1\n",
      "Validation error rate: 50.68493150684932 %\n",
      "Validation mean square error: 2.0273972602739727\n",
      "\n",
      " iteration 2\n",
      "Validation error rate: 48.61111111111111 %\n",
      "Validation mean square error: 1.9444444444444444\n",
      "\n",
      " iteration 3\n",
      "Validation error rate: 52.77777777777778 %\n",
      "Validation mean square error: 2.111111111111111\n",
      "\n",
      " iteration 4\n",
      "Validation error rate: 48.61111111111111 %\n",
      "Validation mean square error: 1.9444444444444444\n"
     ]
    }
   ],
   "source": [
    "for m in range(k_fold):\n",
    "    print(\"\\n iteration\", m)\n",
    "    X_train_r = X_train[id_train[m]]\n",
    "    y_train_r = y_train[id_train[m]]\n",
    "    X_val_r = X_train[id_val[m]]\n",
    "    y_val_r = y_train[id_val[m]]     \n",
    " #   print(X_train_r.shape, y_train_r.shape, X_val_r.shape, y_val_r.shape)\n",
    "    \n",
    "    #validation\n",
    "    W_least = np.linalg.inv(X_train_r.T@X_train_r)@X_train_r.T@y_train_r\n",
    "    y_hat = np.sign(X_val_r @ W_least)\n",
    "    error_vec = [0 if k[0]==k[1] else 1 for k in np.hstack((y_hat, y_val_r))]\n",
    "    err_rate = sum(error_vec)/len(y_val_r)\n",
    "                \n",
    "    Sq_err_vec = [ (it[0]-it[1])**2 for it in np.hstack((y_hat, y_val_r))]\n",
    "    sq_err = sum(Sq_err_vec)/len(y_val_r)\n",
    "    \n",
    "    Err_rate.append(err_rate)\n",
    "    Sq_err.append(sq_err)\n",
    "    \n",
    "    if err_rate < W_less:\n",
    "        W_less = err_rate\n",
    "        best_w = W_least\n",
    "    \n",
    "    print(\"Validation error rate:\", err_rate*100,\"%\")\n",
    "    print(\"Validation mean square error:\", sq_err)"
   ]
  },
  {
   "cell_type": "code",
   "execution_count": 11,
   "metadata": {},
   "outputs": [
    {
     "name": "stdout",
     "output_type": "stream",
     "text": [
      "The Least square solution result:\n",
      "\n",
      "The error rate of each validation:\n",
      " [0.410958904109589, 0.5068493150684932, 0.4861111111111111, 0.5277777777777778, 0.4861111111111111]\n",
      "\n",
      "\n",
      "The mean squared error of each validation:\n",
      " [1.643835616438356, 2.0273972602739727, 1.9444444444444444, 2.111111111111111, 1.9444444444444444]\n",
      "\n",
      "\n",
      "The best weighted values:\n",
      " [[-0.01896881]\n",
      " [ 0.0626032 ]\n",
      " [ 0.17975799]\n",
      " [-0.04016948]\n",
      " [ 0.03746964]\n",
      " [-0.00667443]\n",
      " [-0.09270972]\n",
      " [-0.00135062]\n",
      " [ 0.07833817]\n",
      " [-0.06211381]\n",
      " [ 0.02662307]\n",
      " [ 0.05475716]]\n",
      "\n",
      "\n",
      "The average number of misclassifications rate:\n",
      " 0.48356164383561645\n",
      "\n",
      "\n",
      "The mean squared error:\n",
      " 1.9342465753424658\n"
     ]
    }
   ],
   "source": [
    "print(\"The Least square solution result:\\n\")\n",
    "print(\"The error rate of each validation:\\n\",Err_rate)\n",
    "print(\"\\n\")\n",
    "print(\"The mean squared error of each validation:\\n\",Sq_err)\n",
    "print(\"\\n\")\n",
    "print(\"The best weighted values:\\n\",best_w)\n",
    "print(\"\\n\")\n",
    "print(\"The average number of misclassifications rate:\\n\",sum(Err_rate)/len(Err_rate))\n",
    "print(\"\\n\")\n",
    "print(\"The mean squared error:\\n\",sum(Sq_err)/len(Sq_err))"
   ]
  },
  {
   "cell_type": "code",
   "execution_count": 12,
   "metadata": {},
   "outputs": [
    {
     "data": {
      "image/png": "[encoded data removed]",
      "text/plain": [
       "<Figure size 432x288 with 1 Axes>"
      ]
     },
     "metadata": {
      "needs_background": "light"
     },
     "output_type": "display_data"
    },
    {
     "data": {
      "image/png": "[encoded data removed]",
      "text/plain": [
       "<Figure size 432x288 with 1 Axes>"
      ]
     },
     "metadata": {
      "needs_background": "light"
     },
     "output_type": "display_data"
    }
   ],
   "source": [
    "plt.plot(Err_rate,\"ro-\")\n",
    "plt.xlabel(\"validation time\",fontsize = 15)\n",
    "plt.ylabel(\"misclassification_rate\", fontsize = 15)\n",
    "plt.show()\n",
    "\n",
    "plt.figure()\n",
    "plt.plot(Sq_err,\"ro-\")\n",
    "plt.xlabel(\"validation time\",fontsize = 15)\n",
    "plt.ylabel(\"mean_square_error_rate\", fontsize = 15)\n",
    "plt.show()"
   ]
  },
  {
   "cell_type": "code",
   "execution_count": 13,
   "metadata": {},
   "outputs": [
    {
     "name": "stdout",
     "output_type": "stream",
     "text": [
      "testing_misclassification_rate: 0.535483870967742\n",
      "mean_square_error_rate 2.141935483870968\n"
     ]
    }
   ],
   "source": [
    "# Testing results\n",
    "y_hat3 = np.sign(X_test @ best_w)\n",
    "error_vec3 = [0 if it[0]==it[1] else 1 for it in np.hstack((y_hat3, y_test))]\n",
    "err_rate3 = sum(error_vec3)/len(y_test)\n",
    "\n",
    "Sq_err_vec3 = [ (it[0]-it[1])**2 for it in np.hstack((y_hat3, y_test))]\n",
    "sq_err3 = sum(Sq_err_vec3)/len(y_test)\n",
    "\n",
    "print(\"testing_misclassification_rate:\",err_rate3)\n",
    "print(\"mean_square_error_rate\",sq_err3)"
   ]
  },
  {
   "cell_type": "markdown",
   "metadata": {},
   "source": [
    "# Ridge regression "
   ]
  },
  {
   "cell_type": "code",
   "execution_count": 14,
   "metadata": {},
   "outputs": [],
   "source": [
    "Err_rate = []\n",
    "Sq_err = []\n",
    "Be_lam = []"
   ]
  },
  {
   "cell_type": "code",
   "execution_count": 15,
   "metadata": {},
   "outputs": [
    {
     "name": "stdout",
     "output_type": "stream",
     "text": [
      "lambda: [1.00000000e-10 2.39502662e-10 5.73615251e-10 1.37382380e-09\n",
      " 3.29034456e-09 7.88046282e-09 1.88739182e-08 4.52035366e-08\n",
      " 1.08263673e-07 2.59294380e-07 6.21016942e-07 1.48735211e-06\n",
      " 3.56224789e-06 8.53167852e-06 2.04335972e-05 4.89390092e-05\n",
      " 1.17210230e-04 2.80721620e-04 6.72335754e-04 1.61026203e-03\n",
      " 3.85662042e-03 9.23670857e-03 2.21221629e-02 5.29831691e-02\n",
      " 1.26896100e-01 3.03919538e-01 7.27895384e-01 1.74332882e+00\n",
      " 4.17531894e+00 1.00000000e+01]\n"
     ]
    }
   ],
   "source": [
    "lam_vals = np.logspace(-10,1, num=30)\n",
    "print(\"lambda:\",lam_vals)"
   ]
  },
  {
   "cell_type": "code",
   "execution_count": 16,
   "metadata": {},
   "outputs": [
    {
     "name": "stdout",
     "output_type": "stream",
     "text": [
      "\n",
      " iteration 0\n",
      "Validation error rate: 39.726027397260275 %\n",
      "Validation mean square error: 1.5890410958904109\n",
      "\n",
      " iteration 1\n",
      "Validation error rate: 46.57534246575342 %\n",
      "Validation mean square error: 1.8630136986301369\n",
      "\n",
      " iteration 2\n",
      "Validation error rate: 47.22222222222222 %\n",
      "Validation mean square error: 1.8888888888888888\n",
      "\n",
      " iteration 3\n",
      "Validation error rate: 52.77777777777778 %\n",
      "Validation mean square error: 2.111111111111111\n",
      "\n",
      " iteration 4\n",
      "Validation error rate: 45.83333333333333 %\n",
      "Validation mean square error: 1.8333333333333333\n"
     ]
    }
   ],
   "source": [
    "for m in range(k_fold):\n",
    "    print(\"\\n iteration\", m)\n",
    "    X_train_r = X_train[id_train[m]]\n",
    "    y_train_r = y_train[id_train[m]]\n",
    "    X_val_r = X_train[id_val[m]]\n",
    "    y_val_r = y_train[id_val[m]]     \n",
    "#     print(X_train_r.shape, y_train_r.shape, X_val_r.shape, y_val_r.shape)\n",
    "    \n",
    "    #select lambda\n",
    "    Error_rate_low = 100\n",
    "    for i in range(len(lam_vals)):\n",
    "        W_ridge = np.linalg.inv(X_train_r.T@X_train_r+lam_vals[i]*np.identity(X_train_r.shape[1]))@ X_train_r.T @y_train_r\n",
    "        y_hat = np.sign(X_val_r @ W_ridge)\n",
    "        lam_error_vec = [0 if k[0]==k[1] else 1 for k in np.hstack((y_hat, y_val_r))]\n",
    "        lam_err_rate = sum(lam_error_vec)/len(y_val_r)\n",
    "        \n",
    "        if lam_err_rate < Error_rate_low:\n",
    "            Error_rate_low = lam_err_rate\n",
    "            best_lam = lam_vals[i]\n",
    "            best_w = W_ridge\n",
    "            \n",
    "    #validation\n",
    "    y_hat2 = np.sign(X_val_r @ best_w)\n",
    "    error_vec = [0 if it1[0]==it1[1] else 1 for it1 in np.hstack((y_hat2, y_val_r))]\n",
    "    err_rate = sum(error_vec)/len(y_val_r)\n",
    "    \n",
    "    Sq_err_vec = [ (it2[0]-it2[1])**2 for it2 in np.hstack((y_hat2, y_val_r))]\n",
    "    sq_err = sum(Sq_err_vec)/len(y_val_r)\n",
    "    \n",
    "    Err_rate.append(err_rate)\n",
    "    Sq_err.append(sq_err)\n",
    "    Be_lam.append(best_lam)\n",
    "    \n",
    "    print(\"Validation error rate:\", err_rate*100,\"%\")\n",
    "    print(\"Validation mean square error:\", sq_err)"
   ]
  },
  {
   "cell_type": "code",
   "execution_count": 17,
   "metadata": {},
   "outputs": [
    {
     "name": "stdout",
     "output_type": "stream",
     "text": [
      "The Ridge regression result:\n",
      "\n",
      "The error rate of each validation:\n",
      " [0.3972602739726027, 0.4657534246575342, 0.4722222222222222, 0.5277777777777778, 0.4583333333333333]\n",
      "\n",
      "\n",
      "The mean squared error of each validation:\n",
      " [1.5890410958904109, 1.8630136986301369, 1.8888888888888888, 2.111111111111111, 1.8333333333333333]\n",
      "\n",
      "\n",
      "The best lambda value of each validation:\n",
      " [10.0, 10.0, 1.7433288221999872, 1e-10, 10.0]\n",
      "\n",
      "\n",
      "The best weighted values:\n",
      " [[ 0.05573183]\n",
      " [-0.02220652]\n",
      " [ 0.19313862]\n",
      " [ 0.02413075]\n",
      " [ 0.04119367]\n",
      " [-0.00475395]\n",
      " [ 0.00037664]\n",
      " [-0.01903349]\n",
      " [-0.04214778]\n",
      " [-0.10694655]\n",
      " [ 0.0020995 ]\n",
      " [ 0.04698217]]\n",
      "\n",
      "\n",
      "The average number of misclassifications rate:\n",
      " 0.4642694063926941\n",
      "\n",
      "\n",
      "The mean squared error:\n",
      " 1.8570776255707764\n"
     ]
    }
   ],
   "source": [
    "print(\"The Ridge regression result:\\n\")\n",
    "print(\"The error rate of each validation:\\n\",Err_rate)\n",
    "print(\"\\n\")\n",
    "print(\"The mean squared error of each validation:\\n\",Sq_err)\n",
    "print(\"\\n\")\n",
    "print(\"The best lambda value of each validation:\\n\",Be_lam)\n",
    "print(\"\\n\")\n",
    "print(\"The best weighted values:\\n\",best_w)\n",
    "print(\"\\n\")\n",
    "print(\"The average number of misclassifications rate:\\n\",sum(Err_rate)/len(Err_rate))\n",
    "print(\"\\n\")\n",
    "print(\"The mean squared error:\\n\",sum(Sq_err)/len(Sq_err))"
   ]
  },
  {
   "cell_type": "code",
   "execution_count": 18,
   "metadata": {},
   "outputs": [
    {
     "data": {
      "image/png": "[encoded data removed]",
      "text/plain": [
       "<Figure size 432x288 with 1 Axes>"
      ]
     },
     "metadata": {
      "needs_background": "light"
     },
     "output_type": "display_data"
    },
    {
     "data": {
      "image/png": "[encoded data removed]",
      "text/plain": [
       "<Figure size 432x288 with 1 Axes>"
      ]
     },
     "metadata": {
      "needs_background": "light"
     },
     "output_type": "display_data"
    }
   ],
   "source": [
    "plt.plot(Err_rate,\"ro-\")\n",
    "plt.xlabel(\"validation time\",fontsize = 15)\n",
    "plt.ylabel(\"misclassification_rate\", fontsize = 15)\n",
    "plt.show()\n",
    "\n",
    "plt.figure()\n",
    "plt.plot(Sq_err,\"ro-\")\n",
    "plt.xlabel(\"validation time\",fontsize = 15)\n",
    "plt.ylabel(\"mean_square_error_rate\", fontsize = 15)\n",
    "plt.show()"
   ]
  },
  {
   "cell_type": "code",
   "execution_count": 20,
   "metadata": {},
   "outputs": [
    {
     "name": "stdout",
     "output_type": "stream",
     "text": [
      "testing_misclassification_rate: 0.5161290322580645\n",
      "mean_square_error_rate 2.064516129032258\n"
     ]
    }
   ],
   "source": [
    "# Testing results\n",
    "y_hat3 = np.sign(X_test @ best_w)\n",
    "error_vec3 = [0 if it[0]==it[1] else 1 for it in np.hstack((y_hat3, y_test))]\n",
    "err_rate3 = sum(error_vec3)/len(y_test)\n",
    "\n",
    "Sq_err_vec3 = [ (it[0]-it[1])**2 for it in np.hstack((y_hat3, y_test))]\n",
    "sq_err3 = sum(Sq_err_vec3)/len(y_test)\n",
    "\n",
    "print(\"testing_misclassification_rate:\",err_rate3)\n",
    "print(\"mean_square_error_rate\",sq_err3)"
   ]
  },
  {
   "cell_type": "markdown",
   "metadata": {},
   "source": [
    "# LASSO Regression "
   ]
  },
  {
   "cell_type": "code",
   "execution_count": 21,
   "metadata": {},
   "outputs": [],
   "source": [
    "def ista_solve_hot( A, d, la_array ):\n",
    "    # ista_solve_hot: Iterative soft-thresholding for multiple values of\n",
    "    # lambda with hot start for each case - the converged value for the previous\n",
    "    # value of lambda is used as an initial condition for the current lambda.\n",
    "    # this function solves the minimization problem\n",
    "    # Minimize |Ax-d|_2^2 + lambda*|x|_1 (Lasso regression)\n",
    "    # using iterative soft-thresholding.\n",
    "    max_iter = 10**4\n",
    "    tol = 10**(-3)\n",
    "    tau = 1/np.linalg.norm(A,2)**2\n",
    "    n = A.shape[1]\n",
    "    w = np.zeros((n,1))\n",
    "    num_lam = len(la_array)\n",
    "    X = np.zeros((n, num_lam))\n",
    "    for i, each_lambda in enumerate(la_array):\n",
    "        for j in range(max_iter):\n",
    "            z = w - tau*(A.T@(A@w-d))\n",
    "            w_old = w\n",
    "            w = np.sign(z) * np.clip(np.abs(z)-tau*each_lambda/2, 0, np.inf)\n",
    "            X[:, i:i+1] = w\n",
    "            if np.linalg.norm(w - w_old) < tol:\n",
    "                break\n",
    "    return X"
   ]
  },
  {
   "cell_type": "code",
   "execution_count": 22,
   "metadata": {},
   "outputs": [
    {
     "name": "stdout",
     "output_type": "stream",
     "text": [
      "lambda: [1.00000000e-10 2.39502662e-10 5.73615251e-10 1.37382380e-09\n",
      " 3.29034456e-09 7.88046282e-09 1.88739182e-08 4.52035366e-08\n",
      " 1.08263673e-07 2.59294380e-07 6.21016942e-07 1.48735211e-06\n",
      " 3.56224789e-06 8.53167852e-06 2.04335972e-05 4.89390092e-05\n",
      " 1.17210230e-04 2.80721620e-04 6.72335754e-04 1.61026203e-03\n",
      " 3.85662042e-03 9.23670857e-03 2.21221629e-02 5.29831691e-02\n",
      " 1.26896100e-01 3.03919538e-01 7.27895384e-01 1.74332882e+00\n",
      " 4.17531894e+00 1.00000000e+01]\n"
     ]
    }
   ],
   "source": [
    "Err_rate = []\n",
    "Sq_err = []\n",
    "Be_lam = []\n",
    "\n",
    "lam_vals = np.logspace(-10,1, num=30)\n",
    "print(\"lambda:\",lam_vals)"
   ]
  },
  {
   "cell_type": "code",
   "execution_count": 23,
   "metadata": {},
   "outputs": [
    {
     "name": "stdout",
     "output_type": "stream",
     "text": [
      "\n",
      " iteration 0\n",
      "Validation error rate: 39.726027397260275 %\n",
      "Validation mean square error: 1.5890410958904109\n",
      "\n",
      " iteration 1\n",
      "Validation error rate: 39.726027397260275 %\n",
      "Validation mean square error: 1.5890410958904109\n",
      "\n",
      " iteration 2\n",
      "Validation error rate: 47.22222222222222 %\n",
      "Validation mean square error: 1.8888888888888888\n",
      "\n",
      " iteration 3\n",
      "Validation error rate: 50.0 %\n",
      "Validation mean square error: 2.0\n",
      "\n",
      " iteration 4\n",
      "Validation error rate: 44.44444444444444 %\n",
      "Validation mean square error: 1.7777777777777777\n"
     ]
    }
   ],
   "source": [
    "for m in range(k_fold):\n",
    "    print(\"\\n iteration\", m)\n",
    "    X_train_r = X_train[id_train[m]]\n",
    "    y_train_r = y_train[id_train[m]]\n",
    "    X_val_r = X_train[id_val[m]]\n",
    "    y_val_r = y_train[id_val[m]]     \n",
    "#     print(X_train_r.shape, y_train_r.shape, X_val_r.shape, y_val_r.shape)\n",
    "    \n",
    "    #select lambda\n",
    "    W_lasso = ista_solve_hot(X_train_r,y_train_r,lam_vals)\n",
    "    Error_rate_low = 100\n",
    "    for i in range(W_lasso.shape[1]):\n",
    "        y_hat = np.sign(X_val_r @ W_lasso[:,i]).reshape(y_val_r.shape[0],1)   \n",
    "        lam_error_vec = [0 if k[0]==k[1] else 1 for k in np.hstack((y_hat, y_val_r))]\n",
    "        lam_err_rate = sum(lam_error_vec)/len(y_val_r)\n",
    "        \n",
    "        if lam_err_rate < Error_rate_low:\n",
    "            Error_rate_low = lam_err_rate\n",
    "            best_lam = lam_vals[i]\n",
    "            best_w = W_lasso[:,i]\n",
    "            \n",
    "    #validation\n",
    "    y_hat2 = np.sign(X_val_r @ best_w).reshape(y_val_r.shape[0],1)\n",
    "    error_vec = [0 if it1[0]==it1[1] else 1 for it1 in np.hstack((y_hat2, y_val_r))]\n",
    "    err_rate = sum(error_vec)/len(y_val_r)\n",
    "    \n",
    "    Sq_err_vec = [ (it2[0]-it2[1])**2 for it2 in np.hstack((y_hat2, y_val_r))]\n",
    "    sq_err = sum(Sq_err_vec)/len(y_val_r)\n",
    "    \n",
    "    Err_rate.append(err_rate)\n",
    "    Sq_err.append(sq_err)\n",
    "    Be_lam.append(best_lam)\n",
    "    \n",
    "    print(\"Validation error rate:\", err_rate*100,\"%\")\n",
    "    print(\"Validation mean square error:\", sq_err)"
   ]
  },
  {
   "cell_type": "code",
   "execution_count": 24,
   "metadata": {
    "scrolled": false
   },
   "outputs": [
    {
     "name": "stdout",
     "output_type": "stream",
     "text": [
      "The LASSO regression result:\n",
      "\n",
      "The error rate of each validation:\n",
      " [0.3972602739726027, 0.3972602739726027, 0.4722222222222222, 0.5, 0.4444444444444444]\n",
      "\n",
      "\n",
      "The mean squared error of each validation:\n",
      " [1.5890410958904109, 1.5890410958904109, 1.8888888888888888, 2.0, 1.7777777777777777]\n",
      "\n",
      "\n",
      "The best lambda value of each validation:\n",
      " [1e-10, 10.0, 1e-10, 4.175318936560392, 10.0]\n",
      "\n",
      "\n",
      "The best weighted values:\n",
      " [ 2.95496140e-02 -0.00000000e+00  1.75855574e-01  1.19229480e-04\n",
      "  1.61456963e-02 -0.00000000e+00 -0.00000000e+00 -0.00000000e+00\n",
      " -1.11147256e-02 -8.36020869e-02  0.00000000e+00  2.94824871e-02]\n",
      "\n",
      "\n",
      "The average number of misclassifications rate:\n",
      " 0.44223744292237444\n",
      "\n",
      "\n",
      "The mean squared error:\n",
      " 1.7689497716894977\n"
     ]
    }
   ],
   "source": [
    "print(\"The LASSO regression result:\\n\")\n",
    "print(\"The error rate of each validation:\\n\",Err_rate)\n",
    "print(\"\\n\")\n",
    "print(\"The mean squared error of each validation:\\n\",Sq_err)\n",
    "print(\"\\n\")\n",
    "print(\"The best lambda value of each validation:\\n\",Be_lam)\n",
    "print(\"\\n\")\n",
    "print(\"The best weighted values:\\n\",best_w)\n",
    "print(\"\\n\")\n",
    "print(\"The average number of misclassifications rate:\\n\",sum(Err_rate)/len(Err_rate))\n",
    "print(\"\\n\")\n",
    "print(\"The mean squared error:\\n\",sum(Sq_err)/len(Sq_err))"
   ]
  },
  {
   "cell_type": "code",
   "execution_count": 25,
   "metadata": {},
   "outputs": [
    {
     "data": {
      "image/png": "[encoded data removed]",
      "text/plain": [
       "<Figure size 432x288 with 1 Axes>"
      ]
     },
     "metadata": {
      "needs_background": "light"
     },
     "output_type": "display_data"
    },
    {
     "data": {
      "image/png": "[encoded data removed]",
      "text/plain": [
       "<Figure size 432x288 with 1 Axes>"
      ]
     },
     "metadata": {
      "needs_background": "light"
     },
     "output_type": "display_data"
    }
   ],
   "source": [
    "plt.plot(Err_rate,\"ro-\")\n",
    "plt.xlabel(\"validation time\",fontsize = 15)\n",
    "plt.ylabel(\"misclassification_rate\", fontsize = 15)\n",
    "plt.show()\n",
    "\n",
    "plt.figure()\n",
    "plt.plot(Sq_err,\"ro-\")\n",
    "plt.xlabel(\"validation time\",fontsize = 15)\n",
    "plt.ylabel(\"mean_square_error_rate\", fontsize = 15)\n",
    "plt.show()"
   ]
  },
  {
   "cell_type": "code",
   "execution_count": 26,
   "metadata": {},
   "outputs": [
    {
     "name": "stdout",
     "output_type": "stream",
     "text": [
      "testing_misclassification_rate: 0.5290322580645161\n",
      "mean_square_error_rate 2.1161290322580646\n"
     ]
    }
   ],
   "source": [
    "# Testing results\n",
    "y_hat3 = np.sign(X_test @ best_w).reshape(y_test.shape[0],1)\n",
    "error_vec3 = [0 if it[0]==it[1] else 1 for it in np.hstack((y_hat3, y_test))]\n",
    "err_rate3 = sum(error_vec3)/len(y_test)\n",
    "\n",
    "Sq_err_vec3 = [ (it[0]-it[1])**2 for it in np.hstack((y_hat3, y_test))]\n",
    "sq_err3 = sum(Sq_err_vec3)/len(y_test)\n",
    "\n",
    "print(\"testing_misclassification_rate:\",err_rate3)\n",
    "print(\"mean_square_error_rate\",sq_err3)"
   ]
  },
  {
   "cell_type": "markdown",
   "metadata": {},
   "source": [
    "# Truncated SVD"
   ]
  },
  {
   "cell_type": "code",
   "execution_count": 27,
   "metadata": {},
   "outputs": [],
   "source": [
    "Err_rate = []\n",
    "Sq_err = []\n",
    "Be_rank = []"
   ]
  },
  {
   "cell_type": "code",
   "execution_count": 28,
   "metadata": {},
   "outputs": [
    {
     "name": "stdout",
     "output_type": "stream",
     "text": [
      "\n",
      " iteration 0\n",
      "Validation error rate: 41.0958904109589 %\n",
      "Validation mean square error: 1.643835616438356\n",
      "\n",
      " iteration 1\n",
      "Validation error rate: 50.68493150684932 %\n",
      "Validation mean square error: 2.0273972602739727\n",
      "\n",
      " iteration 2\n",
      "Validation error rate: 48.61111111111111 %\n",
      "Validation mean square error: 1.9444444444444444\n",
      "\n",
      " iteration 3\n",
      "Validation error rate: 52.77777777777778 %\n",
      "Validation mean square error: 2.111111111111111\n",
      "\n",
      " iteration 4\n",
      "Validation error rate: 48.61111111111111 %\n",
      "Validation mean square error: 1.9444444444444444\n"
     ]
    }
   ],
   "source": [
    "for m in range(k_fold):\n",
    "    print(\"\\n iteration\", m)\n",
    "    X_train_r = X_train[id_train[m]]\n",
    "    y_train_r = y_train[id_train[m]]\n",
    "    X_val_r = X_train[id_val[m]]\n",
    "    y_val_r = y_train[id_val[m]]     \n",
    "#     print(X_train_r.shape, y_train_r.shape, X_val_r.shape, y_val_r.shape)\n",
    "    \n",
    "    #select lambda\n",
    "    U,s,VT = np.linalg.svd(X_train_r,full_matrices=False)\n",
    "    \n",
    "    Error_rate_low = 100\n",
    "    for r in range(len(s)):\n",
    "        W_SVD = VT.T[:,:(r+1)]@ np.diag(1/s[:(r+1)])@ U.T[:(r+1),:] @ y_train_r\n",
    "        \n",
    "        y_hat = np.sign(X_val_r @ W_SVD).reshape(y_val_r.shape[0],1)   \n",
    "        lam_error_vec = [0 if k[0]==k[1] else 1 for k in np.hstack((y_hat, y_val_r))]\n",
    "        lam_err_rate = sum(lam_error_vec)/len(y_val_r)\n",
    "        \n",
    "        if lam_err_rate < Error_rate_low:\n",
    "            Error_rate_low = lam_err_rate\n",
    "            best_rank = r+1\n",
    "            best_w = W_SVD\n",
    "            \n",
    "    #validation\n",
    "    y_hat2 = np.sign(X_val_r @ best_w)\n",
    "    error_vec = [0 if it1[0]==it1[1] else 1 for it1 in np.hstack((y_hat, y_val_r))]\n",
    "    err_rate = sum(error_vec)/len(y_val_r)\n",
    "    \n",
    "    Sq_err_vec = [ (it2[0]-it2[1])**2 for it2 in np.hstack((y_hat, y_val_r))]\n",
    "    sq_err = sum(Sq_err_vec)/len(y_val_r)\n",
    "    \n",
    "    Err_rate.append(err_rate)\n",
    "    Sq_err.append(sq_err)\n",
    "    Be_rank.append(best_rank)\n",
    "    \n",
    "    print(\"Validation error rate:\", err_rate*100,\"%\")\n",
    "    print(\"Validation mean square error:\", sq_err)"
   ]
  },
  {
   "cell_type": "code",
   "execution_count": 29,
   "metadata": {
    "scrolled": false
   },
   "outputs": [
    {
     "name": "stdout",
     "output_type": "stream",
     "text": [
      "The Truncated SVD result:\n",
      "\n",
      "The error rate of each validation:\n",
      " [0.410958904109589, 0.5068493150684932, 0.4861111111111111, 0.5277777777777778, 0.4861111111111111]\n",
      "\n",
      "\n",
      "The mean squared error of each validation:\n",
      " [1.643835616438356, 2.0273972602739727, 1.9444444444444444, 2.111111111111111, 1.9444444444444444]\n",
      "\n",
      "\n",
      "The best weighted values:\n",
      " [[ 0.0191759 ]\n",
      " [ 0.01884732]\n",
      " [ 0.10264142]\n",
      " [-0.01507769]\n",
      " [-0.01062672]\n",
      " [-0.00214061]\n",
      " [ 0.06172272]\n",
      " [-0.02085422]\n",
      " [ 0.03797311]\n",
      " [-0.08628553]\n",
      " [ 0.06698872]\n",
      " [ 0.03219334]]\n",
      "\n",
      "\n",
      "The best rank_approximation of each validation:\n",
      " [2, 2, 1, 2, 7]\n",
      "\n",
      "\n",
      "The average number of misclassifications rate:\n",
      " 0.48356164383561645\n",
      "\n",
      "\n",
      "The mean squared error:\n",
      " 1.9342465753424658\n"
     ]
    }
   ],
   "source": [
    "print(\"The Truncated SVD result:\\n\")\n",
    "print(\"The error rate of each validation:\\n\",Err_rate)\n",
    "print(\"\\n\")\n",
    "print(\"The mean squared error of each validation:\\n\",Sq_err)\n",
    "print(\"\\n\")\n",
    "print(\"The best weighted values:\\n\",best_w)\n",
    "print(\"\\n\")\n",
    "print(\"The best rank_approximation of each validation:\\n\",Be_rank)\n",
    "print(\"\\n\")\n",
    "print(\"The average number of misclassifications rate:\\n\",sum(Err_rate)/len(Err_rate))\n",
    "print(\"\\n\")\n",
    "print(\"The mean squared error:\\n\",sum(Sq_err)/len(Sq_err))"
   ]
  },
  {
   "cell_type": "code",
   "execution_count": 30,
   "metadata": {},
   "outputs": [
    {
     "data": {
      "image/png": "[encoded data removed]",
      "text/plain": [
       "<Figure size 432x288 with 1 Axes>"
      ]
     },
     "metadata": {
      "needs_background": "light"
     },
     "output_type": "display_data"
    },
    {
     "data": {
      "image/png": "[encoded data removed]",
      "text/plain": [
       "<Figure size 432x288 with 1 Axes>"
      ]
     },
     "metadata": {
      "needs_background": "light"
     },
     "output_type": "display_data"
    }
   ],
   "source": [
    "plt.plot(Err_rate,\"ro-\")\n",
    "plt.xlabel(\"validation time\",fontsize = 15)\n",
    "plt.ylabel(\"misclassification_rate\", fontsize = 15)\n",
    "plt.show()\n",
    "\n",
    "plt.figure()\n",
    "plt.plot(Sq_err,\"ro-\")\n",
    "plt.xlabel(\"validation time\",fontsize = 15)\n",
    "plt.ylabel(\"mean_square_error_rate\", fontsize = 15)\n",
    "plt.show()"
   ]
  },
  {
   "cell_type": "code",
   "execution_count": 31,
   "metadata": {},
   "outputs": [
    {
     "name": "stdout",
     "output_type": "stream",
     "text": [
      "testing_misclassification_rate: 0.5225806451612903\n",
      "mean_square_error_rate 2.0903225806451613\n"
     ]
    }
   ],
   "source": [
    "# Testing results\n",
    "y_hat3 = np.sign(X_test @ best_w).reshape(y_test.shape[0],1)\n",
    "error_vec3 = [0 if it[0]==it[1] else 1 for it in np.hstack((y_hat3, y_test))]\n",
    "err_rate3 = sum(error_vec3)/len(y_test)\n",
    "\n",
    "Sq_err_vec3 = [ (it[0]-it[1])**2 for it in np.hstack((y_hat3, y_test))]\n",
    "sq_err3 = sum(Sq_err_vec3)/len(y_test)\n",
    "\n",
    "print(\"testing_misclassification_rate:\",err_rate3)\n",
    "print(\"mean_square_error_rate\",sq_err3)"
   ]
  },
  {
   "cell_type": "markdown",
   "metadata": {},
   "source": [
    "As we can see after useing several linear regression approaches, the prediction result did not seems good, so let's do a feature selection to see whether if we can get good results.  "
   ]
  },
  {
   "cell_type": "markdown",
   "metadata": {},
   "source": [
    "# Feature selection results:"
   ]
  },
  {
   "cell_type": "code",
   "execution_count": 43,
   "metadata": {},
   "outputs": [],
   "source": [
    "features_selected = [\"month\",\"FFMC\",\"DC\",\"temp\",\"RH\",\"rain\"]"
   ]
  },
  {
   "cell_type": "code",
   "execution_count": 44,
   "metadata": {},
   "outputs": [],
   "source": [
    "X_train1 = pd.read_csv(\"training_data.csv\")[features_selected]\n",
    "y_train1 = pd.read_csv(\"training_label.csv\")\n",
    "X_test1 = pd.read_csv(\"testing_data.csv\")[features_selected]\n",
    "y_test1 = pd.read_csv(\"testing_label.csv\")"
   ]
  },
  {
   "cell_type": "code",
   "execution_count": 45,
   "metadata": {},
   "outputs": [
    {
     "data": {
      "text/html": [
       "<div>\n",
       "<style scoped>\n",
       "    .dataframe tbody tr th:only-of-type {\n",
       "        vertical-align: middle;\n",
       "    }\n",
       "\n",
       "    .dataframe tbody tr th {\n",
       "        vertical-align: top;\n",
       "    }\n",
       "\n",
       "    .dataframe thead th {\n",
       "        text-align: right;\n",
       "    }\n",
       "</style>\n",
       "<table border=\"1\" class=\"dataframe\">\n",
       "  <thead>\n",
       "    <tr style=\"text-align: right;\">\n",
       "      <th></th>\n",
       "      <th>month</th>\n",
       "      <th>FFMC</th>\n",
       "      <th>DC</th>\n",
       "      <th>temp</th>\n",
       "      <th>RH</th>\n",
       "      <th>rain</th>\n",
       "    </tr>\n",
       "  </thead>\n",
       "  <tbody>\n",
       "    <tr>\n",
       "      <th>0</th>\n",
       "      <td>7</td>\n",
       "      <td>94.2</td>\n",
       "      <td>442.9</td>\n",
       "      <td>23.0</td>\n",
       "      <td>36</td>\n",
       "      <td>0.0</td>\n",
       "    </tr>\n",
       "    <tr>\n",
       "      <th>1</th>\n",
       "      <td>9</td>\n",
       "      <td>92.4</td>\n",
       "      <td>668.0</td>\n",
       "      <td>19.0</td>\n",
       "      <td>34</td>\n",
       "      <td>0.0</td>\n",
       "    </tr>\n",
       "    <tr>\n",
       "      <th>2</th>\n",
       "      <td>2</td>\n",
       "      <td>86.9</td>\n",
       "      <td>18.7</td>\n",
       "      <td>8.8</td>\n",
       "      <td>35</td>\n",
       "      <td>0.0</td>\n",
       "    </tr>\n",
       "    <tr>\n",
       "      <th>3</th>\n",
       "      <td>5</td>\n",
       "      <td>85.1</td>\n",
       "      <td>113.8</td>\n",
       "      <td>11.3</td>\n",
       "      <td>94</td>\n",
       "      <td>0.0</td>\n",
       "    </tr>\n",
       "    <tr>\n",
       "      <th>4</th>\n",
       "      <td>9</td>\n",
       "      <td>92.4</td>\n",
       "      <td>668.0</td>\n",
       "      <td>19.6</td>\n",
       "      <td>33</td>\n",
       "      <td>0.0</td>\n",
       "    </tr>\n",
       "    <tr>\n",
       "      <th>...</th>\n",
       "      <td>...</td>\n",
       "      <td>...</td>\n",
       "      <td>...</td>\n",
       "      <td>...</td>\n",
       "      <td>...</td>\n",
       "      <td>...</td>\n",
       "    </tr>\n",
       "    <tr>\n",
       "      <th>357</th>\n",
       "      <td>8</td>\n",
       "      <td>94.9</td>\n",
       "      <td>587.1</td>\n",
       "      <td>23.4</td>\n",
       "      <td>40</td>\n",
       "      <td>0.0</td>\n",
       "    </tr>\n",
       "    <tr>\n",
       "      <th>358</th>\n",
       "      <td>9</td>\n",
       "      <td>92.5</td>\n",
       "      <td>674.4</td>\n",
       "      <td>18.2</td>\n",
       "      <td>46</td>\n",
       "      <td>0.0</td>\n",
       "    </tr>\n",
       "    <tr>\n",
       "      <th>359</th>\n",
       "      <td>3</td>\n",
       "      <td>91.4</td>\n",
       "      <td>74.3</td>\n",
       "      <td>18.2</td>\n",
       "      <td>29</td>\n",
       "      <td>0.0</td>\n",
       "    </tr>\n",
       "    <tr>\n",
       "      <th>360</th>\n",
       "      <td>3</td>\n",
       "      <td>91.2</td>\n",
       "      <td>97.8</td>\n",
       "      <td>15.8</td>\n",
       "      <td>27</td>\n",
       "      <td>0.0</td>\n",
       "    </tr>\n",
       "    <tr>\n",
       "      <th>361</th>\n",
       "      <td>8</td>\n",
       "      <td>93.6</td>\n",
       "      <td>542.0</td>\n",
       "      <td>28.3</td>\n",
       "      <td>32</td>\n",
       "      <td>0.0</td>\n",
       "    </tr>\n",
       "  </tbody>\n",
       "</table>\n",
       "<p>362 rows × 6 columns</p>\n",
       "</div>"
      ],
      "text/plain": [
       "     month  FFMC     DC  temp  RH  rain\n",
       "0        7  94.2  442.9  23.0  36   0.0\n",
       "1        9  92.4  668.0  19.0  34   0.0\n",
       "2        2  86.9   18.7   8.8  35   0.0\n",
       "3        5  85.1  113.8  11.3  94   0.0\n",
       "4        9  92.4  668.0  19.6  33   0.0\n",
       "..     ...   ...    ...   ...  ..   ...\n",
       "357      8  94.9  587.1  23.4  40   0.0\n",
       "358      9  92.5  674.4  18.2  46   0.0\n",
       "359      3  91.4   74.3  18.2  29   0.0\n",
       "360      3  91.2   97.8  15.8  27   0.0\n",
       "361      8  93.6  542.0  28.3  32   0.0\n",
       "\n",
       "[362 rows x 6 columns]"
      ]
     },
     "execution_count": 45,
     "metadata": {},
     "output_type": "execute_result"
    }
   ],
   "source": [
    "X_train1"
   ]
  },
  {
   "cell_type": "code",
   "execution_count": 46,
   "metadata": {},
   "outputs": [],
   "source": [
    "X_tr1 = np.asarray(X_train1)\n",
    "y_tr1 = np.asarray(y_train1)\n",
    "X_te1 = np.asarray(X_test1)\n",
    "y_te1 = np.asarray(y_test1)"
   ]
  },
  {
   "cell_type": "code",
   "execution_count": 47,
   "metadata": {},
   "outputs": [],
   "source": [
    "X_tr1 = z_score(X_tr1,0)\n",
    "X_te1 = z_score(X_te1,0)"
   ]
  },
  {
   "cell_type": "code",
   "execution_count": 48,
   "metadata": {},
   "outputs": [
    {
     "name": "stdout",
     "output_type": "stream",
     "text": [
      "lambda: [1.00000000e-10 2.39502662e-10 5.73615251e-10 1.37382380e-09\n",
      " 3.29034456e-09 7.88046282e-09 1.88739182e-08 4.52035366e-08\n",
      " 1.08263673e-07 2.59294380e-07 6.21016942e-07 1.48735211e-06\n",
      " 3.56224789e-06 8.53167852e-06 2.04335972e-05 4.89390092e-05\n",
      " 1.17210230e-04 2.80721620e-04 6.72335754e-04 1.61026203e-03\n",
      " 3.85662042e-03 9.23670857e-03 2.21221629e-02 5.29831691e-02\n",
      " 1.26896100e-01 3.03919538e-01 7.27895384e-01 1.74332882e+00\n",
      " 4.17531894e+00 1.00000000e+01]\n"
     ]
    }
   ],
   "source": [
    "Err_rate = []\n",
    "Sq_err = []\n",
    "Be_lam = []\n",
    "\n",
    "lam_vals = np.logspace(-10,1, num=30)\n",
    "print(\"lambda:\",lam_vals)"
   ]
  },
  {
   "cell_type": "code",
   "execution_count": 49,
   "metadata": {},
   "outputs": [
    {
     "name": "stdout",
     "output_type": "stream",
     "text": [
      "\n",
      " iteration 0\n",
      "Validation error rate: 49.31506849315068 %\n",
      "Validation mean square error: 1.9726027397260273\n",
      "\n",
      " iteration 1\n",
      "Validation error rate: 39.726027397260275 %\n",
      "Validation mean square error: 1.5890410958904109\n",
      "\n",
      " iteration 2\n",
      "Validation error rate: 45.83333333333333 %\n",
      "Validation mean square error: 1.8333333333333333\n",
      "\n",
      " iteration 3\n",
      "Validation error rate: 52.77777777777778 %\n",
      "Validation mean square error: 2.111111111111111\n",
      "\n",
      " iteration 4\n",
      "Validation error rate: 50.0 %\n",
      "Validation mean square error: 2.0\n"
     ]
    }
   ],
   "source": [
    "for m in range(k_fold):\n",
    "    print(\"\\n iteration\", m)\n",
    "    X_train_r = X_tr1[id_train[m]]\n",
    "    y_train_r = y_tr1[id_train[m]]\n",
    "    X_val_r = X_tr1[id_val[m]]\n",
    "    y_val_r = y_tr1[id_val[m]]     \n",
    "#     print(X_train_r.shape, y_train_r.shape, X_val_r.shape, y_val_r.shape)\n",
    "    \n",
    "    #select lambda\n",
    "    Error_rate_low = 100\n",
    "    for i in range(len(lam_vals)):\n",
    "        W_ridge = np.linalg.inv(X_train_r.T@X_train_r+lam_vals[i]*np.identity(X_train_r.shape[1]))@ X_train_r.T @y_train_r\n",
    "        y_hat = np.sign(X_val_r @ W_ridge)\n",
    "        lam_error_vec = [0 if k[0]==k[1] else 1 for k in np.hstack((y_hat, y_val_r))]\n",
    "        lam_err_rate = sum(lam_error_vec)/len(y_val_r)\n",
    "        \n",
    "        if lam_err_rate < Error_rate_low:\n",
    "            Error_rate_low = lam_err_rate\n",
    "            best_lam = lam_vals[i]\n",
    "            best_w = W_ridge\n",
    "            \n",
    "    #validation\n",
    "    y_hat2 = np.sign(X_val_r @ best_w)\n",
    "    error_vec = [0 if it1[0]==it1[1] else 1 for it1 in np.hstack((y_hat2, y_val_r))]\n",
    "    err_rate = sum(error_vec)/len(y_val_r)\n",
    "    \n",
    "    Sq_err_vec = [ (it2[0]-it2[1])**2 for it2 in np.hstack((y_hat2, y_val_r))]\n",
    "    sq_err = sum(Sq_err_vec)/len(y_val_r)\n",
    "    \n",
    "    Err_rate.append(err_rate)\n",
    "    Sq_err.append(sq_err)\n",
    "    Be_lam.append(best_lam)\n",
    "    \n",
    "    print(\"Validation error rate:\", err_rate*100,\"%\")\n",
    "    print(\"Validation mean square error:\", sq_err)"
   ]
  },
  {
   "cell_type": "code",
   "execution_count": 50,
   "metadata": {},
   "outputs": [
    {
     "name": "stdout",
     "output_type": "stream",
     "text": [
      "The Ridge regression of selected features result:\n",
      "\n",
      "The error rate of each validation:\n",
      " [0.4931506849315068, 0.3972602739726027, 0.4583333333333333, 0.5277777777777778, 0.5]\n",
      "\n",
      "\n",
      "The mean squared error of each validation:\n",
      " [1.9726027397260273, 1.5890410958904109, 1.8333333333333333, 2.111111111111111, 2.0]\n",
      "\n",
      "\n",
      "The best lambda value of each validation:\n",
      " [4.175318936560392, 10.0, 1e-10, 4.175318936560392, 1e-10]\n",
      "\n",
      "\n",
      "The best weighted values:\n",
      " [[ 0.21118849]\n",
      " [ 0.03479363]\n",
      " [-0.02236005]\n",
      " [-0.0492854 ]\n",
      " [-0.10500673]\n",
      " [ 0.04963009]]\n",
      "\n",
      "\n",
      "The average number of misclassifications rate:\n",
      " 0.47530441400304413\n",
      "\n",
      "\n",
      "The mean squared error:\n",
      " 1.9012176560121765\n"
     ]
    }
   ],
   "source": [
    "print(\"The Ridge regression of selected features result:\\n\")\n",
    "print(\"The error rate of each validation:\\n\",Err_rate)\n",
    "print(\"\\n\")\n",
    "print(\"The mean squared error of each validation:\\n\",Sq_err)\n",
    "print(\"\\n\")\n",
    "print(\"The best lambda value of each validation:\\n\",Be_lam)\n",
    "print(\"\\n\")\n",
    "print(\"The best weighted values:\\n\",best_w)\n",
    "print(\"\\n\")\n",
    "print(\"The average number of misclassifications rate:\\n\",sum(Err_rate)/len(Err_rate))\n",
    "print(\"\\n\")\n",
    "print(\"The mean squared error:\\n\",sum(Sq_err)/len(Sq_err))"
   ]
  },
  {
   "cell_type": "code",
   "execution_count": 51,
   "metadata": {
    "scrolled": false
   },
   "outputs": [
    {
     "data": {
      "image/png": "[encoded data removed]",
      "text/plain": [
       "<Figure size 432x288 with 1 Axes>"
      ]
     },
     "metadata": {
      "needs_background": "light"
     },
     "output_type": "display_data"
    },
    {
     "data": {
      "image/png": "[encoded data removed]",
      "text/plain": [
       "<Figure size 432x288 with 1 Axes>"
      ]
     },
     "metadata": {
      "needs_background": "light"
     },
     "output_type": "display_data"
    }
   ],
   "source": [
    "plt.plot(Err_rate,\"ro-\")\n",
    "plt.xlabel(\"validation time\",fontsize = 15)\n",
    "plt.ylabel(\"misclassification_rate\", fontsize = 15)\n",
    "plt.show()\n",
    "\n",
    "plt.figure()\n",
    "plt.plot(Sq_err,\"ro-\")\n",
    "plt.xlabel(\"validation time\",fontsize = 15)\n",
    "plt.ylabel(\"mean_square_error_rate\", fontsize = 15)\n",
    "plt.show()"
   ]
  },
  {
   "cell_type": "code",
   "execution_count": 52,
   "metadata": {},
   "outputs": [
    {
     "name": "stdout",
     "output_type": "stream",
     "text": [
      "testing_misclassification_rate: 0.4645161290322581\n",
      "mean_square_error_rate 1.8580645161290323\n"
     ]
    }
   ],
   "source": [
    "# Testing results\n",
    "y_hat3 = np.sign(X_test1 @ best_w)\n",
    "error_vec3 = [0 if it[0]==it[1] else 1 for it in np.hstack((y_hat3, y_test1))]\n",
    "err_rate3 = sum(error_vec3)/len(y_test1)\n",
    "\n",
    "Sq_err_vec3 = [ (it[0]-it[1])**2 for it in np.hstack((y_hat3, y_test1))]\n",
    "sq_err3 = sum(Sq_err_vec3)/len(y_test1)\n",
    "\n",
    "print(\"testing_misclassification_rate:\",err_rate3)\n",
    "print(\"mean_square_error_rate\",sq_err3)"
   ]
  },
  {
   "cell_type": "code",
   "execution_count": null,
   "metadata": {},
   "outputs": [],
   "source": []
  }
 ],
 "metadata": {
  "kernelspec": {
   "display_name": "Python 3",
   "language": "python",
   "name": "python3"
  },
  "language_info": {
   "codemirror_mode": {
    "name": "ipython",
    "version": 3
   },
   "file_extension": ".py",
   "mimetype": "text/x-python",
   "name": "python",
   "nbconvert_exporter": "python",
   "pygments_lexer": "ipython3",
   "version": "3.7.7"
  }
 },
 "nbformat": 4,
 "nbformat_minor": 4
}
