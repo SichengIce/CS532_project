{
 "cells": [
  {
   "cell_type": "code",
   "execution_count": 1,
   "metadata": {},
   "outputs": [],
   "source": [
    "import numpy as np\n",
    "import pandas as pd\n",
    "import matplotlib.pyplot as plt"
   ]
  },
  {
   "cell_type": "code",
   "execution_count": 2,
   "metadata": {},
   "outputs": [],
   "source": [
    "X_train = np.asarray(pd.read_csv(\"training_data.csv\"))\n",
    "y_train = np.asarray(pd.read_csv(\"training_label.csv\"))\n",
    "X_test = np.asarray(pd.read_csv(\"testing_data.csv\"))\n",
    "y_test = np.asarray(pd.read_csv(\"testing_label.csv\"))"
   ]
  },
  {
   "cell_type": "code",
   "execution_count": 3,
   "metadata": {},
   "outputs": [],
   "source": [
    "n_train = X_train.shape[0]\n",
    "n_test = X_test.shape[0]"
   ]
  },
  {
   "cell_type": "code",
   "execution_count": 4,
   "metadata": {},
   "outputs": [],
   "source": [
    "# normalize data (Min-Max Normalization)"
   ]
  },
  {
   "cell_type": "code",
   "execution_count": 5,
   "metadata": {},
   "outputs": [],
   "source": [
    "def noramlization(data):\n",
    "    minVals = data.min(0)\n",
    "    maxVals = data.max(0)\n",
    "    ranges = maxVals - minVals\n",
    "    normData = np.zeros(np.shape(data))\n",
    "    m = data.shape[0]\n",
    "    normData = data - np.tile(minVals, (m, 1))\n",
    "    normData = normData/np.tile(ranges, (m, 1))\n",
    "    return normData"
   ]
  },
  {
   "cell_type": "code",
   "execution_count": 41,
   "metadata": {},
   "outputs": [],
   "source": [
    "# def Z_ScoreNormalization(X):\n",
    "#     for i in range(X.shape[1]):\n",
    "#         for j in range(X.shape[0]):\n",
    "#             X[j,i] = (X[j,i] - np.mean(X[:,i])) / np.std(X[:,i])\n",
    "#     return X"
   ]
  },
  {
   "cell_type": "code",
   "execution_count": 6,
   "metadata": {},
   "outputs": [],
   "source": [
    "X_train = noramlization(X_train)\n",
    "X_test = noramlization(X_test)"
   ]
  },
  {
   "cell_type": "code",
   "execution_count": 7,
   "metadata": {},
   "outputs": [],
   "source": [
    "# First let's try the simple least square problem  "
   ]
  },
  {
   "cell_type": "markdown",
   "metadata": {},
   "source": [
    "# Least square solution "
   ]
  },
  {
   "cell_type": "code",
   "execution_count": 8,
   "metadata": {},
   "outputs": [
    {
     "name": "stdout",
     "output_type": "stream",
     "text": [
      "[[ 0.1116384 ]\n",
      " [ 0.09965056]\n",
      " [ 0.95537654]\n",
      " [-0.0418559 ]\n",
      " [-0.50626446]\n",
      " [ 0.19237256]\n",
      " [-0.13106946]\n",
      " [-0.06061458]\n",
      " [-0.04585082]\n",
      " [-0.54651914]\n",
      " [ 0.08322795]\n",
      " [ 1.0808357 ]]\n"
     ]
    }
   ],
   "source": [
    "w_opt = np.linalg.inv(X_train.T@X_train)@X_train.T@y_train\n",
    "print(w_opt)"
   ]
  },
  {
   "cell_type": "code",
   "execution_count": 9,
   "metadata": {},
   "outputs": [],
   "source": [
    "y_hat = np.sign(X_test@w_opt)"
   ]
  },
  {
   "cell_type": "code",
   "execution_count": 10,
   "metadata": {},
   "outputs": [
    {
     "name": "stdout",
     "output_type": "stream",
     "text": [
      "Errors: 81\n",
      "Error rate :\n",
      "0.5225806451612903\n"
     ]
    }
   ],
   "source": [
    "error_vec = [0 if i[0]==i[1] else 1 for i in np.hstack((y_hat, y_test))]\n",
    "\n",
    "print('Errors: '+ str(sum(error_vec)))\n",
    "print('Error rate :')\n",
    "print(sum(error_vec)/len(y_test))"
   ]
  },
  {
   "cell_type": "code",
   "execution_count": 11,
   "metadata": {},
   "outputs": [],
   "source": [
    "# Let's add one bias for train and test data  "
   ]
  },
  {
   "cell_type": "code",
   "execution_count": 12,
   "metadata": {},
   "outputs": [],
   "source": [
    "X_train1 = np.hstack((X_train, np.ones((n_train,1))))\n",
    "X_test1 = np.hstack((X_test, np.ones((n_test,1))))"
   ]
  },
  {
   "cell_type": "code",
   "execution_count": 13,
   "metadata": {},
   "outputs": [
    {
     "name": "stdout",
     "output_type": "stream",
     "text": [
      "[[ 0.10496047]\n",
      " [ 0.15358405]\n",
      " [ 0.99141339]\n",
      " [-0.03223689]\n",
      " [ 0.26803307]\n",
      " [ 0.09347687]\n",
      " [-0.14054122]\n",
      " [-0.20505733]\n",
      " [ 0.08603934]\n",
      " [-0.36125935]\n",
      " [ 0.14161628]\n",
      " [ 0.97718247]\n",
      " [-0.8185441 ]]\n"
     ]
    }
   ],
   "source": [
    "w_opt1 = np.linalg.inv(X_train1.T@X_train1)@X_train1.T@y_train\n",
    "print(w_opt1)"
   ]
  },
  {
   "cell_type": "code",
   "execution_count": 14,
   "metadata": {},
   "outputs": [
    {
     "name": "stdout",
     "output_type": "stream",
     "text": [
      "Errors: 77\n",
      "Error rate :\n",
      "0.4967741935483871\n"
     ]
    }
   ],
   "source": [
    "y_hat = np.sign(X_test1@w_opt1)\n",
    "\n",
    "error_vec = [0 if i[0]==i[1] else 1 for i in np.hstack((y_hat, y_test))]\n",
    "\n",
    "print('Errors: '+ str(sum(error_vec)))\n",
    "print('Error rate :')\n",
    "print(sum(error_vec)/len(y_test))"
   ]
  },
  {
   "cell_type": "code",
   "execution_count": 19,
   "metadata": {},
   "outputs": [],
   "source": [
    "# As we can see the result seems not good "
   ]
  },
  {
   "cell_type": "code",
   "execution_count": 20,
   "metadata": {},
   "outputs": [],
   "source": [
    "# Let's try the LASSO regression and Ridge regression "
   ]
  },
  {
   "cell_type": "markdown",
   "metadata": {},
   "source": [
    "# Ridge Regression "
   ]
  },
  {
   "cell_type": "code",
   "execution_count": 15,
   "metadata": {},
   "outputs": [
    {
     "data": {
      "text/plain": [
       "362"
      ]
     },
     "execution_count": 15,
     "metadata": {},
     "output_type": "execute_result"
    }
   ],
   "source": [
    "n_train = len(X_train)\n",
    "n_train"
   ]
  },
  {
   "cell_type": "code",
   "execution_count": 16,
   "metadata": {},
   "outputs": [],
   "source": [
    "k_fold = 6\n",
    "id_train = [[]] * k_fold\n",
    "id_val = [[]] * k_fold\n",
    "\n",
    "for m in range(k_fold):\n",
    "    id_val[m] = range(m, n_train, k_fold) # Indices of k_fold validation sets.\n",
    "    id_train[m] = np.setdiff1d(range(n_train), id_val[m])"
   ]
  },
  {
   "cell_type": "code",
   "execution_count": 17,
   "metadata": {},
   "outputs": [],
   "source": [
    "Err_rate = []\n",
    "Sq_err = []\n",
    "Be_lam = []"
   ]
  },
  {
   "cell_type": "code",
   "execution_count": 18,
   "metadata": {},
   "outputs": [
    {
     "name": "stdout",
     "output_type": "stream",
     "text": [
      "lambda: [1.00000000e-10 2.39502662e-10 5.73615251e-10 1.37382380e-09\n",
      " 3.29034456e-09 7.88046282e-09 1.88739182e-08 4.52035366e-08\n",
      " 1.08263673e-07 2.59294380e-07 6.21016942e-07 1.48735211e-06\n",
      " 3.56224789e-06 8.53167852e-06 2.04335972e-05 4.89390092e-05\n",
      " 1.17210230e-04 2.80721620e-04 6.72335754e-04 1.61026203e-03\n",
      " 3.85662042e-03 9.23670857e-03 2.21221629e-02 5.29831691e-02\n",
      " 1.26896100e-01 3.03919538e-01 7.27895384e-01 1.74332882e+00\n",
      " 4.17531894e+00 1.00000000e+01]\n"
     ]
    }
   ],
   "source": [
    "lam_vals = np.logspace(-10,1, num=30)\n",
    "print(\"lambda:\",lam_vals)"
   ]
  },
  {
   "cell_type": "code",
   "execution_count": 19,
   "metadata": {},
   "outputs": [
    {
     "name": "stdout",
     "output_type": "stream",
     "text": [
      "\n",
      " iteration 0\n",
      "Validation accuracy: 55.73770491803278 %\n",
      "\n",
      " iteration 1\n",
      "Validation accuracy: 50.81967213114754 %\n",
      "\n",
      " iteration 2\n",
      "Validation accuracy: 48.33333333333333 %\n",
      "\n",
      " iteration 3\n",
      "Validation accuracy: 55.00000000000001 %\n",
      "\n",
      " iteration 4\n",
      "Validation accuracy: 55.00000000000001 %\n",
      "\n",
      " iteration 5\n",
      "Validation accuracy: 44.99999999999999 %\n"
     ]
    }
   ],
   "source": [
    "for m in range(k_fold):\n",
    "    print(\"\\n iteration\", m)\n",
    "    X_train_r = X_train[id_train[m]]\n",
    "    y_train_r = y_train[id_train[m]]\n",
    "    X_val_r = X_train[id_val[m]]\n",
    "    y_val_r = y_train[id_val[m]]     \n",
    "#     print(X_train_r.shape, y_train_r.shape, X_val_r.shape, y_val_r.shape)\n",
    "    \n",
    "    #select lambda\n",
    "    Error_rate_low = 100\n",
    "    for i in range(len(lam_vals)):\n",
    "        W_ridge = np.linalg.inv(X_train_r.T@X_train_r+lam_vals[i]*np.identity(X_train_r.shape[1]))@ X_train_r.T @y_train_r\n",
    "        y_hat = np.sign(X_val_r @ W_ridge)\n",
    "        lam_error_vec = [0 if k[0]==k[1] else 1 for k in np.hstack((y_hat, y_val_r))]\n",
    "        lam_err_rate = sum(lam_error_vec)/len(y_val_r)\n",
    "        \n",
    "        if lam_err_rate < Error_rate_low:\n",
    "            Error_rate_low = lam_err_rate\n",
    "            best_lam = lam_vals[i]\n",
    "            best_w = W_ridge\n",
    "            \n",
    "    #validation\n",
    "    y_hat2 = np.sign(X_val_r @ best_w)\n",
    "    error_vec = [0 if it1[0]==it1[1] else 1 for it1 in np.hstack((y_hat, y_val_r))]\n",
    "    err_rate = sum(error_vec)/len(y_val_r)\n",
    "    \n",
    "    Sq_err_vec = [ (it2[0]-it2[1])**2 for it2 in np.hstack((y_hat, y_val_r))]\n",
    "    sq_err = sum(Sq_err_vec)/len(y_val_r)\n",
    "    \n",
    "    Err_rate.append(err_rate)\n",
    "    Sq_err.append(sq_err)\n",
    "    Be_lam.append(best_lam)\n",
    "    \n",
    "    print(\"Validation accuracy:\", (1-err_rate)*100,\"%\")"
   ]
  },
  {
   "cell_type": "code",
   "execution_count": 20,
   "metadata": {},
   "outputs": [
    {
     "name": "stdout",
     "output_type": "stream",
     "text": [
      "The Ridge regression result:\n",
      "\n",
      "The error rate of each validation:\n",
      " [0.4426229508196721, 0.4918032786885246, 0.5166666666666667, 0.45, 0.45, 0.55]\n",
      "\n",
      "\n",
      "The mean squared error of each validation:\n",
      " [1.7704918032786885, 1.9672131147540983, 2.066666666666667, 1.8, 1.8, 2.2]\n",
      "\n",
      "\n",
      "The best lambda value of each validation:\n",
      " [1e-10, 1.7433288221999872, 4.175318936560392, 4.175318936560392, 10.0, 0.3039195382313195]\n",
      "\n",
      "\n",
      "The average number of misclassifications rate:\n",
      " 0.4835154826958106\n",
      "\n",
      "\n",
      "The mean squared error:\n",
      " 1.9340619307832423\n"
     ]
    }
   ],
   "source": [
    "print(\"The Ridge regression result:\\n\")\n",
    "print(\"The error rate of each validation:\\n\",Err_rate)\n",
    "print(\"\\n\")\n",
    "print(\"The mean squared error of each validation:\\n\",Sq_err)\n",
    "print(\"\\n\")\n",
    "print(\"The best lambda value of each validation:\\n\",Be_lam)\n",
    "print(\"\\n\")\n",
    "print(\"The average number of misclassifications rate:\\n\",sum(Err_rate)/len(Err_rate))\n",
    "print(\"\\n\")\n",
    "print(\"The mean squared error:\\n\",sum(Sq_err)/len(Sq_err))"
   ]
  },
  {
   "cell_type": "code",
   "execution_count": 21,
   "metadata": {},
   "outputs": [
    {
     "data": {
      "image/png": "[encoded data removed]",
      "text/plain": [
       "<Figure size 432x288 with 1 Axes>"
      ]
     },
     "metadata": {
      "needs_background": "light"
     },
     "output_type": "display_data"
    },
    {
     "data": {
      "image/png": "[encoded data removed]",
      "text/plain": [
       "<Figure size 432x288 with 1 Axes>"
      ]
     },
     "metadata": {
      "needs_background": "light"
     },
     "output_type": "display_data"
    }
   ],
   "source": [
    "plt.plot(Err_rate,\"ro-\")\n",
    "plt.xlabel(\"validation time\",fontsize = 15)\n",
    "plt.ylabel(\"misclassification_rate\", fontsize = 15)\n",
    "plt.show()\n",
    "\n",
    "plt.figure()\n",
    "plt.plot(Sq_err,\"ro-\")\n",
    "plt.xlabel(\"validation time\",fontsize = 15)\n",
    "plt.ylabel(\"mean_square_error_rate\", fontsize = 15)\n",
    "plt.show()"
   ]
  },
  {
   "cell_type": "markdown",
   "metadata": {},
   "source": [
    "# LASSO Regression "
   ]
  },
  {
   "cell_type": "code",
   "execution_count": 22,
   "metadata": {},
   "outputs": [],
   "source": [
    "def ista_solve_hot( A, d, la_array ):\n",
    "    # ista_solve_hot: Iterative soft-thresholding for multiple values of\n",
    "    # lambda with hot start for each case - the converged value for the previous\n",
    "    # value of lambda is used as an initial condition for the current lambda.\n",
    "    # this function solves the minimization problem\n",
    "    # Minimize |Ax-d|_2^2 + lambda*|x|_1 (Lasso regression)\n",
    "    # using iterative soft-thresholding.\n",
    "    max_iter = 10**4\n",
    "    tol = 10**(-3)\n",
    "    tau = 1/np.linalg.norm(A,2)**2\n",
    "    n = A.shape[1]\n",
    "    w = np.zeros((n,1))\n",
    "    num_lam = len(la_array)\n",
    "    X = np.zeros((n, num_lam))\n",
    "    for i, each_lambda in enumerate(la_array):\n",
    "        for j in range(max_iter):\n",
    "            z = w - tau*(A.T@(A@w-d))\n",
    "            w_old = w\n",
    "            w = np.sign(z) * np.clip(np.abs(z)-tau*each_lambda/2, 0, np.inf)\n",
    "            X[:, i:i+1] = w\n",
    "            if np.linalg.norm(w - w_old) < tol:\n",
    "                break\n",
    "    return X"
   ]
  },
  {
   "cell_type": "code",
   "execution_count": 23,
   "metadata": {},
   "outputs": [
    {
     "name": "stdout",
     "output_type": "stream",
     "text": [
      "lambda: [1.00000000e-10 2.39502662e-10 5.73615251e-10 1.37382380e-09\n",
      " 3.29034456e-09 7.88046282e-09 1.88739182e-08 4.52035366e-08\n",
      " 1.08263673e-07 2.59294380e-07 6.21016942e-07 1.48735211e-06\n",
      " 3.56224789e-06 8.53167852e-06 2.04335972e-05 4.89390092e-05\n",
      " 1.17210230e-04 2.80721620e-04 6.72335754e-04 1.61026203e-03\n",
      " 3.85662042e-03 9.23670857e-03 2.21221629e-02 5.29831691e-02\n",
      " 1.26896100e-01 3.03919538e-01 7.27895384e-01 1.74332882e+00\n",
      " 4.17531894e+00 1.00000000e+01]\n"
     ]
    }
   ],
   "source": [
    "Err_rate = []\n",
    "Sq_err = []\n",
    "Be_lam = []\n",
    "\n",
    "lam_vals = np.logspace(-10,1, num=30)\n",
    "print(\"lambda:\",lam_vals)"
   ]
  },
  {
   "cell_type": "code",
   "execution_count": 24,
   "metadata": {},
   "outputs": [
    {
     "name": "stdout",
     "output_type": "stream",
     "text": [
      "\n",
      " iteration 0\n",
      "Validation accuracy: 63.934426229508205 %\n",
      "\n",
      " iteration 1\n",
      "Validation accuracy: 49.18032786885246 %\n",
      "\n",
      " iteration 2\n",
      "Validation accuracy: 40.0 %\n",
      "\n",
      " iteration 3\n",
      "Validation accuracy: 60.0 %\n",
      "\n",
      " iteration 4\n",
      "Validation accuracy: 53.333333333333336 %\n",
      "\n",
      " iteration 5\n",
      "Validation accuracy: 56.666666666666664 %\n"
     ]
    }
   ],
   "source": [
    "for m in range(k_fold):\n",
    "    print(\"\\n iteration\", m)\n",
    "    X_train_r = X_train[id_train[m]]\n",
    "    y_train_r = y_train[id_train[m]]\n",
    "    X_val_r = X_train[id_val[m]]\n",
    "    y_val_r = y_train[id_val[m]]     \n",
    "#     print(X_train_r.shape, y_train_r.shape, X_val_r.shape, y_val_r.shape)\n",
    "    \n",
    "    #select lambda\n",
    "    W_lasso = ista_solve_hot(X_train_r,y_train_r,lam_vals)\n",
    "    Error_rate_low = 100\n",
    "    for i in range(W_lasso.shape[1]):\n",
    "        y_hat = np.sign(X_val_r @ W_lasso[:,i]).reshape(y_val_r.shape[0],1)   \n",
    "        lam_error_vec = [0 if k[0]==k[1] else 1 for k in np.hstack((y_hat, y_val_r))]\n",
    "        lam_err_rate = sum(lam_error_vec)/len(y_val_r)\n",
    "        \n",
    "        if lam_err_rate < Error_rate_low:\n",
    "            Error_rate_low = lam_err_rate\n",
    "            best_lam = lam_vals[i]\n",
    "            best_w = W_lasso[:,i]\n",
    "            \n",
    "    #validation\n",
    "    y_hat2 = np.sign(X_val_r @ best_w)\n",
    "    error_vec = [0 if it1[0]==it1[1] else 1 for it1 in np.hstack((y_hat, y_val_r))]\n",
    "    err_rate = sum(error_vec)/len(y_val_r)\n",
    "    \n",
    "    Sq_err_vec = [ (it2[0]-it2[1])**2 for it2 in np.hstack((y_hat, y_val_r))]\n",
    "    sq_err = sum(Sq_err_vec)/len(y_val_r)\n",
    "    \n",
    "    Err_rate.append(err_rate)\n",
    "    Sq_err.append(sq_err)\n",
    "    Be_lam.append(best_lam)\n",
    "    \n",
    "    print(\"Validation accuracy:\", (1-err_rate)*100,\"%\")"
   ]
  },
  {
   "cell_type": "code",
   "execution_count": 25,
   "metadata": {},
   "outputs": [
    {
     "name": "stdout",
     "output_type": "stream",
     "text": [
      "The Ridge regression result:\n",
      "\n",
      "The error rate of each validation:\n",
      " [0.36065573770491804, 0.5081967213114754, 0.6, 0.4, 0.4666666666666667, 0.43333333333333335]\n",
      "\n",
      "\n",
      "The mean squared error of each validation:\n",
      " [1.4426229508196722, 2.0327868852459017, 2.4, 1.6, 1.8666666666666667, 1.7333333333333334]\n",
      "\n",
      "\n",
      "The best lambda value of each validation:\n",
      " [4.175318936560392, 1e-10, 4.175318936560392, 10.0, 10.0, 10.0]\n",
      "\n",
      "\n",
      "The average number of misclassifications rate:\n",
      " 0.4614754098360656\n",
      "\n",
      "\n",
      "The mean squared error:\n",
      " 1.8459016393442624\n"
     ]
    }
   ],
   "source": [
    "print(\"The LASSO regression result:\\n\")\n",
    "print(\"The error rate of each validation:\\n\",Err_rate)\n",
    "print(\"\\n\")\n",
    "print(\"The mean squared error of each validation:\\n\",Sq_err)\n",
    "print(\"\\n\")\n",
    "print(\"The best lambda value of each validation:\\n\",Be_lam)\n",
    "print(\"\\n\")\n",
    "print(\"The average number of misclassifications rate:\\n\",sum(Err_rate)/len(Err_rate))\n",
    "print(\"\\n\")\n",
    "print(\"The mean squared error:\\n\",sum(Sq_err)/len(Sq_err))"
   ]
  },
  {
   "cell_type": "code",
   "execution_count": 26,
   "metadata": {},
   "outputs": [
    {
     "data": {
      "image/png": "[encoded data removed]",
      "text/plain": [
       "<Figure size 432x288 with 1 Axes>"
      ]
     },
     "metadata": {
      "needs_background": "light"
     },
     "output_type": "display_data"
    },
    {
     "data": {
      "image/png": "[encoded data removed]",
      "text/plain": [
       "<Figure size 432x288 with 1 Axes>"
      ]
     },
     "metadata": {
      "needs_background": "light"
     },
     "output_type": "display_data"
    }
   ],
   "source": [
    "plt.plot(Err_rate,\"ro-\")\n",
    "plt.xlabel(\"validation time\",fontsize = 15)\n",
    "plt.ylabel(\"misclassification_rate\", fontsize = 15)\n",
    "plt.show()\n",
    "\n",
    "plt.figure()\n",
    "plt.plot(Sq_err,\"ro-\")\n",
    "plt.xlabel(\"validation time\",fontsize = 15)\n",
    "plt.ylabel(\"mean_square_error_rate\", fontsize = 15)\n",
    "plt.show()"
   ]
  },
  {
   "cell_type": "markdown",
   "metadata": {},
   "source": [
    "# Truncated SVD"
   ]
  },
  {
   "cell_type": "code",
   "execution_count": 47,
   "metadata": {},
   "outputs": [],
   "source": [
    "Err_rate = []\n",
    "Sq_err = []\n",
    "Be_rank = []"
   ]
  },
  {
   "cell_type": "code",
   "execution_count": 48,
   "metadata": {},
   "outputs": [
    {
     "name": "stdout",
     "output_type": "stream",
     "text": [
      "\n",
      " iteration 0\n",
      "Validation accuracy: 59.01639344262295 %\n",
      "\n",
      " iteration 1\n",
      "Validation accuracy: 50.81967213114754 %\n",
      "\n",
      " iteration 2\n",
      "Validation accuracy: 41.666666666666664 %\n",
      "\n",
      " iteration 3\n",
      "Validation accuracy: 51.66666666666666 %\n",
      "\n",
      " iteration 4\n",
      "Validation accuracy: 51.66666666666666 %\n",
      "\n",
      " iteration 5\n",
      "Validation accuracy: 46.666666666666664 %\n"
     ]
    }
   ],
   "source": [
    "for m in range(k_fold):\n",
    "    print(\"\\n iteration\", m)\n",
    "    X_train_r = X_train[id_train[m]]\n",
    "    y_train_r = y_train[id_train[m]]\n",
    "    X_val_r = X_train[id_val[m]]\n",
    "    y_val_r = y_train[id_val[m]]     \n",
    "#     print(X_train_r.shape, y_train_r.shape, X_val_r.shape, y_val_r.shape)\n",
    "    \n",
    "    #select lambda\n",
    "    U,s,VT = np.linalg.svd(X_train_r,full_matrices=False)\n",
    "    \n",
    "    Error_rate_low = 100\n",
    "    for r in range(len(s)):\n",
    "        W_SVD = VT.T[:,:(r+1)]@ np.diag(1/s[:(r+1)])@ U.T[:(r+1),:] @ y_train_r\n",
    "        \n",
    "        y_hat = np.sign(X_val_r @ W_SVD).reshape(y_val_r.shape[0],1)   \n",
    "        lam_error_vec = [0 if k[0]==k[1] else 1 for k in np.hstack((y_hat, y_val_r))]\n",
    "        lam_err_rate = sum(lam_error_vec)/len(y_val_r)\n",
    "        \n",
    "        if lam_err_rate < Error_rate_low:\n",
    "            Error_rate_low = lam_err_rate\n",
    "            best_rank = r+1\n",
    "            best_w = W_SVD\n",
    "            \n",
    "    #validation\n",
    "    y_hat2 = np.sign(X_val_r @ best_w)\n",
    "    error_vec = [0 if it1[0]==it1[1] else 1 for it1 in np.hstack((y_hat, y_val_r))]\n",
    "    err_rate = sum(error_vec)/len(y_val_r)\n",
    "    \n",
    "    Sq_err_vec = [ (it2[0]-it2[1])**2 for it2 in np.hstack((y_hat, y_val_r))]\n",
    "    sq_err = sum(Sq_err_vec)/len(y_val_r)\n",
    "    \n",
    "    Err_rate.append(err_rate)\n",
    "    Sq_err.append(sq_err)\n",
    "    Be_rank.append(best_rank)\n",
    "    \n",
    "    print(\"Validation accuracy:\", (1-err_rate)*100,\"%\")"
   ]
  },
  {
   "cell_type": "code",
   "execution_count": 49,
   "metadata": {},
   "outputs": [
    {
     "name": "stdout",
     "output_type": "stream",
     "text": [
      "The Truncated SVD result:\n",
      "\n",
      "The error rate of each validation:\n",
      " [0.4098360655737705, 0.4918032786885246, 0.5833333333333334, 0.48333333333333334, 0.48333333333333334, 0.5333333333333333]\n",
      "\n",
      "\n",
      "The mean squared error of each validation:\n",
      " [1.639344262295082, 1.9672131147540983, 2.3333333333333335, 1.9333333333333333, 1.9333333333333333, 2.1333333333333333]\n",
      "\n",
      "\n",
      "The best lambda value of each validation:\n",
      " [4, 1, 6, 2, 2, 2]\n",
      "\n",
      "\n",
      "The average number of misclassifications rate:\n",
      " 0.49749544626593806\n",
      "\n",
      "\n",
      "The mean squared error:\n",
      " 1.9899817850637522\n"
     ]
    }
   ],
   "source": [
    "print(\"The Truncated SVD result:\\n\")\n",
    "print(\"The error rate of each validation:\\n\",Err_rate)\n",
    "print(\"\\n\")\n",
    "print(\"The mean squared error of each validation:\\n\",Sq_err)\n",
    "print(\"\\n\")\n",
    "print(\"The best lambda value of each validation:\\n\",Be_rank)\n",
    "print(\"\\n\")\n",
    "print(\"The average number of misclassifications rate:\\n\",sum(Err_rate)/len(Err_rate))\n",
    "print(\"\\n\")\n",
    "print(\"The mean squared error:\\n\",sum(Sq_err)/len(Sq_err))"
   ]
  },
  {
   "cell_type": "code",
   "execution_count": 50,
   "metadata": {},
   "outputs": [
    {
     "data": {
      "image/png": "[encoded data removed]",
      "text/plain": [
       "<Figure size 432x288 with 1 Axes>"
      ]
     },
     "metadata": {
      "needs_background": "light"
     },
     "output_type": "display_data"
    },
    {
     "data": {
      "image/png": "[encoded data removed]",
      "text/plain": [
       "<Figure size 432x288 with 1 Axes>"
      ]
     },
     "metadata": {
      "needs_background": "light"
     },
     "output_type": "display_data"
    }
   ],
   "source": [
    "plt.plot(Err_rate,\"ro-\")\n",
    "plt.xlabel(\"validation time\",fontsize = 15)\n",
    "plt.ylabel(\"misclassification_rate\", fontsize = 15)\n",
    "plt.show()\n",
    "\n",
    "plt.figure()\n",
    "plt.plot(Sq_err,\"ro-\")\n",
    "plt.xlabel(\"validation time\",fontsize = 15)\n",
    "plt.ylabel(\"mean_square_error_rate\", fontsize = 15)\n",
    "plt.show()"
   ]
  },
  {
   "cell_type": "code",
   "execution_count": null,
   "metadata": {},
   "outputs": [],
   "source": []
  }
 ],
 "metadata": {
  "kernelspec": {
   "display_name": "Python 3",
   "language": "python",
   "name": "python3"
  },
  "language_info": {
   "codemirror_mode": {
    "name": "ipython",
    "version": 3
   },
   "file_extension": ".py",
   "mimetype": "text/x-python",
   "name": "python",
   "nbconvert_exporter": "python",
   "pygments_lexer": "ipython3",
   "version": "3.7.7"
  }
 },
 "nbformat": 4,
 "nbformat_minor": 4
}
