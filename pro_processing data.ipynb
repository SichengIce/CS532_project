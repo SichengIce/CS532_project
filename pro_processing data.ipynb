{
 "cells": [
  {
   "cell_type": "code",
   "execution_count": 2,
   "metadata": {},
   "outputs": [],
   "source": [
    "import pandas as pd\n",
    "import numpy as np\n",
    "import matplotlib.pyplot as plt"
   ]
  },
  {
   "cell_type": "code",
   "execution_count": 86,
   "metadata": {},
   "outputs": [
    {
     "data": {
      "text/html": [
       "<div>\n",
       "<style scoped>\n",
       "    .dataframe tbody tr th:only-of-type {\n",
       "        vertical-align: middle;\n",
       "    }\n",
       "\n",
       "    .dataframe tbody tr th {\n",
       "        vertical-align: top;\n",
       "    }\n",
       "\n",
       "    .dataframe thead th {\n",
       "        text-align: right;\n",
       "    }\n",
       "</style>\n",
       "<table border=\"1\" class=\"dataframe\">\n",
       "  <thead>\n",
       "    <tr style=\"text-align: right;\">\n",
       "      <th></th>\n",
       "      <th>X</th>\n",
       "      <th>Y</th>\n",
       "      <th>month</th>\n",
       "      <th>day</th>\n",
       "      <th>FFMC</th>\n",
       "      <th>DMC</th>\n",
       "      <th>DC</th>\n",
       "      <th>ISI</th>\n",
       "      <th>temp</th>\n",
       "      <th>RH</th>\n",
       "      <th>wind</th>\n",
       "      <th>rain</th>\n",
       "      <th>area</th>\n",
       "    </tr>\n",
       "  </thead>\n",
       "  <tbody>\n",
       "    <tr>\n",
       "      <th>0</th>\n",
       "      <td>7</td>\n",
       "      <td>5</td>\n",
       "      <td>mar</td>\n",
       "      <td>fri</td>\n",
       "      <td>86.2</td>\n",
       "      <td>26.2</td>\n",
       "      <td>94.3</td>\n",
       "      <td>5.1</td>\n",
       "      <td>8.2</td>\n",
       "      <td>51</td>\n",
       "      <td>6.7</td>\n",
       "      <td>0.0</td>\n",
       "      <td>0.0</td>\n",
       "    </tr>\n",
       "    <tr>\n",
       "      <th>1</th>\n",
       "      <td>7</td>\n",
       "      <td>4</td>\n",
       "      <td>oct</td>\n",
       "      <td>tue</td>\n",
       "      <td>90.6</td>\n",
       "      <td>35.4</td>\n",
       "      <td>669.1</td>\n",
       "      <td>6.7</td>\n",
       "      <td>18.0</td>\n",
       "      <td>33</td>\n",
       "      <td>0.9</td>\n",
       "      <td>0.0</td>\n",
       "      <td>0.0</td>\n",
       "    </tr>\n",
       "    <tr>\n",
       "      <th>2</th>\n",
       "      <td>7</td>\n",
       "      <td>4</td>\n",
       "      <td>oct</td>\n",
       "      <td>sat</td>\n",
       "      <td>90.6</td>\n",
       "      <td>43.7</td>\n",
       "      <td>686.9</td>\n",
       "      <td>6.7</td>\n",
       "      <td>14.6</td>\n",
       "      <td>33</td>\n",
       "      <td>1.3</td>\n",
       "      <td>0.0</td>\n",
       "      <td>0.0</td>\n",
       "    </tr>\n",
       "    <tr>\n",
       "      <th>3</th>\n",
       "      <td>8</td>\n",
       "      <td>6</td>\n",
       "      <td>mar</td>\n",
       "      <td>fri</td>\n",
       "      <td>91.7</td>\n",
       "      <td>33.3</td>\n",
       "      <td>77.5</td>\n",
       "      <td>9.0</td>\n",
       "      <td>8.3</td>\n",
       "      <td>97</td>\n",
       "      <td>4.0</td>\n",
       "      <td>0.2</td>\n",
       "      <td>0.0</td>\n",
       "    </tr>\n",
       "    <tr>\n",
       "      <th>4</th>\n",
       "      <td>8</td>\n",
       "      <td>6</td>\n",
       "      <td>mar</td>\n",
       "      <td>sun</td>\n",
       "      <td>89.3</td>\n",
       "      <td>51.3</td>\n",
       "      <td>102.2</td>\n",
       "      <td>9.6</td>\n",
       "      <td>11.4</td>\n",
       "      <td>99</td>\n",
       "      <td>1.8</td>\n",
       "      <td>0.0</td>\n",
       "      <td>0.0</td>\n",
       "    </tr>\n",
       "  </tbody>\n",
       "</table>\n",
       "</div>"
      ],
      "text/plain": [
       "   X  Y month  day  FFMC   DMC     DC  ISI  temp  RH  wind  rain  area\n",
       "0  7  5   mar  fri  86.2  26.2   94.3  5.1   8.2  51   6.7   0.0   0.0\n",
       "1  7  4   oct  tue  90.6  35.4  669.1  6.7  18.0  33   0.9   0.0   0.0\n",
       "2  7  4   oct  sat  90.6  43.7  686.9  6.7  14.6  33   1.3   0.0   0.0\n",
       "3  8  6   mar  fri  91.7  33.3   77.5  9.0   8.3  97   4.0   0.2   0.0\n",
       "4  8  6   mar  sun  89.3  51.3  102.2  9.6  11.4  99   1.8   0.0   0.0"
      ]
     },
     "execution_count": 86,
     "metadata": {},
     "output_type": "execute_result"
    }
   ],
   "source": [
    "file_name = 'forestfires.csv'\n",
    "df = pd.read_csv(file_name)\n",
    "df.head()"
   ]
  },
  {
   "cell_type": "code",
   "execution_count": 87,
   "metadata": {},
   "outputs": [
    {
     "name": "stdout",
     "output_type": "stream",
     "text": [
      "517\n"
     ]
    }
   ],
   "source": [
    "print(len(df))"
   ]
  },
  {
   "cell_type": "code",
   "execution_count": 89,
   "metadata": {},
   "outputs": [],
   "source": [
    "# transform the nominal variables\n",
    "for i in range(len(df)):\n",
    "    if df[\"month\"][i] == \"jan\":\n",
    "        df[\"month\"][i] = 1\n",
    "    if df[\"month\"][i] == \"feb\":\n",
    "        df[\"month\"][i] = 2\n",
    "    if df[\"month\"][i] == \"mar\":\n",
    "        df[\"month\"][i] = 3\n",
    "    if df[\"month\"][i] == \"apr\":\n",
    "        df[\"month\"][i] = 4\n",
    "    if df[\"month\"][i] == \"may\":\n",
    "        df[\"month\"][i] = 5\n",
    "    if df[\"month\"][i] == \"jun\":\n",
    "        df[\"month\"][i] = 6\n",
    "    if df[\"month\"][i] == \"jul\":\n",
    "        df[\"month\"][i] = 7\n",
    "    if df[\"month\"][i] == \"aug\":\n",
    "        df[\"month\"][i] = 8\n",
    "    if df[\"month\"][i] == \"sep\":\n",
    "        df[\"month\"][i] = 9\n",
    "    if df[\"month\"][i] == \"oct\":\n",
    "        df[\"month\"][i] = 10\n",
    "    if df[\"month\"][i] == \"nov\":\n",
    "        df[\"month\"][i] = 11\n",
    "    if df[\"month\"][i] == \"dec\":\n",
    "        df[\"month\"][i] = 12\n",
    "        \n",
    "    if df[\"day\"][i] == \"mon\":\n",
    "        df[\"day\"][i] = 1 \n",
    "    if df[\"day\"][i] == \"tue\":\n",
    "        df[\"day\"][i] = 2\n",
    "    if df[\"day\"][i] == \"wed\":\n",
    "        df[\"day\"][i] = 3\n",
    "    if df[\"day\"][i] == \"thu\":\n",
    "        df[\"day\"][i] = 4\n",
    "    if df[\"day\"][i] == \"fri\":\n",
    "        df[\"day\"][i] = 5\n",
    "    if df[\"day\"][i] == \"sat\":\n",
    "        df[\"day\"][i] = 6\n",
    "    if df[\"day\"][i] == \"sun\":\n",
    "        df[\"day\"][i] = 7"
   ]
  },
  {
   "cell_type": "code",
   "execution_count": 90,
   "metadata": {},
   "outputs": [],
   "source": [
    "df[[\"month\",\"day\"]] = df[[\"month\",\"day\"]].astype(\"int64\")"
   ]
  },
  {
   "cell_type": "code",
   "execution_count": 91,
   "metadata": {},
   "outputs": [
    {
     "data": {
      "text/plain": [
       "X          int64\n",
       "Y          int64\n",
       "month      int64\n",
       "day        int64\n",
       "FFMC     float64\n",
       "DMC      float64\n",
       "DC       float64\n",
       "ISI      float64\n",
       "temp     float64\n",
       "RH         int64\n",
       "wind     float64\n",
       "rain     float64\n",
       "area     float64\n",
       "dtype: object"
      ]
     },
     "execution_count": 91,
     "metadata": {},
     "output_type": "execute_result"
    }
   ],
   "source": [
    "df.dtypes"
   ]
  },
  {
   "cell_type": "code",
   "execution_count": 92,
   "metadata": {},
   "outputs": [
    {
     "data": {
      "text/html": [
       "<div>\n",
       "<style scoped>\n",
       "    .dataframe tbody tr th:only-of-type {\n",
       "        vertical-align: middle;\n",
       "    }\n",
       "\n",
       "    .dataframe tbody tr th {\n",
       "        vertical-align: top;\n",
       "    }\n",
       "\n",
       "    .dataframe thead th {\n",
       "        text-align: right;\n",
       "    }\n",
       "</style>\n",
       "<table border=\"1\" class=\"dataframe\">\n",
       "  <thead>\n",
       "    <tr style=\"text-align: right;\">\n",
       "      <th></th>\n",
       "      <th>X</th>\n",
       "      <th>Y</th>\n",
       "      <th>month</th>\n",
       "      <th>day</th>\n",
       "      <th>FFMC</th>\n",
       "      <th>DMC</th>\n",
       "      <th>DC</th>\n",
       "      <th>ISI</th>\n",
       "      <th>temp</th>\n",
       "      <th>RH</th>\n",
       "      <th>wind</th>\n",
       "      <th>rain</th>\n",
       "      <th>area</th>\n",
       "    </tr>\n",
       "  </thead>\n",
       "  <tbody>\n",
       "    <tr>\n",
       "      <th>0</th>\n",
       "      <td>7</td>\n",
       "      <td>5</td>\n",
       "      <td>3</td>\n",
       "      <td>5</td>\n",
       "      <td>86.2</td>\n",
       "      <td>26.2</td>\n",
       "      <td>94.3</td>\n",
       "      <td>5.1</td>\n",
       "      <td>8.2</td>\n",
       "      <td>51</td>\n",
       "      <td>6.7</td>\n",
       "      <td>0.0</td>\n",
       "      <td>0.0</td>\n",
       "    </tr>\n",
       "    <tr>\n",
       "      <th>1</th>\n",
       "      <td>7</td>\n",
       "      <td>4</td>\n",
       "      <td>10</td>\n",
       "      <td>2</td>\n",
       "      <td>90.6</td>\n",
       "      <td>35.4</td>\n",
       "      <td>669.1</td>\n",
       "      <td>6.7</td>\n",
       "      <td>18.0</td>\n",
       "      <td>33</td>\n",
       "      <td>0.9</td>\n",
       "      <td>0.0</td>\n",
       "      <td>0.0</td>\n",
       "    </tr>\n",
       "    <tr>\n",
       "      <th>2</th>\n",
       "      <td>7</td>\n",
       "      <td>4</td>\n",
       "      <td>10</td>\n",
       "      <td>6</td>\n",
       "      <td>90.6</td>\n",
       "      <td>43.7</td>\n",
       "      <td>686.9</td>\n",
       "      <td>6.7</td>\n",
       "      <td>14.6</td>\n",
       "      <td>33</td>\n",
       "      <td>1.3</td>\n",
       "      <td>0.0</td>\n",
       "      <td>0.0</td>\n",
       "    </tr>\n",
       "    <tr>\n",
       "      <th>3</th>\n",
       "      <td>8</td>\n",
       "      <td>6</td>\n",
       "      <td>3</td>\n",
       "      <td>5</td>\n",
       "      <td>91.7</td>\n",
       "      <td>33.3</td>\n",
       "      <td>77.5</td>\n",
       "      <td>9.0</td>\n",
       "      <td>8.3</td>\n",
       "      <td>97</td>\n",
       "      <td>4.0</td>\n",
       "      <td>0.2</td>\n",
       "      <td>0.0</td>\n",
       "    </tr>\n",
       "    <tr>\n",
       "      <th>4</th>\n",
       "      <td>8</td>\n",
       "      <td>6</td>\n",
       "      <td>3</td>\n",
       "      <td>7</td>\n",
       "      <td>89.3</td>\n",
       "      <td>51.3</td>\n",
       "      <td>102.2</td>\n",
       "      <td>9.6</td>\n",
       "      <td>11.4</td>\n",
       "      <td>99</td>\n",
       "      <td>1.8</td>\n",
       "      <td>0.0</td>\n",
       "      <td>0.0</td>\n",
       "    </tr>\n",
       "  </tbody>\n",
       "</table>\n",
       "</div>"
      ],
      "text/plain": [
       "   X  Y  month  day  FFMC   DMC     DC  ISI  temp  RH  wind  rain  area\n",
       "0  7  5      3    5  86.2  26.2   94.3  5.1   8.2  51   6.7   0.0   0.0\n",
       "1  7  4     10    2  90.6  35.4  669.1  6.7  18.0  33   0.9   0.0   0.0\n",
       "2  7  4     10    6  90.6  43.7  686.9  6.7  14.6  33   1.3   0.0   0.0\n",
       "3  8  6      3    5  91.7  33.3   77.5  9.0   8.3  97   4.0   0.2   0.0\n",
       "4  8  6      3    7  89.3  51.3  102.2  9.6  11.4  99   1.8   0.0   0.0"
      ]
     },
     "execution_count": 92,
     "metadata": {},
     "output_type": "execute_result"
    }
   ],
   "source": [
    "df.head()"
   ]
  },
  {
   "cell_type": "code",
   "execution_count": 75,
   "metadata": {},
   "outputs": [],
   "source": [
    "# # assign labels to burned area\n",
    "# df.loc[df['area'] <=1, 'area'] = 0\n",
    "# df.loc[df['area'] >1, 'area'] = 1"
   ]
  },
  {
   "cell_type": "code",
   "execution_count": 76,
   "metadata": {},
   "outputs": [],
   "source": [
    "# df.to_csv('new_ff.csv', index=False)\n"
   ]
  },
  {
   "cell_type": "code",
   "execution_count": 93,
   "metadata": {},
   "outputs": [],
   "source": [
    "# from sklearn import datasets,linear_model\n",
    "\n",
    "# label = df[\"area\"]\n",
    "# new_df = df.drop(columns=['area'])"
   ]
  },
  {
   "cell_type": "code",
   "execution_count": 94,
   "metadata": {},
   "outputs": [],
   "source": [
    "# X = (new_df.values).astype('float32')\n",
    "# y = (label.values).astype('float32')"
   ]
  },
  {
   "cell_type": "code",
   "execution_count": 95,
   "metadata": {},
   "outputs": [
    {
     "name": "stdout",
     "output_type": "stream",
     "text": [
      "[[ 7.   5.   3.  ... 51.   6.7  0. ]\n",
      " [ 7.   4.  10.  ... 33.   0.9  0. ]\n",
      " [ 7.   4.  10.  ... 33.   1.3  0. ]\n",
      " ...\n",
      " [ 7.   4.   8.  ... 70.   6.7  0. ]\n",
      " [ 1.   4.   8.  ... 42.   4.   0. ]\n",
      " [ 6.   3.  11.  ... 31.   4.5  0. ]]\n"
     ]
    }
   ],
   "source": [
    "# print(X)"
   ]
  },
  {
   "cell_type": "code",
   "execution_count": 103,
   "metadata": {},
   "outputs": [
    {
     "name": "stdout",
     "output_type": "stream",
     "text": [
      "[0.         0.         0.         0.         0.         0.\n",
      " 0.         0.         0.         0.         0.         0.\n",
      " 0.         0.         0.         0.         0.         0.\n",
      " 0.         0.         0.         0.         0.         0.\n",
      " 0.         0.         0.         0.         0.         0.\n",
      " 0.         0.         0.         0.         0.         0.\n",
      " 0.         0.         0.         0.         0.         0.\n",
      " 0.         0.         0.         0.         0.         0.\n",
      " 0.         0.         0.         0.         0.         0.\n",
      " 0.         0.         0.         0.         0.         0.\n",
      " 0.         0.         0.         0.         0.         0.\n",
      " 0.         0.         0.         0.         0.         0.\n",
      " 0.         0.         0.         0.         0.         0.\n",
      " 0.         0.         0.         0.         0.         0.\n",
      " 0.         0.         0.         0.         0.         0.\n",
      " 0.         0.         0.         0.         0.         0.\n",
      " 0.         0.         0.         0.         0.         0.\n",
      " 0.         0.         0.         0.         0.         0.\n",
      " 0.         0.         0.         0.         0.         0.\n",
      " 0.         0.         0.         0.         0.         0.\n",
      " 0.         0.         0.         0.         0.         0.\n",
      " 0.         0.         0.         0.         0.         0.\n",
      " 0.         0.         0.         0.         0.         0.\n",
      " 0.26810524 0.3057733  0.32588965 0.36343047 0.3894944  0.42950282\n",
      " 0.45169938 0.49582598 0.511523   0.51458526 0.54670346 0.56042457\n",
      " 0.5788029  0.6198567  0.63546044 0.6419388  0.6419388  0.6626917\n",
      " 0.67261297 0.67650133 0.6784289  0.6879041  0.6989309  0.72499007\n",
      " 0.731603   0.7332354  0.7428608  0.76277715 0.7843067  0.8134232\n",
      " 0.81593883 0.8184343  0.82090944 0.8353524  0.841173   0.87698543\n",
      " 0.91792035 0.997018   1.0023036  1.0074872  1.0194092  1.0400562\n",
      " 1.0456686  1.0517054  1.0982034  1.1177489  1.1231192  1.1263666\n",
      " 1.1323416  1.1366321  1.1404679  1.1704807  1.1728193  1.184809\n",
      " 1.1857548  1.2067988  1.2234236  1.2236906  1.2467611  1.2498714\n",
      " 1.2541076  1.2559648  1.2607667  1.2732971  1.2927039  1.3050429\n",
      " 1.3103263  1.320514   1.3350867  1.361341   1.3880845  1.4338917\n",
      " 1.441737   1.4576464  1.4587638  1.46894    1.4792835  1.4792835\n",
      " 1.4854766  1.4916127  1.5014042  1.5023551  1.5037721  1.5277221\n",
      " 1.5333407  1.5343074  1.5381777  1.5898436  1.5931857  1.6258247\n",
      " 1.6440179  1.6640822  1.7036797  1.7167164  1.7313251  1.7351267\n",
      " 1.7999073  1.8382672  1.841814   1.8508794  2.078894   0.\n",
      " 0.         0.         1.2266079  0.         0.8557992  0.44808632\n",
      " 0.08266484 0.44443953 0.         0.8083288  0.41791648 0.19483574\n",
      " 0.17447454 0.65454096 1.2320751  0.         1.1629771  0.41791648\n",
      " 0.         0.62438667 1.1901188  0.8995982  0.9776597  0.6626917\n",
      " 1.1053303  0.45882612 0.1458337  0.         0.         0.9882016\n",
      " 0.34974825 1.2027402  0.87902284 1.1940992  1.2529389  1.04843\n",
      " 1.3702953  1.2418897  1.419922   1.216918   1.2027402  1.4467334\n",
      " 0.         0.55499786 1.4418308  0.         0.         0.\n",
      " 0.         0.         0.         1.1622832  0.82941765 1.6994736\n",
      " 1.1066443  0.         0.49582598 0.         0.         0.\n",
      " 0.         0.9196898  0.         0.         0.         0.\n",
      " 0.2953449  1.0372041  0.         0.         0.         1.315657\n",
      " 0.         0.         0.6666951  0.         0.         0.94174033\n",
      " 0.         0.9888901  1.5185459  1.1331273  0.5295304  0.76866335\n",
      " 0.9895768  0.         0.         0.         0.         0.902422\n",
      " 1.1070807  1.338104   1.2536409  0.7612885  0.         0.\n",
      " 0.         1.6181504  1.1434933  0.6440715  0.9537172  0.\n",
      " 0.         0.76866335 1.0852213  1.0720372  1.4756382  0.\n",
      " 0.         0.6784289  0.93597096 1.1370184  0.7460064  0.693463\n",
      " 1.0789587  1.2928991  0.5962865  0.         0.         1.1664172\n",
      " 0.55225396 0.95449764 0.34974825 0.8623157  1.0628527  1.3977164\n",
      " 0.6989309  0.         1.2845403  0.         1.2498714  0.\n",
      " 0.         0.         1.3762705  1.5470499  0.         1.8194361\n",
      " 0.         0.         1.1527107  1.3487065  1.0735363  1.564698\n",
      " 1.2749997  1.3437034  1.4450824  0.         1.479897   0.\n",
      " 1.2220834  1.4906042  1.6626616  0.         0.         1.6026413\n",
      " 0.930081   0.9292295  0.         0.         1.1677794  1.0236701\n",
      " 0.         0.         1.0823501  0.         0.9552759  0.\n",
      " 1.1552294  0.         0.         1.002957   0.67650133 0.\n",
      " 0.         2.030309   1.1255587  0.         0.8044522  0.87493396\n",
      " 1.8293482  0.         1.0945623  0.43329057 1.0242732  0.\n",
      " 0.         0.79252195 0.         0.8899814  0.         1.097298\n",
      " 0.         1.3333197  0.         0.         0.35892007 0.\n",
      " 1.1004525  0.25089803 0.         0.58889806 0.9042893  0.\n",
      " 1.2220834  0.         0.         0.         0.         0.\n",
      " 1.1004525  1.2152622  0.         0.         0.         0.\n",
      " 0.         1.6915405  0.90148383 0.731603   0.         0.\n",
      " 0.93597096 1.0489788  0.76277715 1.1181662  0.8880193  1.0576046\n",
      " 1.1083854  1.6349554  0.         1.542399   0.731603   1.6614945\n",
      " 1.2252865  0.889002   0.70073366 1.1389408  0.7730072  1.8920738\n",
      " 0.8423237  0.         0.60352427 0.         1.4613178  0.752207\n",
      " 0.7412763  1.3497523  1.5820526  0.         0.         0.\n",
      " 0.         1.5668302  1.1819483  0.         0.8446121  1.322392\n",
      " 1.5532181  1.244095   0.         0.         0.         0.7332354\n",
      " 1.5940711  1.0705291  0.         0.         0.         0.76720196\n",
      " 0.3057733  0.         1.1008999  1.6119531  1.2522348  0.\n",
      " 0.        ]\n"
     ]
    }
   ],
   "source": [
    "# y = np.log(y+1)\n",
    "# print(y)"
   ]
  },
  {
   "cell_type": "code",
   "execution_count": 101,
   "metadata": {},
   "outputs": [
    {
     "name": "stdout",
     "output_type": "stream",
     "text": [
      "coefficients: [ 0.04259475 -0.00129013  0.15506381  0.00862481  0.00502991  0.00240059\n",
      " -0.00119776 -0.0249283   0.00730242 -0.00418998  0.05759247  0.08504339]\n",
      "intercept: -0.30476868\n"
     ]
    }
   ],
   "source": [
    "# regr = linear_model.LinearRegression()\n",
    "# regr.fit(X,y)\n",
    "\n",
    "# print(\"coefficients:\",regr.coef_)          \n",
    "# print(\"intercept:\",regr.intercept_)        "
   ]
  },
  {
   "cell_type": "code",
   "execution_count": 104,
   "metadata": {},
   "outputs": [
    {
     "name": "stdout",
     "output_type": "stream",
     "text": [
      "y_pred: (517,)\n"
     ]
    }
   ],
   "source": [
    "# y_pred =regr.predict(X)\n",
    "\n",
    "# print(\"y_pred:\",y_pred.shape)"
   ]
  },
  {
   "cell_type": "code",
   "execution_count": 110,
   "metadata": {},
   "outputs": [
    {
     "data": {
      "text/plain": [
       "0.686348384583794"
      ]
     },
     "execution_count": 110,
     "metadata": {},
     "output_type": "execute_result"
    }
   ],
   "source": [
    "# sum_sq = 0\n",
    "# for i in range(len(y_pred)):\n",
    "#     sum_sq += (y_pred[i]-y[i])**2\n",
    "    \n",
    "# sum_sq/len(y_pred)"
   ]
  },
  {
   "cell_type": "code",
   "execution_count": null,
   "metadata": {},
   "outputs": [],
   "source": []
  },
  {
   "cell_type": "code",
   "execution_count": null,
   "metadata": {},
   "outputs": [],
   "source": []
  }
 ],
 "metadata": {
  "kernelspec": {
   "display_name": "Python 3",
   "language": "python",
   "name": "python3"
  },
  "language_info": {
   "codemirror_mode": {
    "name": "ipython",
    "version": 3
   },
   "file_extension": ".py",
   "mimetype": "text/x-python",
   "name": "python",
   "nbconvert_exporter": "python",
   "pygments_lexer": "ipython3",
   "version": "3.7.7"
  }
 },
 "nbformat": 4,
 "nbformat_minor": 4
}
