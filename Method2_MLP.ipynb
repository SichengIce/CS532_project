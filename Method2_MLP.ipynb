{
 "cells": [
  {
   "cell_type": "markdown",
   "metadata": {},
   "source": [
    "# Multilayer perceptron back propagation"
   ]
  },
  {
   "cell_type": "code",
   "execution_count": 1,
   "metadata": {},
   "outputs": [],
   "source": [
    "import numpy as np\n",
    "import pandas as pd\n",
    "import matplotlib.pyplot as plt\n",
    "import seaborn as sns"
   ]
  },
  {
   "cell_type": "code",
   "execution_count": 2,
   "metadata": {},
   "outputs": [],
   "source": [
    "X_train = np.asarray(pd.read_csv(\"training_data.csv\"))\n",
    "y_train = np.asarray(pd.read_csv(\"training_label.csv\"))\n",
    "X_test = np.asarray(pd.read_csv(\"testing_data.csv\"))\n",
    "y_test = np.asarray(pd.read_csv(\"testing_label.csv\"))"
   ]
  },
  {
   "cell_type": "code",
   "execution_count": 3,
   "metadata": {},
   "outputs": [],
   "source": [
    "n_train = X_train.shape[0]\n",
    "n_test = X_test.shape[0]"
   ]
  },
  {
   "cell_type": "code",
   "execution_count": 4,
   "metadata": {},
   "outputs": [],
   "source": [
    "def z_score(x, axis):\n",
    "    xr = np.rollaxis(x, axis=axis)\n",
    "    xr -= np.mean(x, axis=axis)\n",
    "    xr /= np.std(x, axis=axis)\n",
    "    # print(x)\n",
    "    return x"
   ]
  },
  {
   "cell_type": "code",
   "execution_count": 5,
   "metadata": {},
   "outputs": [],
   "source": [
    "X_train = z_score(X_train,0)\n",
    "X_test = z_score(X_test,0)"
   ]
  },
  {
   "cell_type": "code",
   "execution_count": 6,
   "metadata": {},
   "outputs": [
    {
     "name": "stderr",
     "output_type": "stream",
     "text": [
      "Using TensorFlow backend.\n"
     ]
    }
   ],
   "source": [
    "from keras.models import Sequential\n",
    "from keras.utils import np_utils\n",
    "from keras.layers.core import Dense, Activation, Dropout"
   ]
  },
  {
   "cell_type": "code",
   "execution_count": 8,
   "metadata": {},
   "outputs": [],
   "source": [
    "# define the keras model\n",
    "model = Sequential()\n",
    "model.add(Dense(100, input_dim=X_train.shape[1], activation='relu'))\n",
    "model.add(Dense(100, activation='relu'))\n",
    "model.add(Dropout(0.2))\n",
    "model.add(Dense(1, activation='tanh'))"
   ]
  },
  {
   "cell_type": "code",
   "execution_count": 9,
   "metadata": {},
   "outputs": [],
   "source": [
    "# compile the keras model\n",
    "model.compile(loss='binary_crossentropy', optimizer='adam', metrics=['accuracy'])"
   ]
  },
  {
   "cell_type": "code",
   "execution_count": 20,
   "metadata": {},
   "outputs": [
    {
     "name": "stdout",
     "output_type": "stream",
     "text": [
      "Train on 289 samples, validate on 73 samples\n",
      "Epoch 1/60\n",
      " - 0s - loss: -3.9794e+00 - accuracy: 0.4394 - val_loss: 0.9798 - val_accuracy: 0.3288\n",
      "Epoch 2/60\n",
      " - 0s - loss: -3.8809e+00 - accuracy: 0.4740 - val_loss: 0.9981 - val_accuracy: 0.3288\n",
      "Epoch 3/60\n",
      " - 0s - loss: -3.9581e+00 - accuracy: 0.4533 - val_loss: 1.0494 - val_accuracy: 0.3425\n",
      "Epoch 4/60\n",
      " - 0s - loss: -3.6115e+00 - accuracy: 0.4533 - val_loss: 1.2085 - val_accuracy: 0.3425\n",
      "Epoch 5/60\n",
      " - 0s - loss: -3.6757e+00 - accuracy: 0.4533 - val_loss: 1.3466 - val_accuracy: 0.3425\n",
      "Epoch 6/60\n",
      " - 0s - loss: -3.6701e+00 - accuracy: 0.4602 - val_loss: 1.2000 - val_accuracy: 0.3425\n",
      "Epoch 7/60\n",
      " - 0s - loss: -3.4386e+00 - accuracy: 0.4533 - val_loss: 1.2064 - val_accuracy: 0.3425\n",
      "Epoch 8/60\n",
      " - 0s - loss: -3.6052e+00 - accuracy: 0.4325 - val_loss: 1.1940 - val_accuracy: 0.3425\n",
      "Epoch 9/60\n",
      " - 0s - loss: -3.9515e+00 - accuracy: 0.4464 - val_loss: 1.1812 - val_accuracy: 0.3425\n",
      "Epoch 10/60\n",
      " - 0s - loss: -3.8530e+00 - accuracy: 0.4256 - val_loss: 1.1701 - val_accuracy: 0.3425\n",
      "Epoch 11/60\n",
      " - 0s - loss: -3.8392e+00 - accuracy: 0.4429 - val_loss: 1.1760 - val_accuracy: 0.3425\n",
      "Epoch 12/60\n",
      " - 0s - loss: -3.4560e+00 - accuracy: 0.4637 - val_loss: 1.1757 - val_accuracy: 0.3425\n",
      "Epoch 13/60\n",
      " - 0s - loss: -3.7722e+00 - accuracy: 0.4429 - val_loss: 1.1712 - val_accuracy: 0.3425\n",
      "Epoch 14/60\n",
      " - 0s - loss: -3.8446e+00 - accuracy: 0.4533 - val_loss: 1.1657 - val_accuracy: 0.3288\n",
      "Epoch 15/60\n",
      " - 0s - loss: -3.8900e+00 - accuracy: 0.4256 - val_loss: 1.0456 - val_accuracy: 0.3288\n",
      "Epoch 16/60\n",
      " - 0s - loss: -3.7080e+00 - accuracy: 0.4360 - val_loss: 1.0025 - val_accuracy: 0.3288\n",
      "Epoch 17/60\n",
      " - 0s - loss: -3.8277e+00 - accuracy: 0.4464 - val_loss: 1.4972 - val_accuracy: 0.3425\n",
      "Epoch 18/60\n",
      " - 0s - loss: -3.7384e+00 - accuracy: 0.4637 - val_loss: 1.9944 - val_accuracy: 0.3699\n",
      "Epoch 19/60\n",
      " - 0s - loss: -3.3972e+00 - accuracy: 0.4913 - val_loss: 2.1264 - val_accuracy: 0.3699\n",
      "Epoch 20/60\n",
      " - 0s - loss: -3.0060e+00 - accuracy: 0.4948 - val_loss: 2.0876 - val_accuracy: 0.3836\n",
      "Epoch 21/60\n",
      " - 0s - loss: -2.9070e+00 - accuracy: 0.5225 - val_loss: 2.0461 - val_accuracy: 0.3562\n",
      "Epoch 22/60\n",
      " - 0s - loss: -2.6673e+00 - accuracy: 0.5398 - val_loss: 1.8506 - val_accuracy: 0.3699\n",
      "Epoch 23/60\n",
      " - 0s - loss: -2.5998e+00 - accuracy: 0.5363 - val_loss: 1.7032 - val_accuracy: 0.3699\n",
      "Epoch 24/60\n",
      " - 0s - loss: -2.5744e+00 - accuracy: 0.5433 - val_loss: 1.7098 - val_accuracy: 0.3699\n",
      "Epoch 25/60\n",
      " - 0s - loss: -2.6866e+00 - accuracy: 0.5536 - val_loss: 1.7343 - val_accuracy: 0.3699\n",
      "Epoch 26/60\n",
      " - 0s - loss: -2.6823e+00 - accuracy: 0.5398 - val_loss: 1.6857 - val_accuracy: 0.3699\n",
      "Epoch 27/60\n",
      " - 0s - loss: -2.5422e+00 - accuracy: 0.5398 - val_loss: 1.6654 - val_accuracy: 0.3699\n",
      "Epoch 28/60\n",
      " - 0s - loss: -2.7328e+00 - accuracy: 0.5433 - val_loss: 1.6815 - val_accuracy: 0.3699\n",
      "Epoch 29/60\n",
      " - 0s - loss: -2.6487e+00 - accuracy: 0.5433 - val_loss: 1.8321 - val_accuracy: 0.3699\n",
      "Epoch 30/60\n",
      " - 0s - loss: -2.6594e+00 - accuracy: 0.5398 - val_loss: 1.8661 - val_accuracy: 0.3699\n",
      "Epoch 31/60\n",
      " - 0s - loss: -2.6399e+00 - accuracy: 0.5294 - val_loss: 1.7374 - val_accuracy: 0.3699\n",
      "Epoch 32/60\n",
      " - 0s - loss: -2.8045e+00 - accuracy: 0.5329 - val_loss: 1.7249 - val_accuracy: 0.3699\n",
      "Epoch 33/60\n",
      " - 0s - loss: -3.0131e+00 - accuracy: 0.5536 - val_loss: 1.7260 - val_accuracy: 0.3699\n",
      "Epoch 34/60\n",
      " - 0s - loss: -3.0709e+00 - accuracy: 0.5433 - val_loss: 1.7297 - val_accuracy: 0.3836\n",
      "Epoch 35/60\n",
      " - 0s - loss: -2.8650e+00 - accuracy: 0.5363 - val_loss: 1.7332 - val_accuracy: 0.3836\n",
      "Epoch 36/60\n",
      " - 0s - loss: -3.0024e+00 - accuracy: 0.5190 - val_loss: 1.7371 - val_accuracy: 0.3699\n",
      "Epoch 37/60\n",
      " - 0s - loss: -3.0965e+00 - accuracy: 0.5225 - val_loss: 1.7430 - val_accuracy: 0.3699\n",
      "Epoch 38/60\n",
      " - 0s - loss: -3.0216e+00 - accuracy: 0.5329 - val_loss: 1.6048 - val_accuracy: 0.3699\n",
      "Epoch 39/60\n",
      " - 0s - loss: -2.8405e+00 - accuracy: 0.5433 - val_loss: 1.5906 - val_accuracy: 0.3699\n",
      "Epoch 40/60\n",
      " - 0s - loss: -2.8626e+00 - accuracy: 0.5294 - val_loss: 1.7254 - val_accuracy: 0.3699\n",
      "Epoch 41/60\n",
      " - 0s - loss: -3.0040e+00 - accuracy: 0.5260 - val_loss: 1.7366 - val_accuracy: 0.3699\n",
      "Epoch 42/60\n",
      " - 0s - loss: -2.9615e+00 - accuracy: 0.5502 - val_loss: 1.7377 - val_accuracy: 0.3699\n",
      "Epoch 43/60\n",
      " - 0s - loss: -3.1310e+00 - accuracy: 0.5225 - val_loss: 1.7216 - val_accuracy: 0.3836\n",
      "Epoch 44/60\n",
      " - 0s - loss: -2.8616e+00 - accuracy: 0.5467 - val_loss: 1.5575 - val_accuracy: 0.3699\n",
      "Epoch 45/60\n",
      " - 0s - loss: -2.7069e+00 - accuracy: 0.5156 - val_loss: 1.5532 - val_accuracy: 0.3836\n",
      "Epoch 46/60\n",
      " - 0s - loss: -2.6173e+00 - accuracy: 0.5536 - val_loss: 1.5531 - val_accuracy: 0.3836\n",
      "Epoch 47/60\n",
      " - 0s - loss: -2.5055e+00 - accuracy: 0.5363 - val_loss: 1.5618 - val_accuracy: 0.3836\n",
      "Epoch 48/60\n",
      " - 0s - loss: -2.5943e+00 - accuracy: 0.5433 - val_loss: 1.7124 - val_accuracy: 0.3699\n",
      "Epoch 49/60\n",
      " - 0s - loss: -2.2626e+00 - accuracy: 0.5363 - val_loss: 1.7047 - val_accuracy: 0.3699\n",
      "Epoch 50/60\n",
      " - 0s - loss: -2.5155e+00 - accuracy: 0.5536 - val_loss: 1.6944 - val_accuracy: 0.3699\n",
      "Epoch 51/60\n",
      " - 0s - loss: -2.3653e+00 - accuracy: 0.5329 - val_loss: 1.6400 - val_accuracy: 0.3699\n",
      "Epoch 52/60\n",
      " - 0s - loss: -2.6773e+00 - accuracy: 0.5536 - val_loss: 1.7014 - val_accuracy: 0.3699\n",
      "Epoch 53/60\n",
      " - 0s - loss: -2.8296e+00 - accuracy: 0.5398 - val_loss: 1.7243 - val_accuracy: 0.3836\n",
      "Epoch 54/60\n",
      " - 0s - loss: -2.5548e+00 - accuracy: 0.5502 - val_loss: 1.7330 - val_accuracy: 0.3836\n",
      "Epoch 55/60\n",
      " - 0s - loss: -2.6471e+00 - accuracy: 0.5225 - val_loss: 1.7393 - val_accuracy: 0.3836\n",
      "Epoch 56/60\n",
      " - 0s - loss: -2.8308e+00 - accuracy: 0.5190 - val_loss: 1.7461 - val_accuracy: 0.3836\n",
      "Epoch 57/60\n",
      " - 0s - loss: -2.9099e+00 - accuracy: 0.5329 - val_loss: 1.7519 - val_accuracy: 0.3836\n",
      "Epoch 58/60\n",
      " - 0s - loss: -2.9766e+00 - accuracy: 0.5363 - val_loss: 1.6002 - val_accuracy: 0.3836\n",
      "Epoch 59/60\n",
      " - 0s - loss: -2.7730e+00 - accuracy: 0.5398 - val_loss: 1.5957 - val_accuracy: 0.3836\n",
      "Epoch 60/60\n",
      " - 0s - loss: -2.9082e+00 - accuracy: 0.5329 - val_loss: 1.5956 - val_accuracy: 0.3836\n"
     ]
    }
   ],
   "source": [
    "# fit the keras model on the dataset\n",
    "history = model.fit(X_train, y_train, epochs=60, batch_size=128, validation_split=0.2, verbose=2, shuffle=True) "
   ]
  },
  {
   "cell_type": "code",
   "execution_count": 21,
   "metadata": {},
   "outputs": [
    {
     "name": "stdout",
     "output_type": "stream",
     "text": [
      "Model: \"sequential_2\"\n",
      "_________________________________________________________________\n",
      "Layer (type)                 Output Shape              Param #   \n",
      "=================================================================\n",
      "dense_4 (Dense)              (None, 100)               1300      \n",
      "_________________________________________________________________\n",
      "dense_5 (Dense)              (None, 100)               10100     \n",
      "_________________________________________________________________\n",
      "dropout_2 (Dropout)          (None, 100)               0         \n",
      "_________________________________________________________________\n",
      "dense_6 (Dense)              (None, 1)                 101       \n",
      "=================================================================\n",
      "Total params: 11,501\n",
      "Trainable params: 11,501\n",
      "Non-trainable params: 0\n",
      "_________________________________________________________________\n",
      "None\n"
     ]
    }
   ],
   "source": [
    "print(model.summary())"
   ]
  },
  {
   "cell_type": "code",
   "execution_count": 22,
   "metadata": {},
   "outputs": [
    {
     "data": {
      "image/png": "[encoded data removed]",
      "text/plain": [
       "<Figure size 432x288 with 1 Axes>"
      ]
     },
     "metadata": {
      "needs_background": "light"
     },
     "output_type": "display_data"
    },
    {
     "data": {
      "image/png": "[encoded data removed]",
      "text/plain": [
       "<Figure size 432x288 with 1 Axes>"
      ]
     },
     "metadata": {
      "needs_background": "light"
     },
     "output_type": "display_data"
    }
   ],
   "source": [
    "# Plot the training accuracy and loss\n",
    "acc = history.history['accuracy']\n",
    "loss = history.history['loss']\n",
    "val_acc = history.history['val_accuracy']\n",
    "val_loss = history.history['val_loss']\n",
    "epochs = range(1,len(acc)+1)\n",
    "\n",
    "plt.plot(epochs, val_acc,'r')\n",
    "plt.plot(epochs, acc,'b.')\n",
    "plt.title(\"Training Accuracy\")\n",
    "plt.show()\n",
    "\n",
    "plt.figure()\n",
    "plt.plot(epochs, val_loss,'r')\n",
    "plt.plot(epochs,loss,'b.')\n",
    "plt.title(\"Training Loss\")\n",
    "plt.show()"
   ]
  },
  {
   "cell_type": "code",
   "execution_count": 24,
   "metadata": {},
   "outputs": [
    {
     "name": "stdout",
     "output_type": "stream",
     "text": [
      "Training Accuracy: 61.87845303867403 %\n"
     ]
    }
   ],
   "source": [
    "y_train_pred = np.sign(model.predict(X_train))\n",
    "error_vec = [0 if k[0]==k[1] else 1 for k in np.hstack((y_train, y_train_pred))]\n",
    "err_rate = sum(error_vec)/len(y_train)\n",
    "print(\"Training Accuracy:\", (1- err_rate)*100, \"%\")"
   ]
  },
  {
   "cell_type": "code",
   "execution_count": 25,
   "metadata": {},
   "outputs": [],
   "source": [
    "# print(np.hstack((y_train, y_train_pred)))"
   ]
  },
  {
   "cell_type": "code",
   "execution_count": 26,
   "metadata": {},
   "outputs": [
    {
     "name": "stdout",
     "output_type": "stream",
     "text": [
      "Training square error: 1.5248618784530388\n"
     ]
    }
   ],
   "source": [
    "Sq_err_vec = [ (it[0]-it[1])**2 for it in np.hstack((y_train, y_train_pred))]\n",
    "sq_err = sum(Sq_err_vec)/len(y_train)\n",
    "print(\"Training square error:\",sq_err)"
   ]
  },
  {
   "cell_type": "code",
   "execution_count": 31,
   "metadata": {},
   "outputs": [
    {
     "name": "stdout",
     "output_type": "stream",
     "text": [
      "Testing Accuracy: 59.96774193548382 %\n"
     ]
    }
   ],
   "source": [
    "y_test_pred = np.sign(model.predict(X_test))\n",
    "test_error_vec = [0 if k[0]==k[1] else 1 for k in np.hstack((y_test, y_test_pred))]\n",
    "test_err_rate = sum(test_error_vec)/len(y_test)\n",
    "print(\"Testing Accuracy:\", (1- test_err_rate)*100, \"%\")"
   ]
  },
  {
   "cell_type": "code",
   "execution_count": 32,
   "metadata": {},
   "outputs": [
    {
     "name": "stdout",
     "output_type": "stream",
     "text": [
      "Testing square error: 1.8838709677419354\n"
     ]
    }
   ],
   "source": [
    "test_Sq_err_vec = [ (it[0]-it[1])**2 for it in np.hstack((y_test, y_test_pred))]\n",
    "test_sq_err = sum(test_Sq_err_vec)/len(y_test)\n",
    "print(\"Testing square error:\",test_sq_err)"
   ]
  },
  {
   "cell_type": "markdown",
   "metadata": {},
   "source": [
    "# Feature Selection"
   ]
  },
  {
   "cell_type": "code",
   "execution_count": 22,
   "metadata": {},
   "outputs": [
    {
     "data": {
      "image/png": "[encoded data removed]",
      "text/plain": [
       "<Figure size 720x720 with 2 Axes>"
      ]
     },
     "metadata": {
      "needs_background": "light"
     },
     "output_type": "display_data"
    }
   ],
   "source": [
    "X_train_ = pd.read_csv(\"training_data.csv\")\n",
    "y_train_ = pd.read_csv(\"training_label.csv\")\n",
    "cor = X_train_.corr()\n",
    "\n",
    "fig = plt.figure(figsize=(10,10))\n",
    "ax = sns.heatmap(cor, annot=True, cmap=plt.cm.Reds, square=True)\n",
    "bottom, top = ax.get_ylim()\n",
    "ax.set_ylim(bottom + 0.5, top - 0.5)\n",
    "plt.show()"
   ]
  },
  {
   "cell_type": "code",
   "execution_count": 23,
   "metadata": {},
   "outputs": [
    {
     "name": "stderr",
     "output_type": "stream",
     "text": [
      "c:\\users\\50221\\appdata\\local\\programs\\python\\python37\\lib\\site-packages\\sklearn\\utils\\validation.py:73: DataConversionWarning: A column-vector y was passed when a 1d array was expected. Please change the shape of y to (n_samples, ), for example using ravel().\n",
      "  return f(**kwargs)\n"
     ]
    },
    {
     "data": {
      "text/plain": [
       "SelectKBest(k='all',\n",
       "            score_func=<function mutual_info_classif at 0x0000014EFF4884C8>)"
      ]
     },
     "execution_count": 23,
     "metadata": {},
     "output_type": "execute_result"
    }
   ],
   "source": [
    "from sklearn.feature_selection import SelectKBest\n",
    "from sklearn.feature_selection import mutual_info_classif\n",
    "fs = SelectKBest(score_func=mutual_info_classif, k='all')\n",
    "fs.fit(X_train_, y_train_)"
   ]
  },
  {
   "cell_type": "code",
   "execution_count": 24,
   "metadata": {},
   "outputs": [
    {
     "name": "stdout",
     "output_type": "stream",
     "text": [
      "Feature X: 0.000000\n",
      "Feature Y: 0.002052\n",
      "Feature month: 0.024414\n",
      "Feature day: 0.000000\n",
      "Feature FFMC: 0.000000\n",
      "Feature DMC: 0.007282\n",
      "Feature DC: 0.017781\n",
      "Feature ISI: 0.000000\n",
      "Feature temp: 0.000000\n",
      "Feature RH: 0.026152\n",
      "Feature wind: 0.003029\n",
      "Feature rain: 0.000000\n"
     ]
    }
   ],
   "source": [
    "for i in range(len(fs.scores_)):\n",
    "    print('Feature %s: %f' % (X_train_.columns[i], fs.scores_[i]))"
   ]
  },
  {
   "cell_type": "code",
   "execution_count": 25,
   "metadata": {},
   "outputs": [
    {
     "data": {
      "image/png": "[encoded data removed]",
      "text/plain": [
       "<Figure size 432x288 with 1 Axes>"
      ]
     },
     "metadata": {
      "needs_background": "light"
     },
     "output_type": "display_data"
    }
   ],
   "source": [
    "plt.figure()\n",
    "plt.bar(X_train_.columns, fs.scores_)\n",
    "plt.show()"
   ]
  },
  {
   "cell_type": "code",
   "execution_count": 26,
   "metadata": {},
   "outputs": [],
   "source": [
    "features_selected = [\"month\",\"DMC\",\"DC\",\"RH\",\"wind\"]"
   ]
  },
  {
   "cell_type": "code",
   "execution_count": 27,
   "metadata": {},
   "outputs": [],
   "source": [
    "X_train1 = pd.read_csv(\"training_data.csv\")[features_selected]\n",
    "y_train1 = pd.read_csv(\"training_label.csv\")\n",
    "X_test1 = pd.read_csv(\"testing_data.csv\")[features_selected]\n",
    "y_test1 = pd.read_csv(\"testing_label.csv\")"
   ]
  },
  {
   "cell_type": "code",
   "execution_count": 28,
   "metadata": {},
   "outputs": [
    {
     "data": {
      "text/html": [
       "<div>\n",
       "<style scoped>\n",
       "    .dataframe tbody tr th:only-of-type {\n",
       "        vertical-align: middle;\n",
       "    }\n",
       "\n",
       "    .dataframe tbody tr th {\n",
       "        vertical-align: top;\n",
       "    }\n",
       "\n",
       "    .dataframe thead th {\n",
       "        text-align: right;\n",
       "    }\n",
       "</style>\n",
       "<table border=\"1\" class=\"dataframe\">\n",
       "  <thead>\n",
       "    <tr style=\"text-align: right;\">\n",
       "      <th></th>\n",
       "      <th>month</th>\n",
       "      <th>DMC</th>\n",
       "      <th>DC</th>\n",
       "      <th>RH</th>\n",
       "      <th>wind</th>\n",
       "    </tr>\n",
       "  </thead>\n",
       "  <tbody>\n",
       "    <tr>\n",
       "      <th>0</th>\n",
       "      <td>7</td>\n",
       "      <td>62.3</td>\n",
       "      <td>442.9</td>\n",
       "      <td>36</td>\n",
       "      <td>3.1</td>\n",
       "    </tr>\n",
       "    <tr>\n",
       "      <th>1</th>\n",
       "      <td>9</td>\n",
       "      <td>117.9</td>\n",
       "      <td>668.0</td>\n",
       "      <td>34</td>\n",
       "      <td>5.8</td>\n",
       "    </tr>\n",
       "    <tr>\n",
       "      <th>2</th>\n",
       "      <td>2</td>\n",
       "      <td>6.6</td>\n",
       "      <td>18.7</td>\n",
       "      <td>35</td>\n",
       "      <td>3.1</td>\n",
       "    </tr>\n",
       "    <tr>\n",
       "      <th>3</th>\n",
       "      <td>5</td>\n",
       "      <td>28.0</td>\n",
       "      <td>113.8</td>\n",
       "      <td>94</td>\n",
       "      <td>4.9</td>\n",
       "    </tr>\n",
       "    <tr>\n",
       "      <th>4</th>\n",
       "      <td>9</td>\n",
       "      <td>117.9</td>\n",
       "      <td>668.0</td>\n",
       "      <td>33</td>\n",
       "      <td>5.4</td>\n",
       "    </tr>\n",
       "    <tr>\n",
       "      <th>...</th>\n",
       "      <td>...</td>\n",
       "      <td>...</td>\n",
       "      <td>...</td>\n",
       "      <td>...</td>\n",
       "      <td>...</td>\n",
       "    </tr>\n",
       "    <tr>\n",
       "      <th>357</th>\n",
       "      <td>8</td>\n",
       "      <td>130.3</td>\n",
       "      <td>587.1</td>\n",
       "      <td>40</td>\n",
       "      <td>5.8</td>\n",
       "    </tr>\n",
       "    <tr>\n",
       "      <th>358</th>\n",
       "      <td>9</td>\n",
       "      <td>121.1</td>\n",
       "      <td>674.4</td>\n",
       "      <td>46</td>\n",
       "      <td>1.8</td>\n",
       "    </tr>\n",
       "    <tr>\n",
       "      <th>359</th>\n",
       "      <td>3</td>\n",
       "      <td>30.7</td>\n",
       "      <td>74.3</td>\n",
       "      <td>29</td>\n",
       "      <td>3.1</td>\n",
       "    </tr>\n",
       "    <tr>\n",
       "      <th>360</th>\n",
       "      <td>3</td>\n",
       "      <td>48.3</td>\n",
       "      <td>97.8</td>\n",
       "      <td>27</td>\n",
       "      <td>7.6</td>\n",
       "    </tr>\n",
       "    <tr>\n",
       "      <th>361</th>\n",
       "      <td>8</td>\n",
       "      <td>97.9</td>\n",
       "      <td>542.0</td>\n",
       "      <td>32</td>\n",
       "      <td>4.0</td>\n",
       "    </tr>\n",
       "  </tbody>\n",
       "</table>\n",
       "<p>362 rows × 5 columns</p>\n",
       "</div>"
      ],
      "text/plain": [
       "     month    DMC     DC  RH  wind\n",
       "0        7   62.3  442.9  36   3.1\n",
       "1        9  117.9  668.0  34   5.8\n",
       "2        2    6.6   18.7  35   3.1\n",
       "3        5   28.0  113.8  94   4.9\n",
       "4        9  117.9  668.0  33   5.4\n",
       "..     ...    ...    ...  ..   ...\n",
       "357      8  130.3  587.1  40   5.8\n",
       "358      9  121.1  674.4  46   1.8\n",
       "359      3   30.7   74.3  29   3.1\n",
       "360      3   48.3   97.8  27   7.6\n",
       "361      8   97.9  542.0  32   4.0\n",
       "\n",
       "[362 rows x 5 columns]"
      ]
     },
     "execution_count": 28,
     "metadata": {},
     "output_type": "execute_result"
    }
   ],
   "source": [
    "X_train1"
   ]
  },
  {
   "cell_type": "code",
   "execution_count": 29,
   "metadata": {},
   "outputs": [],
   "source": [
    "X_tr1 = np.asarray(X_train1)\n",
    "y_tr1 = np.asarray(y_train1)\n",
    "X_te1 = np.asarray(X_test1)\n",
    "y_te1 = np.asarray(y_test1)"
   ]
  },
  {
   "cell_type": "code",
   "execution_count": 30,
   "metadata": {},
   "outputs": [],
   "source": [
    "X_tr1 = z_score(X_tr1,0)\n",
    "X_te1 = z_score(X_te1,0)"
   ]
  },
  {
   "cell_type": "code",
   "execution_count": 56,
   "metadata": {},
   "outputs": [],
   "source": [
    "model2 = Sequential()\n",
    "model2.add(Dense(100, input_dim=X_tr1.shape[1], activation='relu'))\n",
    "model2.add(Dense(100, activation='relu'))\n",
    "model2.add(Dropout(0.2))\n",
    "model2.add(Dense(1, activation='tanh'))"
   ]
  },
  {
   "cell_type": "code",
   "execution_count": 57,
   "metadata": {},
   "outputs": [],
   "source": [
    "model2.compile(loss='binary_crossentropy', optimizer='adam', metrics=['accuracy'])"
   ]
  },
  {
   "cell_type": "code",
   "execution_count": 65,
   "metadata": {},
   "outputs": [
    {
     "name": "stdout",
     "output_type": "stream",
     "text": [
      "Train on 289 samples, validate on 73 samples\n",
      "Epoch 1/100\n",
      " - 0s - loss: -2.8134e+00 - accuracy: 0.3702 - val_loss: 2.1941 - val_accuracy: 0.1918\n",
      "Epoch 2/100\n",
      " - 0s - loss: -2.4584e+00 - accuracy: 0.3460 - val_loss: 2.2238 - val_accuracy: 0.2055\n",
      "Epoch 3/100\n",
      " - 0s - loss: -2.0330e+00 - accuracy: 0.3668 - val_loss: 1.9470 - val_accuracy: 0.2055\n",
      "Epoch 4/100\n",
      " - 0s - loss: -2.3327e+00 - accuracy: 0.3945 - val_loss: 1.9445 - val_accuracy: 0.2055\n",
      "Epoch 5/100\n",
      " - 0s - loss: -2.4075e+00 - accuracy: 0.3391 - val_loss: 1.9857 - val_accuracy: 0.2055\n",
      "Epoch 6/100\n",
      " - 0s - loss: -2.5391e+00 - accuracy: 0.3599 - val_loss: 2.0223 - val_accuracy: 0.2055\n",
      "Epoch 7/100\n",
      " - 0s - loss: -2.1086e+00 - accuracy: 0.3564 - val_loss: 1.9788 - val_accuracy: 0.2055\n",
      "Epoch 8/100\n",
      " - 0s - loss: -2.2637e+00 - accuracy: 0.3806 - val_loss: 1.8469 - val_accuracy: 0.2055\n",
      "Epoch 9/100\n",
      " - 0s - loss: -2.3994e+00 - accuracy: 0.3668 - val_loss: 1.9232 - val_accuracy: 0.2192\n",
      "Epoch 10/100\n",
      " - 0s - loss: -2.5358e+00 - accuracy: 0.3875 - val_loss: 2.0214 - val_accuracy: 0.2329\n",
      "Epoch 11/100\n",
      " - 0s - loss: -2.5518e+00 - accuracy: 0.3633 - val_loss: 1.9367 - val_accuracy: 0.2192\n",
      "Epoch 12/100\n",
      " - 0s - loss: -2.5218e+00 - accuracy: 0.3806 - val_loss: 1.9390 - val_accuracy: 0.2329\n",
      "Epoch 13/100\n",
      " - 0s - loss: -2.3063e+00 - accuracy: 0.3945 - val_loss: 1.9150 - val_accuracy: 0.2192\n",
      "Epoch 14/100\n",
      " - 0s - loss: -2.3713e+00 - accuracy: 0.4221 - val_loss: 1.8846 - val_accuracy: 0.2329\n",
      "Epoch 15/100\n",
      " - 0s - loss: -2.0456e+00 - accuracy: 0.4048 - val_loss: 1.7158 - val_accuracy: 0.2466\n",
      "Epoch 16/100\n",
      " - 0s - loss: -1.9592e+00 - accuracy: 0.3841 - val_loss: 1.7142 - val_accuracy: 0.2466\n",
      "Epoch 17/100\n",
      " - 0s - loss: -2.2408e+00 - accuracy: 0.4014 - val_loss: 1.7132 - val_accuracy: 0.2466\n",
      "Epoch 18/100\n",
      " - 0s - loss: -2.2318e+00 - accuracy: 0.4221 - val_loss: 1.7132 - val_accuracy: 0.2466\n",
      "Epoch 19/100\n",
      " - 0s - loss: -2.3060e+00 - accuracy: 0.4014 - val_loss: 1.7139 - val_accuracy: 0.2466\n",
      "Epoch 20/100\n",
      " - 0s - loss: -2.2728e+00 - accuracy: 0.3910 - val_loss: 1.7143 - val_accuracy: 0.2466\n",
      "Epoch 21/100\n",
      " - 0s - loss: -2.1924e+00 - accuracy: 0.4152 - val_loss: 1.7158 - val_accuracy: 0.2329\n",
      "Epoch 22/100\n",
      " - 0s - loss: -2.1943e+00 - accuracy: 0.4083 - val_loss: 1.7170 - val_accuracy: 0.2329\n",
      "Epoch 23/100\n",
      " - 0s - loss: -1.9710e+00 - accuracy: 0.4152 - val_loss: 1.7174 - val_accuracy: 0.2329\n",
      "Epoch 24/100\n",
      " - 0s - loss: -2.1213e+00 - accuracy: 0.4152 - val_loss: 1.7176 - val_accuracy: 0.2329\n",
      "Epoch 25/100\n",
      " - 0s - loss: -2.3842e+00 - accuracy: 0.4083 - val_loss: 1.7185 - val_accuracy: 0.2329\n",
      "Epoch 26/100\n",
      " - 0s - loss: -2.2535e+00 - accuracy: 0.4152 - val_loss: 1.7181 - val_accuracy: 0.2329\n",
      "Epoch 27/100\n",
      " - 0s - loss: -2.4341e+00 - accuracy: 0.4187 - val_loss: 1.7155 - val_accuracy: 0.2329\n",
      "Epoch 28/100\n",
      " - 0s - loss: -2.3429e+00 - accuracy: 0.4187 - val_loss: 1.7140 - val_accuracy: 0.2329\n",
      "Epoch 29/100\n",
      " - 0s - loss: -2.1489e+00 - accuracy: 0.4152 - val_loss: 1.7139 - val_accuracy: 0.2329\n",
      "Epoch 30/100\n",
      " - 0s - loss: -2.3691e+00 - accuracy: 0.4048 - val_loss: 1.7137 - val_accuracy: 0.2329\n",
      "Epoch 31/100\n",
      " - 0s - loss: -2.1480e+00 - accuracy: 0.4083 - val_loss: 1.7127 - val_accuracy: 0.2329\n",
      "Epoch 32/100\n",
      " - 0s - loss: -2.2830e+00 - accuracy: 0.4152 - val_loss: 1.7103 - val_accuracy: 0.2329\n",
      "Epoch 33/100\n",
      " - 0s - loss: -2.1545e+00 - accuracy: 0.4048 - val_loss: 1.7072 - val_accuracy: 0.2329\n",
      "Epoch 34/100\n",
      " - 0s - loss: -2.4024e+00 - accuracy: 0.4083 - val_loss: 1.7059 - val_accuracy: 0.2329\n",
      "Epoch 35/100\n",
      " - 0s - loss: -2.2591e+00 - accuracy: 0.4256 - val_loss: 1.7069 - val_accuracy: 0.2329\n",
      "Epoch 36/100\n",
      " - 0s - loss: -2.1506e+00 - accuracy: 0.4118 - val_loss: 1.7102 - val_accuracy: 0.2329\n",
      "Epoch 37/100\n",
      " - 0s - loss: -2.3384e+00 - accuracy: 0.4083 - val_loss: 1.7128 - val_accuracy: 0.2329\n",
      "Epoch 38/100\n",
      " - 0s - loss: -2.0722e+00 - accuracy: 0.3979 - val_loss: 1.7138 - val_accuracy: 0.2329\n",
      "Epoch 39/100\n",
      " - 0s - loss: -2.1654e+00 - accuracy: 0.4014 - val_loss: 1.7138 - val_accuracy: 0.2329\n",
      "Epoch 40/100\n",
      " - 0s - loss: -2.2856e+00 - accuracy: 0.4152 - val_loss: 1.7158 - val_accuracy: 0.2329\n",
      "Epoch 41/100\n",
      " - 0s - loss: -2.1035e+00 - accuracy: 0.4083 - val_loss: 1.7185 - val_accuracy: 0.2329\n",
      "Epoch 42/100\n",
      " - 0s - loss: -1.9468e+00 - accuracy: 0.4014 - val_loss: 1.7215 - val_accuracy: 0.2329\n",
      "Epoch 43/100\n",
      " - 0s - loss: -2.0626e+00 - accuracy: 0.4014 - val_loss: 1.4594 - val_accuracy: 0.2329\n",
      "Epoch 44/100\n",
      " - 0s - loss: -2.3435e+00 - accuracy: 0.4014 - val_loss: 1.2635 - val_accuracy: 0.2329\n",
      "Epoch 45/100\n",
      " - 0s - loss: -2.3726e+00 - accuracy: 0.3945 - val_loss: 1.2594 - val_accuracy: 0.2329\n",
      "Epoch 46/100\n",
      " - 0s - loss: -2.0520e+00 - accuracy: 0.4221 - val_loss: 1.3009 - val_accuracy: 0.2466\n",
      "Epoch 47/100\n",
      " - 0s - loss: -2.1981e+00 - accuracy: 0.4014 - val_loss: 1.4259 - val_accuracy: 0.2466\n",
      "Epoch 48/100\n",
      " - 0s - loss: -2.0337e+00 - accuracy: 0.4221 - val_loss: 1.5867 - val_accuracy: 0.2466\n",
      "Epoch 49/100\n",
      " - 0s - loss: -2.0833e+00 - accuracy: 0.4152 - val_loss: 1.4221 - val_accuracy: 0.2329\n",
      "Epoch 50/100\n",
      " - 0s - loss: -2.2013e+00 - accuracy: 0.4118 - val_loss: 1.3754 - val_accuracy: 0.2466\n",
      "Epoch 51/100\n",
      " - 0s - loss: -2.3780e+00 - accuracy: 0.4256 - val_loss: 1.3961 - val_accuracy: 0.3014\n",
      "Epoch 52/100\n",
      " - 0s - loss: -2.2475e+00 - accuracy: 0.3945 - val_loss: 1.4059 - val_accuracy: 0.2877\n",
      "Epoch 53/100\n",
      " - 0s - loss: -2.0575e+00 - accuracy: 0.3875 - val_loss: 1.4137 - val_accuracy: 0.2877\n",
      "Epoch 54/100\n",
      " - 0s - loss: -2.1461e+00 - accuracy: 0.4152 - val_loss: 1.4188 - val_accuracy: 0.2877\n",
      "Epoch 55/100\n",
      " - 0s - loss: -2.2974e+00 - accuracy: 0.4118 - val_loss: 1.4226 - val_accuracy: 0.2877\n",
      "Epoch 56/100\n",
      " - 0s - loss: -2.2126e+00 - accuracy: 0.4152 - val_loss: 1.4252 - val_accuracy: 0.2740\n",
      "Epoch 57/100\n",
      " - 0s - loss: -2.1161e+00 - accuracy: 0.4325 - val_loss: 1.4272 - val_accuracy: 0.2740\n",
      "Epoch 58/100\n",
      " - 0s - loss: -2.7127e+00 - accuracy: 0.4083 - val_loss: 1.4290 - val_accuracy: 0.2740\n",
      "Epoch 59/100\n",
      " - 0s - loss: -2.3614e+00 - accuracy: 0.4187 - val_loss: 1.4309 - val_accuracy: 0.2740\n",
      "Epoch 60/100\n",
      " - 0s - loss: -2.5705e+00 - accuracy: 0.4187 - val_loss: 1.2939 - val_accuracy: 0.2740\n",
      "Epoch 61/100\n",
      " - 0s - loss: -2.1896e+00 - accuracy: 0.4152 - val_loss: 1.2743 - val_accuracy: 0.2740\n",
      "Epoch 62/100\n",
      " - 0s - loss: -2.2566e+00 - accuracy: 0.4048 - val_loss: 1.2689 - val_accuracy: 0.2740\n",
      "Epoch 63/100\n",
      " - 0s - loss: -2.5105e+00 - accuracy: 0.4325 - val_loss: 1.2667 - val_accuracy: 0.2740\n",
      "Epoch 64/100\n",
      " - 0s - loss: -2.4150e+00 - accuracy: 0.4187 - val_loss: 0.7977 - val_accuracy: 0.2877\n",
      "Epoch 65/100\n",
      " - 0s - loss: -2.3621e+00 - accuracy: 0.4360 - val_loss: 0.3920 - val_accuracy: 0.2877\n",
      "Epoch 66/100\n",
      " - 0s - loss: -2.5207e+00 - accuracy: 0.4187 - val_loss: 0.5252 - val_accuracy: 0.2877\n",
      "Epoch 67/100\n",
      " - 0s - loss: -2.1866e+00 - accuracy: 0.4048 - val_loss: 0.5386 - val_accuracy: 0.2877\n",
      "Epoch 68/100\n",
      " - 0s - loss: -2.2738e+00 - accuracy: 0.4048 - val_loss: 0.5294 - val_accuracy: 0.3014\n",
      "Epoch 69/100\n",
      " - 0s - loss: -2.1175e+00 - accuracy: 0.4360 - val_loss: 0.6832 - val_accuracy: 0.3014\n",
      "Epoch 70/100\n",
      " - 0s - loss: -2.3787e+00 - accuracy: 0.4187 - val_loss: 0.6967 - val_accuracy: 0.3014\n",
      "Epoch 71/100\n",
      " - 0s - loss: -2.1588e+00 - accuracy: 0.4048 - val_loss: 0.7020 - val_accuracy: 0.3151\n",
      "Epoch 72/100\n",
      " - 0s - loss: -2.0760e+00 - accuracy: 0.4187 - val_loss: 0.7043 - val_accuracy: 0.3151\n",
      "Epoch 73/100\n",
      " - 0s - loss: -2.1683e+00 - accuracy: 0.3945 - val_loss: 0.7041 - val_accuracy: 0.3014\n",
      "Epoch 74/100\n",
      " - 0s - loss: -2.0045e+00 - accuracy: 0.4083 - val_loss: 0.7024 - val_accuracy: 0.3014\n",
      "Epoch 75/100\n",
      " - 0s - loss: -2.1099e+00 - accuracy: 0.4187 - val_loss: 0.7009 - val_accuracy: 0.3014\n",
      "Epoch 76/100\n",
      " - 0s - loss: -2.4308e+00 - accuracy: 0.4083 - val_loss: 0.6988 - val_accuracy: 0.3014\n",
      "Epoch 77/100\n",
      " - 0s - loss: -2.5059e+00 - accuracy: 0.4152 - val_loss: 0.6953 - val_accuracy: 0.3014\n",
      "Epoch 78/100\n",
      " - 0s - loss: -2.2084e+00 - accuracy: 0.4118 - val_loss: 0.6920 - val_accuracy: 0.2877\n",
      "Epoch 79/100\n",
      " - 0s - loss: -2.3514e+00 - accuracy: 0.4118 - val_loss: 0.6868 - val_accuracy: 0.2740\n",
      "Epoch 80/100\n",
      " - 0s - loss: -2.3484e+00 - accuracy: 0.4048 - val_loss: 0.6849 - val_accuracy: 0.2740\n",
      "Epoch 81/100\n",
      " - 0s - loss: -1.9436e+00 - accuracy: 0.4048 - val_loss: 0.6809 - val_accuracy: 0.2740\n",
      "Epoch 82/100\n",
      " - 0s - loss: -2.2506e+00 - accuracy: 0.4256 - val_loss: 0.6757 - val_accuracy: 0.2877\n"
     ]
    },
    {
     "name": "stdout",
     "output_type": "stream",
     "text": [
      "Epoch 83/100\n",
      " - 0s - loss: -2.2066e+00 - accuracy: 0.4083 - val_loss: 0.7046 - val_accuracy: 0.2740\n",
      "Epoch 84/100\n",
      " - 0s - loss: -2.4858e+00 - accuracy: 0.4083 - val_loss: 0.7103 - val_accuracy: 0.2740\n",
      "Epoch 85/100\n",
      " - 0s - loss: -2.3272e+00 - accuracy: 0.3945 - val_loss: 0.7141 - val_accuracy: 0.2740\n",
      "Epoch 86/100\n",
      " - 0s - loss: -2.5090e+00 - accuracy: 0.4048 - val_loss: 0.7179 - val_accuracy: 0.2740\n",
      "Epoch 87/100\n",
      " - 0s - loss: -2.4901e+00 - accuracy: 0.3979 - val_loss: 0.7227 - val_accuracy: 0.2740\n",
      "Epoch 88/100\n",
      " - 0s - loss: -2.4303e+00 - accuracy: 0.3945 - val_loss: 0.7293 - val_accuracy: 0.2740\n",
      "Epoch 89/100\n",
      " - 0s - loss: -2.4391e+00 - accuracy: 0.4256 - val_loss: 0.7331 - val_accuracy: 0.2740\n",
      "Epoch 90/100\n",
      " - 0s - loss: -2.4610e+00 - accuracy: 0.4014 - val_loss: 0.7348 - val_accuracy: 0.2877\n",
      "Epoch 91/100\n",
      " - 0s - loss: -2.3493e+00 - accuracy: 0.4394 - val_loss: 0.7403 - val_accuracy: 0.2877\n",
      "Epoch 92/100\n",
      " - 0s - loss: -2.3725e+00 - accuracy: 0.4048 - val_loss: 0.8790 - val_accuracy: 0.2877\n",
      "Epoch 93/100\n",
      " - 0s - loss: -2.3554e+00 - accuracy: 0.4152 - val_loss: 0.8769 - val_accuracy: 0.2877\n",
      "Epoch 94/100\n",
      " - 0s - loss: -2.6627e+00 - accuracy: 0.4187 - val_loss: 0.8754 - val_accuracy: 0.2877\n",
      "Epoch 95/100\n",
      " - 0s - loss: -2.2889e+00 - accuracy: 0.4118 - val_loss: 0.8797 - val_accuracy: 0.2877\n",
      "Epoch 96/100\n",
      " - 0s - loss: -2.4469e+00 - accuracy: 0.4152 - val_loss: 1.0351 - val_accuracy: 0.2740\n",
      "Epoch 97/100\n",
      " - 0s - loss: -2.5347e+00 - accuracy: 0.3979 - val_loss: 1.0290 - val_accuracy: 0.2740\n",
      "Epoch 98/100\n",
      " - 0s - loss: -2.5474e+00 - accuracy: 0.3979 - val_loss: 1.0310 - val_accuracy: 0.2877\n",
      "Epoch 99/100\n",
      " - 0s - loss: -2.4374e+00 - accuracy: 0.4048 - val_loss: 1.0603 - val_accuracy: 0.2877\n",
      "Epoch 100/100\n",
      " - 0s - loss: -2.5112e+00 - accuracy: 0.4118 - val_loss: 0.9142 - val_accuracy: 0.2740\n"
     ]
    }
   ],
   "source": [
    "feature_select = model2.fit(X_tr1, y_tr1, epochs=100, batch_size=128, validation_split=0.2, verbose=2, shuffle=True) "
   ]
  },
  {
   "cell_type": "code",
   "execution_count": 66,
   "metadata": {},
   "outputs": [
    {
     "name": "stdout",
     "output_type": "stream",
     "text": [
      "Training Accuracy: 61.04972375690607 %\n"
     ]
    }
   ],
   "source": [
    "y_train_pred = np.sign(model2.predict(X_tr1))\n",
    "error_vec = [0 if k[0]==k[1] else 1 for k in np.hstack((y_tr1, y_train_pred))]\n",
    "err_rate = sum(error_vec)/len(y_tr1)\n",
    "print(\"Training Accuracy:\", (1- err_rate)*100, \"%\")"
   ]
  },
  {
   "cell_type": "code",
   "execution_count": 70,
   "metadata": {},
   "outputs": [
    {
     "name": "stdout",
     "output_type": "stream",
     "text": [
      "[[-1. -1.]\n",
      " [ 1. -1.]\n",
      " [ 1. -1.]\n",
      " [-1. -1.]\n",
      " [-1. -1.]\n",
      " [ 1. -1.]\n",
      " [-1. -1.]\n",
      " [ 1.  1.]\n",
      " [-1. -1.]\n",
      " [ 1.  1.]\n",
      " [ 1.  1.]\n",
      " [ 1. -1.]\n",
      " [ 1.  1.]\n",
      " [-1. -1.]\n",
      " [-1. -1.]\n",
      " [ 1. -1.]\n",
      " [-1. -1.]\n",
      " [ 1.  1.]\n",
      " [ 1. -1.]\n",
      " [-1. -1.]\n",
      " [ 1. -1.]\n",
      " [ 1. -1.]\n",
      " [ 1.  1.]\n",
      " [ 1.  1.]\n",
      " [-1.  1.]\n",
      " [ 1. -1.]\n",
      " [-1.  1.]\n",
      " [ 1. -1.]\n",
      " [ 1.  1.]\n",
      " [-1. -1.]\n",
      " [ 1. -1.]\n",
      " [-1. -1.]\n",
      " [ 1. -1.]\n",
      " [-1. -1.]\n",
      " [-1. -1.]\n",
      " [-1.  1.]\n",
      " [-1. -1.]\n",
      " [-1. -1.]\n",
      " [ 1.  1.]\n",
      " [ 1.  1.]\n",
      " [-1.  1.]\n",
      " [ 1.  1.]\n",
      " [ 1.  1.]\n",
      " [ 1. -1.]\n",
      " [ 1. -1.]\n",
      " [-1.  1.]\n",
      " [ 1.  1.]\n",
      " [-1. -1.]\n",
      " [-1. -1.]\n",
      " [-1.  1.]\n",
      " [ 1.  1.]\n",
      " [-1. -1.]\n",
      " [-1. -1.]\n",
      " [ 1. -1.]\n",
      " [-1. -1.]\n",
      " [-1.  1.]\n",
      " [-1. -1.]\n",
      " [ 1.  1.]\n",
      " [-1.  1.]\n",
      " [-1. -1.]\n",
      " [ 1. -1.]\n",
      " [-1.  1.]\n",
      " [ 1.  1.]\n",
      " [ 1.  1.]\n",
      " [ 1. -1.]\n",
      " [-1. -1.]\n",
      " [ 1. -1.]\n",
      " [-1.  1.]\n",
      " [ 1. -1.]\n",
      " [ 1.  1.]\n",
      " [ 1.  1.]\n",
      " [-1. -1.]\n",
      " [-1. -1.]\n",
      " [-1. -1.]\n",
      " [ 1. -1.]\n",
      " [-1. -1.]\n",
      " [-1. -1.]\n",
      " [ 1. -1.]\n",
      " [-1. -1.]\n",
      " [-1. -1.]\n",
      " [-1. -1.]\n",
      " [-1. -1.]\n",
      " [-1.  1.]\n",
      " [-1. -1.]\n",
      " [-1. -1.]\n",
      " [ 1. -1.]\n",
      " [ 1.  1.]\n",
      " [-1. -1.]\n",
      " [-1. -1.]\n",
      " [ 1.  1.]\n",
      " [ 1. -1.]\n",
      " [ 1. -1.]\n",
      " [ 1. -1.]\n",
      " [-1. -1.]\n",
      " [-1. -1.]\n",
      " [-1. -1.]\n",
      " [ 1.  1.]\n",
      " [-1. -1.]\n",
      " [ 1.  1.]\n",
      " [-1. -1.]\n",
      " [ 1.  1.]\n",
      " [-1. -1.]\n",
      " [-1. -1.]\n",
      " [-1. -1.]\n",
      " [-1. -1.]\n",
      " [ 1. -1.]\n",
      " [ 1.  1.]\n",
      " [ 1. -1.]\n",
      " [ 1.  1.]\n",
      " [-1. -1.]\n",
      " [ 1. -1.]\n",
      " [ 1.  1.]\n",
      " [-1. -1.]\n",
      " [-1. -1.]\n",
      " [-1. -1.]\n",
      " [ 1. -1.]\n",
      " [ 1. -1.]\n",
      " [-1.  1.]\n",
      " [-1. -1.]\n",
      " [-1. -1.]\n",
      " [-1.  1.]\n",
      " [-1. -1.]\n",
      " [-1. -1.]\n",
      " [-1. -1.]\n",
      " [ 1.  1.]\n",
      " [-1. -1.]\n",
      " [ 1. -1.]\n",
      " [-1. -1.]\n",
      " [-1. -1.]\n",
      " [-1. -1.]\n",
      " [-1. -1.]\n",
      " [-1.  1.]\n",
      " [ 1. -1.]\n",
      " [ 1. -1.]\n",
      " [ 1. -1.]\n",
      " [ 1.  1.]\n",
      " [ 1. -1.]\n",
      " [ 1. -1.]\n",
      " [-1. -1.]\n",
      " [ 1. -1.]\n",
      " [ 1.  1.]\n",
      " [-1. -1.]\n",
      " [-1. -1.]\n",
      " [-1. -1.]\n",
      " [-1. -1.]\n",
      " [-1. -1.]\n",
      " [ 1.  1.]\n",
      " [-1. -1.]\n",
      " [ 1.  1.]\n",
      " [-1. -1.]\n",
      " [ 1.  1.]\n",
      " [ 1.  1.]\n",
      " [-1. -1.]\n",
      " [-1. -1.]\n",
      " [-1. -1.]\n",
      " [ 1. -1.]\n",
      " [ 1.  1.]\n",
      " [-1.  1.]\n",
      " [-1. -1.]\n",
      " [ 1.  1.]\n",
      " [-1.  1.]\n",
      " [ 1.  1.]\n",
      " [ 1.  1.]\n",
      " [ 1. -1.]\n",
      " [ 1.  1.]\n",
      " [-1. -1.]\n",
      " [-1.  1.]\n",
      " [-1. -1.]\n",
      " [-1. -1.]\n",
      " [-1.  1.]\n",
      " [ 1.  1.]\n",
      " [-1.  1.]\n",
      " [-1. -1.]\n",
      " [-1. -1.]\n",
      " [ 1. -1.]\n",
      " [-1. -1.]\n",
      " [ 1. -1.]\n",
      " [-1.  1.]\n",
      " [-1. -1.]\n",
      " [-1.  1.]\n",
      " [-1. -1.]\n",
      " [-1. -1.]\n",
      " [ 1. -1.]\n",
      " [-1. -1.]\n",
      " [-1. -1.]\n",
      " [ 1. -1.]\n",
      " [-1.  1.]\n",
      " [ 1.  1.]\n",
      " [ 1. -1.]\n",
      " [ 1. -1.]\n",
      " [ 1.  1.]\n",
      " [-1. -1.]\n",
      " [-1. -1.]\n",
      " [ 1. -1.]\n",
      " [-1.  1.]\n",
      " [-1.  1.]\n",
      " [ 1.  1.]\n",
      " [ 1. -1.]\n",
      " [-1.  1.]\n",
      " [ 1. -1.]\n",
      " [ 1.  1.]\n",
      " [ 1.  1.]\n",
      " [ 1. -1.]\n",
      " [-1. -1.]\n",
      " [-1. -1.]\n",
      " [ 1. -1.]\n",
      " [ 1.  1.]\n",
      " [ 1.  1.]\n",
      " [ 1.  1.]\n",
      " [ 1. -1.]\n",
      " [ 1.  1.]\n",
      " [-1.  1.]\n",
      " [ 1. -1.]\n",
      " [ 1. -1.]\n",
      " [-1. -1.]\n",
      " [-1. -1.]\n",
      " [-1. -1.]\n",
      " [ 1. -1.]\n",
      " [ 1. -1.]\n",
      " [-1. -1.]\n",
      " [ 1.  1.]\n",
      " [-1. -1.]\n",
      " [ 1. -1.]\n",
      " [-1. -1.]\n",
      " [ 1.  1.]\n",
      " [ 1. -1.]\n",
      " [-1. -1.]\n",
      " [ 1.  1.]\n",
      " [ 1. -1.]\n",
      " [-1. -1.]\n",
      " [-1. -1.]\n",
      " [ 1.  1.]\n",
      " [ 1.  1.]\n",
      " [-1. -1.]\n",
      " [-1. -1.]\n",
      " [ 1. -1.]\n",
      " [-1. -1.]\n",
      " [-1. -1.]\n",
      " [-1. -1.]\n",
      " [ 1. -1.]\n",
      " [ 1. -1.]\n",
      " [-1.  1.]\n",
      " [-1. -1.]\n",
      " [ 1. -1.]\n",
      " [-1.  1.]\n",
      " [ 1. -1.]\n",
      " [-1. -1.]\n",
      " [ 1.  1.]\n",
      " [ 1. -1.]\n",
      " [-1.  1.]\n",
      " [-1. -1.]\n",
      " [-1. -1.]\n",
      " [ 1. -1.]\n",
      " [ 1.  1.]\n",
      " [-1. -1.]\n",
      " [ 1. -1.]\n",
      " [-1. -1.]\n",
      " [-1. -1.]\n",
      " [-1. -1.]\n",
      " [ 1. -1.]\n",
      " [-1. -1.]\n",
      " [-1. -1.]\n",
      " [-1. -1.]\n",
      " [ 1. -1.]\n",
      " [-1. -1.]\n",
      " [-1. -1.]\n",
      " [-1. -1.]\n",
      " [-1. -1.]\n",
      " [ 1.  1.]\n",
      " [ 1.  1.]\n",
      " [-1.  1.]\n",
      " [-1. -1.]\n",
      " [-1.  1.]\n",
      " [-1. -1.]\n",
      " [-1. -1.]\n",
      " [-1.  1.]\n",
      " [-1. -1.]\n",
      " [-1.  1.]\n",
      " [-1. -1.]\n",
      " [ 1.  1.]\n",
      " [ 1.  1.]\n",
      " [-1.  1.]\n",
      " [-1. -1.]\n",
      " [ 1. -1.]\n",
      " [-1.  1.]\n",
      " [ 1. -1.]\n",
      " [-1. -1.]\n",
      " [-1.  1.]\n",
      " [-1. -1.]\n",
      " [ 1. -1.]\n",
      " [ 1. -1.]\n",
      " [ 1.  1.]\n",
      " [-1. -1.]\n",
      " [ 1.  1.]\n",
      " [-1. -1.]\n",
      " [ 1.  1.]\n",
      " [ 1. -1.]\n",
      " [ 1. -1.]\n",
      " [-1.  1.]\n",
      " [ 1. -1.]\n",
      " [-1.  1.]\n",
      " [ 1.  1.]\n",
      " [ 1. -1.]\n",
      " [ 1. -1.]\n",
      " [ 1. -1.]\n",
      " [ 1.  1.]\n",
      " [ 1.  1.]\n",
      " [ 1.  1.]\n",
      " [ 1.  1.]\n",
      " [-1.  1.]\n",
      " [-1. -1.]\n",
      " [-1. -1.]\n",
      " [-1. -1.]\n",
      " [ 1. -1.]\n",
      " [ 1. -1.]\n",
      " [-1. -1.]\n",
      " [-1. -1.]\n",
      " [-1. -1.]\n",
      " [ 1.  1.]\n",
      " [-1. -1.]\n",
      " [-1. -1.]\n",
      " [ 1.  1.]\n",
      " [ 1. -1.]\n",
      " [ 1. -1.]\n",
      " [ 1. -1.]\n",
      " [-1.  1.]\n",
      " [ 1. -1.]\n",
      " [ 1. -1.]\n",
      " [-1.  1.]\n",
      " [-1.  1.]\n",
      " [-1. -1.]\n",
      " [ 1. -1.]\n",
      " [ 1.  1.]\n",
      " [-1. -1.]\n",
      " [-1. -1.]\n",
      " [ 1. -1.]\n",
      " [-1. -1.]\n",
      " [-1.  1.]\n",
      " [-1. -1.]\n",
      " [-1.  1.]\n",
      " [-1. -1.]\n",
      " [-1. -1.]\n",
      " [ 1.  1.]\n",
      " [-1.  1.]\n",
      " [ 1. -1.]\n",
      " [ 1. -1.]\n",
      " [ 1. -1.]\n",
      " [ 1. -1.]\n",
      " [ 1.  1.]\n",
      " [-1.  1.]\n",
      " [ 1. -1.]\n",
      " [-1.  1.]\n",
      " [-1. -1.]\n",
      " [ 1.  1.]\n",
      " [ 1.  1.]\n",
      " [ 1.  1.]\n",
      " [-1. -1.]\n",
      " [ 1. -1.]\n",
      " [ 1.  1.]\n",
      " [-1. -1.]\n",
      " [-1. -1.]\n",
      " [ 1. -1.]]\n"
     ]
    }
   ],
   "source": [
    "print(np.hstack((y_tr1, y_train_pred)))"
   ]
  },
  {
   "cell_type": "code",
   "execution_count": 67,
   "metadata": {},
   "outputs": [
    {
     "name": "stdout",
     "output_type": "stream",
     "text": [
      "Training square error: 1.558011049723757\n"
     ]
    }
   ],
   "source": [
    "Sq_err_vec = [ (it[0]-it[1])**2 for it in np.hstack((y_tr1, y_train_pred))]\n",
    "sq_err = sum(Sq_err_vec)/len(y_tr1)\n",
    "print(\"Training square error:\",sq_err)"
   ]
  },
  {
   "cell_type": "code",
   "execution_count": 68,
   "metadata": {},
   "outputs": [
    {
     "name": "stdout",
     "output_type": "stream",
     "text": [
      "Testing Accuracy: 52.25806451612903 %\n"
     ]
    }
   ],
   "source": [
    "y_test_pred = np.sign(model2.predict(X_te1))\n",
    "test_error_vec = [0 if k[0]==k[1] else 1 for k in np.hstack((y_te1, y_test_pred))]\n",
    "test_err_rate = sum(test_error_vec)/len(y_te1)\n",
    "print(\"Testing Accuracy:\", (1- test_err_rate)*100, \"%\")"
   ]
  },
  {
   "cell_type": "code",
   "execution_count": 69,
   "metadata": {},
   "outputs": [
    {
     "name": "stdout",
     "output_type": "stream",
     "text": [
      "Testing square error: 1.9096774193548387\n"
     ]
    }
   ],
   "source": [
    "test_Sq_err_vec = [ (it[0]-it[1])**2 for it in np.hstack((y_te1, y_test_pred))]\n",
    "test_sq_err = sum(test_Sq_err_vec)/len(y_test)\n",
    "print(\"Testing square error:\",test_sq_err)"
   ]
  },
  {
   "cell_type": "markdown",
   "metadata": {},
   "source": [
    "# K-fold validation"
   ]
  },
  {
   "cell_type": "code",
   "execution_count": 42,
   "metadata": {},
   "outputs": [],
   "source": [
    "n_train = len(X_train)\n",
    "\n",
    "k_fold = 5\n",
    "id_train = [[]] * k_fold\n",
    "id_val = [[]] * k_fold\n",
    "\n",
    "for m in range(k_fold):\n",
    "    id_val[m] = range(m, n_train, k_fold) # Indices of k_fold validation sets.\n",
    "    id_train[m] = np.setdiff1d(range(n_train), id_val[m])"
   ]
  },
  {
   "cell_type": "code",
   "execution_count": 43,
   "metadata": {},
   "outputs": [],
   "source": [
    "CMat_train_best = None\n",
    "CMat_val_best = None\n",
    "acc_train_best = 0\n",
    "acc_val_best = 0\n",
    "model_best = None\n",
    "Val_acc = []"
   ]
  },
  {
   "cell_type": "code",
   "execution_count": 44,
   "metadata": {},
   "outputs": [
    {
     "name": "stdout",
     "output_type": "stream",
     "text": [
      "\n",
      " iteration 0\n",
      "Training confusion matrix:\n",
      " [[136  22]\n",
      " [ 89  42]]\n",
      "Training accuracy: 0.615916955017301\n",
      "Validation confusion matrix:\n",
      " [[25  8]\n",
      " [33  7]]\n",
      "Validation accuracy: 0.4383561643835616\n",
      "\n",
      " iteration 1\n",
      "Training confusion matrix:\n",
      " [[146   4]\n",
      " [116  23]]\n",
      "Training accuracy: 0.5847750865051903\n",
      "Validation confusion matrix:\n",
      " [[38  3]\n",
      " [25  7]]\n",
      "Validation accuracy: 0.6164383561643836\n",
      "\n",
      " iteration 2\n",
      "Training confusion matrix:\n",
      " [[75 81]\n",
      " [42 92]]\n",
      "Training accuracy: 0.5758620689655173\n",
      "Validation confusion matrix:\n",
      " [[12 23]\n",
      " [13 24]]\n",
      "Validation accuracy: 0.5\n",
      "\n",
      " iteration 3\n",
      "Training confusion matrix:\n",
      " [[112  41]\n",
      " [ 42  95]]\n",
      "Training accuracy: 0.7137931034482758\n",
      "Validation confusion matrix:\n",
      " [[23 15]\n",
      " [21 13]]\n",
      "Validation accuracy: 0.5\n",
      "\n",
      " iteration 4\n",
      "Training confusion matrix:\n",
      " [[100  47]\n",
      " [ 53  90]]\n",
      "Training accuracy: 0.6551724137931034\n",
      "Validation confusion matrix:\n",
      " [[20 24]\n",
      " [12 16]]\n",
      "Validation accuracy: 0.5\n"
     ]
    }
   ],
   "source": [
    "from sklearn.metrics import confusion_matrix\n",
    "# ConfusionMatrix = np.zeros((2,2), dtype=int)\n",
    "\n",
    "for m in range(k_fold):\n",
    "    print(\"\\n iteration\", m)\n",
    "    X_train_cur = X_train[id_train[m]]\n",
    "    y_train_cur = y_train[id_train[m]]\n",
    "    X_val_cur = X_train[id_val[m]]\n",
    "    y_val_cur = y_train[id_val[m]]\n",
    "\n",
    "    mlp = Sequential()\n",
    "    mlp.add(Dense(100, input_dim=X_train_cur.shape[1], activation='relu'))\n",
    "    mlp.add(Dense(100, activation='relu'))\n",
    "    mlp.add(Dropout(0.2))\n",
    "    mlp.add(Dense(1, activation='tanh'))\n",
    "    \n",
    "    mlp.compile(loss='binary_crossentropy', optimizer='adam', metrics=['accuracy'])\n",
    "    mlp.fit(X_train_cur, y_train_cur, epochs=200, batch_size=128,verbose=0, shuffle=True) \n",
    "    \n",
    "    y_pred_train_cur = np.sign(mlp.predict(X_train_cur))\n",
    "    y_pred_val_cur = np.sign(mlp.predict(X_val_cur))\n",
    "    \n",
    "    CMat_train = confusion_matrix(y_train_cur, np.round(y_pred_train_cur,0), labels=[-1,1])\n",
    "    acc_train = np.sum(np.diag(CMat_train))/np.shape(X_train_cur)[0]\n",
    "    \n",
    "    CMat_val = confusion_matrix(y_val_cur, np.round(y_pred_val_cur,0), labels=[-1,1])\n",
    "    acc_val = np.sum(np.diag(CMat_val))/np.shape(X_val_cur)[0]\n",
    "    Val_acc.append(acc_val)\n",
    "    \n",
    "    if acc_val > acc_val_best:\n",
    "        acc_train_best = acc_train\n",
    "        acc_val_best = acc_val\n",
    "        model_best =  mlp\n",
    "        CMat_train_best = CMat_train\n",
    "        CMat_val_best = CMat_val\n",
    "    \n",
    "    print(\"Training confusion matrix:\\n\", CMat_train)\n",
    "    print(\"Training accuracy:\", acc_train)\n",
    "    print(\"Validation confusion matrix:\\n\", CMat_val)\n",
    "    print(\"Validation accuracy:\", acc_val)"
   ]
  },
  {
   "cell_type": "code",
   "execution_count": 45,
   "metadata": {},
   "outputs": [
    {
     "name": "stdout",
     "output_type": "stream",
     "text": [
      "Highest training accuracy: 0.5847750865051903\n",
      "Best training confusion matrix:\n",
      " [[146   4]\n",
      " [116  23]]\n",
      "Highest validation accuracy: 0.6164383561643836\n",
      "Best validation confusion matrix:\n",
      " [[38  3]\n",
      " [25  7]]\n",
      "Average validation accuracy: 0.5109589041095891\n",
      "<keras.engine.sequential.Sequential object at 0x0000019318E53108>\n"
     ]
    }
   ],
   "source": [
    "print(\"Highest training accuracy:\", acc_train_best)\n",
    "print(\"Best training confusion matrix:\\n\", CMat_train_best)\n",
    "print(\"Highest validation accuracy:\", acc_val_best)\n",
    "print(\"Best validation confusion matrix:\\n\", CMat_val_best)\n",
    "print(\"Average validation accuracy:\", sum(Val_acc)/k_fold)\n",
    "print(model_best)"
   ]
  },
  {
   "cell_type": "code",
   "execution_count": 46,
   "metadata": {},
   "outputs": [
    {
     "name": "stdout",
     "output_type": "stream",
     "text": [
      "Testing Accuracy: 52.25806451612903 %\n"
     ]
    }
   ],
   "source": [
    "y_test_pred = np.sign(model_best.predict(X_test))\n",
    "test_error_vec = [0 if k[0]==k[1] else 1 for k in np.hstack((y_test, y_test_pred))]\n",
    "test_err_rate = sum(test_error_vec)/len(y_test)\n",
    "print(\"Testing Accuracy:\", (1-test_err_rate)*100, \"%\")"
   ]
  },
  {
   "cell_type": "code",
   "execution_count": 47,
   "metadata": {},
   "outputs": [
    {
     "name": "stdout",
     "output_type": "stream",
     "text": [
      "Testing square error: 1.9096774193548387\n"
     ]
    }
   ],
   "source": [
    "test_Sq_err_vec = [ (it[0]-it[1])**2 for it in np.hstack((y_test, y_test_pred))]\n",
    "test_sq_err = sum(test_Sq_err_vec)/len(y_test)\n",
    "print(\"Testing square error:\",test_sq_err)"
   ]
  }
 ],
 "metadata": {
  "kernelspec": {
   "display_name": "Python 3",
   "language": "python",
   "name": "python3"
  },
  "language_info": {
   "codemirror_mode": {
    "name": "ipython",
    "version": 3
   },
   "file_extension": ".py",
   "mimetype": "text/x-python",
   "name": "python",
   "nbconvert_exporter": "python",
   "pygments_lexer": "ipython3",
   "version": "3.7.7"
  }
 },
 "nbformat": 4,
 "nbformat_minor": 4
}
