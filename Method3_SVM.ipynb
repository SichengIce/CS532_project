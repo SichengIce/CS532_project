{
 "cells": [
  {
   "cell_type": "markdown",
   "metadata": {},
   "source": [
    "# SVM"
   ]
  },
  {
   "cell_type": "code",
   "execution_count": 1,
   "metadata": {},
   "outputs": [],
   "source": [
    "import numpy as np\n",
    "import pandas as pd\n",
    "import matplotlib.pyplot as plt\n",
    "import seaborn as sns\n",
    "from sklearn import svm\n",
    "import seaborn as sns"
   ]
  },
  {
   "cell_type": "code",
   "execution_count": 2,
   "metadata": {},
   "outputs": [],
   "source": [
    "X_train = np.asarray(pd.read_csv(\"training_data.csv\"))\n",
    "y_train = np.asarray(pd.read_csv(\"training_label.csv\"))\n",
    "X_test = np.asarray(pd.read_csv(\"testing_data.csv\"))\n",
    "y_test = np.asarray(pd.read_csv(\"testing_label.csv\"))"
   ]
  },
  {
   "cell_type": "code",
   "execution_count": 3,
   "metadata": {},
   "outputs": [],
   "source": [
    "n_train = X_train.shape[0]\n",
    "n_test = X_test.shape[0]"
   ]
  },
  {
   "cell_type": "code",
   "execution_count": 4,
   "metadata": {},
   "outputs": [],
   "source": [
    "def z_score(x, axis):\n",
    "    xr = np.rollaxis(x, axis=axis)\n",
    "    xr -= np.mean(x, axis=axis)\n",
    "    xr /= np.std(x, axis=axis)\n",
    "    # print(x)\n",
    "    return x"
   ]
  },
  {
   "cell_type": "code",
   "execution_count": 5,
   "metadata": {},
   "outputs": [],
   "source": [
    "# def noramlization(data):\n",
    "#     minVals = data.min(0)\n",
    "#     maxVals = data.max(0)\n",
    "#     ranges = maxVals - minVals\n",
    "#     normData = np.zeros(np.shape(data))\n",
    "#     m = data.shape[0]\n",
    "#     normData = data - np.tile(minVals, (m, 1))\n",
    "#     normData = normData/np.tile(ranges, (m, 1))\n",
    "#     return normData"
   ]
  },
  {
   "cell_type": "code",
   "execution_count": 6,
   "metadata": {},
   "outputs": [],
   "source": [
    "X_train = z_score(X_train,0)\n",
    "X_test = z_score(X_test,0)"
   ]
  },
  {
   "cell_type": "markdown",
   "metadata": {},
   "source": [
    "## kernel = Radial Basis Function"
   ]
  },
  {
   "cell_type": "code",
   "execution_count": 7,
   "metadata": {},
   "outputs": [
    {
     "name": "stderr",
     "output_type": "stream",
     "text": [
      "c:\\users\\50221\\appdata\\local\\programs\\python\\python37\\lib\\site-packages\\sklearn\\utils\\validation.py:73: DataConversionWarning: A column-vector y was passed when a 1d array was expected. Please change the shape of y to (n_samples, ), for example using ravel().\n",
      "  return f(**kwargs)\n"
     ]
    },
    {
     "data": {
      "text/plain": [
       "SVC(gamma='auto')"
      ]
     },
     "execution_count": 7,
     "metadata": {},
     "output_type": "execute_result"
    }
   ],
   "source": [
    "svc = svm.SVC(kernel='rbf',gamma='auto')\n",
    "svc.fit(X_train, y_train)"
   ]
  },
  {
   "cell_type": "code",
   "execution_count": 8,
   "metadata": {},
   "outputs": [
    {
     "name": "stdout",
     "output_type": "stream",
     "text": [
      "Training Accuracy: 68.50828729281768 %\n"
     ]
    }
   ],
   "source": [
    "y_train_pred = svc.predict(X_train)\n",
    "y_train_pred = y_train_pred.reshape(y_train_pred.shape[0],1)\n",
    "error_vec = [0 if k[0]==k[1] else 1 for k in np.hstack((y_train, y_train_pred))]\n",
    "err_rate = sum(error_vec)/len(y_train)\n",
    "print(\"Training Accuracy:\", (1- err_rate)*100, \"%\")"
   ]
  },
  {
   "cell_type": "code",
   "execution_count": 9,
   "metadata": {},
   "outputs": [],
   "source": [
    "# print(np.hstack((y_train, y_train_pred)))"
   ]
  },
  {
   "cell_type": "code",
   "execution_count": 10,
   "metadata": {},
   "outputs": [
    {
     "name": "stdout",
     "output_type": "stream",
     "text": [
      "Training square error: 1.2596685082872927\n"
     ]
    }
   ],
   "source": [
    "Sq_err_vec = [ (it[0]-it[1])**2 for it in np.hstack((y_train, y_train_pred))]\n",
    "sq_err = sum(Sq_err_vec)/len(y_train)\n",
    "print(\"Training square error:\",sq_err)"
   ]
  },
  {
   "cell_type": "code",
   "execution_count": 11,
   "metadata": {},
   "outputs": [
    {
     "name": "stdout",
     "output_type": "stream",
     "text": [
      "Testing Accuracy: 52.25806451612903 %\n"
     ]
    }
   ],
   "source": [
    "y_test_pred = svc.predict(X_test)\n",
    "y_test_pred = y_test_pred.reshape(y_test_pred.shape[0],1)\n",
    "test_error_vec = [0 if k[0]==k[1] else 1 for k in np.hstack((y_test, y_test_pred))]\n",
    "test_err_rate = sum(test_error_vec)/len(y_test)\n",
    "print(\"Testing Accuracy:\", (1- test_err_rate)*100, \"%\")"
   ]
  },
  {
   "cell_type": "code",
   "execution_count": 12,
   "metadata": {},
   "outputs": [],
   "source": [
    "# print(np.hstack((y_test, y_test_pred)))"
   ]
  },
  {
   "cell_type": "code",
   "execution_count": 13,
   "metadata": {},
   "outputs": [
    {
     "name": "stdout",
     "output_type": "stream",
     "text": [
      "Testing square error: 1.9096774193548387\n"
     ]
    }
   ],
   "source": [
    "test_Sq_err_vec = [ (it[0]-it[1])**2 for it in np.hstack((y_test, y_test_pred))]\n",
    "test_sq_err = sum(test_Sq_err_vec)/len(y_test)\n",
    "print(\"Testing square error:\",test_sq_err)"
   ]
  },
  {
   "cell_type": "markdown",
   "metadata": {},
   "source": [
    "## kernel = polynomial functions"
   ]
  },
  {
   "cell_type": "code",
   "execution_count": 14,
   "metadata": {},
   "outputs": [
    {
     "name": "stderr",
     "output_type": "stream",
     "text": [
      "c:\\users\\50221\\appdata\\local\\programs\\python\\python37\\lib\\site-packages\\sklearn\\utils\\validation.py:73: DataConversionWarning: A column-vector y was passed when a 1d array was expected. Please change the shape of y to (n_samples, ), for example using ravel().\n",
      "  return f(**kwargs)\n"
     ]
    },
    {
     "data": {
      "text/plain": [
       "SVC(gamma='auto', kernel='poly')"
      ]
     },
     "execution_count": 14,
     "metadata": {},
     "output_type": "execute_result"
    }
   ],
   "source": [
    "svc = svm.SVC(kernel='poly',gamma='auto')\n",
    "svc.fit(X_train, y_train)"
   ]
  },
  {
   "cell_type": "code",
   "execution_count": 15,
   "metadata": {},
   "outputs": [
    {
     "name": "stdout",
     "output_type": "stream",
     "text": [
      "Training Accuracy: 66.57458563535911 %\n"
     ]
    }
   ],
   "source": [
    "y_train_pred = svc.predict(X_train)\n",
    "y_train_pred = y_train_pred.reshape(y_train_pred.shape[0],1)\n",
    "error_vec = [0 if k[0]==k[1] else 1 for k in np.hstack((y_train, y_train_pred))]\n",
    "err_rate = sum(error_vec)/len(y_train)\n",
    "print(\"Training Accuracy:\", (1- err_rate)*100, \"%\")"
   ]
  },
  {
   "cell_type": "code",
   "execution_count": 16,
   "metadata": {},
   "outputs": [
    {
     "name": "stdout",
     "output_type": "stream",
     "text": [
      "Training square error: 1.3370165745856353\n"
     ]
    }
   ],
   "source": [
    "Sq_err_vec = [ (it[0]-it[1])**2 for it in np.hstack((y_train, y_train_pred))]\n",
    "sq_err = sum(Sq_err_vec)/len(y_train)\n",
    "print(\"Training square error:\",sq_err)"
   ]
  },
  {
   "cell_type": "code",
   "execution_count": 17,
   "metadata": {},
   "outputs": [
    {
     "name": "stdout",
     "output_type": "stream",
     "text": [
      "Testing Accuracy: 54.83870967741935 %\n"
     ]
    }
   ],
   "source": [
    "y_test_pred = svc.predict(X_test)\n",
    "y_test_pred = y_test_pred.reshape(y_test_pred.shape[0],1)\n",
    "test_error_vec = [0 if k[0]==k[1] else 1 for k in np.hstack((y_test, y_test_pred))]\n",
    "test_err_rate = sum(test_error_vec)/len(y_test)\n",
    "print(\"Testing Accuracy:\", (1- test_err_rate)*100, \"%\")"
   ]
  },
  {
   "cell_type": "code",
   "execution_count": 18,
   "metadata": {},
   "outputs": [
    {
     "name": "stdout",
     "output_type": "stream",
     "text": [
      "Testing square error: 1.8064516129032258\n"
     ]
    }
   ],
   "source": [
    "test_Sq_err_vec = [ (it[0]-it[1])**2 for it in np.hstack((y_test, y_test_pred))]\n",
    "test_sq_err = sum(test_Sq_err_vec)/len(y_test)\n",
    "print(\"Testing square error:\",test_sq_err)"
   ]
  },
  {
   "cell_type": "markdown",
   "metadata": {},
   "source": [
    "## linear kernel"
   ]
  },
  {
   "cell_type": "code",
   "execution_count": 19,
   "metadata": {},
   "outputs": [
    {
     "name": "stderr",
     "output_type": "stream",
     "text": [
      "c:\\users\\50221\\appdata\\local\\programs\\python\\python37\\lib\\site-packages\\sklearn\\utils\\validation.py:73: DataConversionWarning: A column-vector y was passed when a 1d array was expected. Please change the shape of y to (n_samples, ), for example using ravel().\n",
      "  return f(**kwargs)\n"
     ]
    },
    {
     "data": {
      "text/plain": [
       "LinearSVC()"
      ]
     },
     "execution_count": 19,
     "metadata": {},
     "output_type": "execute_result"
    }
   ],
   "source": [
    "lin_svc = svm.LinearSVC()\n",
    "lin_svc.fit(X_train, y_train)"
   ]
  },
  {
   "cell_type": "code",
   "execution_count": 20,
   "metadata": {},
   "outputs": [
    {
     "name": "stdout",
     "output_type": "stream",
     "text": [
      "Training Accuracy: 58.011049723756905 %\n"
     ]
    }
   ],
   "source": [
    "y_train_pred = lin_svc.predict(X_train)\n",
    "y_train_pred = y_train_pred.reshape(y_train_pred.shape[0],1)\n",
    "error_vec = [0 if k[0]==k[1] else 1 for k in np.hstack((y_train, y_train_pred))]\n",
    "err_rate = sum(error_vec)/len(y_train)\n",
    "print(\"Training Accuracy:\", (1- err_rate)*100, \"%\")"
   ]
  },
  {
   "cell_type": "code",
   "execution_count": 21,
   "metadata": {},
   "outputs": [
    {
     "name": "stdout",
     "output_type": "stream",
     "text": [
      "Training square error: 1.6795580110497237\n"
     ]
    }
   ],
   "source": [
    "Sq_err_vec = [ (it[0]-it[1])**2 for it in np.hstack((y_train, y_train_pred))]\n",
    "sq_err = sum(Sq_err_vec)/len(y_train)\n",
    "print(\"Training square error:\",sq_err)"
   ]
  },
  {
   "cell_type": "code",
   "execution_count": 22,
   "metadata": {},
   "outputs": [
    {
     "name": "stdout",
     "output_type": "stream",
     "text": [
      "Testing Accuracy: 50.96774193548388 %\n"
     ]
    }
   ],
   "source": [
    "y_test_pred = lin_svc.predict(X_test)\n",
    "y_test_pred = y_test_pred.reshape(y_test_pred.shape[0],1)\n",
    "test_error_vec = [0 if k[0]==k[1] else 1 for k in np.hstack((y_test, y_test_pred))]\n",
    "test_err_rate = sum(test_error_vec)/len(y_test)\n",
    "print(\"Testing Accuracy:\", (1- test_err_rate)*100, \"%\")"
   ]
  },
  {
   "cell_type": "code",
   "execution_count": 23,
   "metadata": {},
   "outputs": [
    {
     "name": "stdout",
     "output_type": "stream",
     "text": [
      "Testing square error: 1.961290322580645\n"
     ]
    }
   ],
   "source": [
    "test_Sq_err_vec = [ (it[0]-it[1])**2 for it in np.hstack((y_test, y_test_pred))]\n",
    "test_sq_err = sum(test_Sq_err_vec)/len(y_test)\n",
    "print(\"Testing square error:\",test_sq_err)"
   ]
  },
  {
   "cell_type": "markdown",
   "metadata": {},
   "source": [
    "# Feature selection "
   ]
  },
  {
   "cell_type": "code",
   "execution_count": 24,
   "metadata": {},
   "outputs": [],
   "source": [
    "features_selected = [\"X\",\"Y\",\"month\",\"day\",\"temp\",\"RH\",\"wind\",\"rain\"]"
   ]
  },
  {
   "cell_type": "code",
   "execution_count": 25,
   "metadata": {},
   "outputs": [],
   "source": [
    "X_train1 = pd.read_csv(\"training_data.csv\")[features_selected]\n",
    "y_train1 = pd.read_csv(\"training_label.csv\")\n",
    "X_test1 = pd.read_csv(\"testing_data.csv\")[features_selected]\n",
    "y_test1 = pd.read_csv(\"testing_label.csv\")"
   ]
  },
  {
   "cell_type": "code",
   "execution_count": 26,
   "metadata": {},
   "outputs": [
    {
     "data": {
      "text/html": [
       "<div>\n",
       "<style scoped>\n",
       "    .dataframe tbody tr th:only-of-type {\n",
       "        vertical-align: middle;\n",
       "    }\n",
       "\n",
       "    .dataframe tbody tr th {\n",
       "        vertical-align: top;\n",
       "    }\n",
       "\n",
       "    .dataframe thead th {\n",
       "        text-align: right;\n",
       "    }\n",
       "</style>\n",
       "<table border=\"1\" class=\"dataframe\">\n",
       "  <thead>\n",
       "    <tr style=\"text-align: right;\">\n",
       "      <th></th>\n",
       "      <th>X</th>\n",
       "      <th>Y</th>\n",
       "      <th>month</th>\n",
       "      <th>day</th>\n",
       "      <th>temp</th>\n",
       "      <th>RH</th>\n",
       "      <th>wind</th>\n",
       "      <th>rain</th>\n",
       "    </tr>\n",
       "  </thead>\n",
       "  <tbody>\n",
       "    <tr>\n",
       "      <th>0</th>\n",
       "      <td>6</td>\n",
       "      <td>6</td>\n",
       "      <td>7</td>\n",
       "      <td>1</td>\n",
       "      <td>23.0</td>\n",
       "      <td>36</td>\n",
       "      <td>3.1</td>\n",
       "      <td>0.0</td>\n",
       "    </tr>\n",
       "    <tr>\n",
       "      <th>1</th>\n",
       "      <td>7</td>\n",
       "      <td>4</td>\n",
       "      <td>9</td>\n",
       "      <td>5</td>\n",
       "      <td>19.0</td>\n",
       "      <td>34</td>\n",
       "      <td>5.8</td>\n",
       "      <td>0.0</td>\n",
       "    </tr>\n",
       "    <tr>\n",
       "      <th>2</th>\n",
       "      <td>3</td>\n",
       "      <td>4</td>\n",
       "      <td>2</td>\n",
       "      <td>3</td>\n",
       "      <td>8.8</td>\n",
       "      <td>35</td>\n",
       "      <td>3.1</td>\n",
       "      <td>0.0</td>\n",
       "    </tr>\n",
       "    <tr>\n",
       "      <th>3</th>\n",
       "      <td>6</td>\n",
       "      <td>5</td>\n",
       "      <td>5</td>\n",
       "      <td>6</td>\n",
       "      <td>11.3</td>\n",
       "      <td>94</td>\n",
       "      <td>4.9</td>\n",
       "      <td>0.0</td>\n",
       "    </tr>\n",
       "    <tr>\n",
       "      <th>4</th>\n",
       "      <td>2</td>\n",
       "      <td>2</td>\n",
       "      <td>9</td>\n",
       "      <td>5</td>\n",
       "      <td>19.6</td>\n",
       "      <td>33</td>\n",
       "      <td>5.4</td>\n",
       "      <td>0.0</td>\n",
       "    </tr>\n",
       "  </tbody>\n",
       "</table>\n",
       "</div>"
      ],
      "text/plain": [
       "   X  Y  month  day  temp  RH  wind  rain\n",
       "0  6  6      7    1  23.0  36   3.1   0.0\n",
       "1  7  4      9    5  19.0  34   5.8   0.0\n",
       "2  3  4      2    3   8.8  35   3.1   0.0\n",
       "3  6  5      5    6  11.3  94   4.9   0.0\n",
       "4  2  2      9    5  19.6  33   5.4   0.0"
      ]
     },
     "execution_count": 26,
     "metadata": {},
     "output_type": "execute_result"
    }
   ],
   "source": [
    "X_train1.head()"
   ]
  },
  {
   "cell_type": "code",
   "execution_count": 27,
   "metadata": {},
   "outputs": [],
   "source": [
    "X_tr1 = np.asarray(X_train1)\n",
    "y_tr1 = np.asarray(y_train1)\n",
    "X_te1 = np.asarray(X_test1)\n",
    "y_te1 = np.asarray(y_test1)"
   ]
  },
  {
   "cell_type": "code",
   "execution_count": 28,
   "metadata": {},
   "outputs": [],
   "source": [
    "# X_tr1 = z_score(X_tr1,0)\n",
    "# X_te1 = z_score(X_te1,0)"
   ]
  },
  {
   "cell_type": "code",
   "execution_count": 29,
   "metadata": {},
   "outputs": [
    {
     "name": "stderr",
     "output_type": "stream",
     "text": [
      "c:\\users\\50221\\appdata\\local\\programs\\python\\python37\\lib\\site-packages\\sklearn\\utils\\validation.py:73: DataConversionWarning: A column-vector y was passed when a 1d array was expected. Please change the shape of y to (n_samples, ), for example using ravel().\n",
      "  return f(**kwargs)\n"
     ]
    },
    {
     "data": {
      "text/plain": [
       "SVC(gamma='auto')"
      ]
     },
     "execution_count": 29,
     "metadata": {},
     "output_type": "execute_result"
    }
   ],
   "source": [
    "svc = svm.SVC(kernel='rbf',gamma='auto')\n",
    "svc.fit(X_tr1, y_tr1)"
   ]
  },
  {
   "cell_type": "code",
   "execution_count": 34,
   "metadata": {},
   "outputs": [
    {
     "name": "stdout",
     "output_type": "stream",
     "text": [
      "Training Accuracy: 62.20994475138111 %\n"
     ]
    }
   ],
   "source": [
    "y_train_pred1 = svc.predict(X_tr1)\n",
    "y_train_pred1 = y_train_pred.reshape(y_train_pred1.shape[0],1)\n",
    "error_vec1 = [0 if k[0]==k[1] else 1 for k in np.hstack((y_tr1, y_train_pred1))]\n",
    "err_rate1 = sum(error_vec1)/len(y_tr1)\n",
    "print(\"Training Accuracy:\", (1- err_rate1)*100, \"%\")"
   ]
  },
  {
   "cell_type": "code",
   "execution_count": 31,
   "metadata": {},
   "outputs": [
    {
     "name": "stdout",
     "output_type": "stream",
     "text": [
      "Training square error: 1.6795580110497237\n"
     ]
    }
   ],
   "source": [
    "Sq_err_vec = [ (it[0]-it[1])**2 for it in np.hstack((y_tr1, y_train_pred1))]\n",
    "sq_err = sum(Sq_err_vec)/len(y_tr1)\n",
    "print(\"Training square error:\",sq_err)"
   ]
  },
  {
   "cell_type": "code",
   "execution_count": 32,
   "metadata": {},
   "outputs": [
    {
     "name": "stdout",
     "output_type": "stream",
     "text": [
      "Testing Accuracy: 60.0 %\n"
     ]
    }
   ],
   "source": [
    "y_test_pred = svc.predict(X_te1)\n",
    "y_test_pred = y_test_pred.reshape(y_test_pred.shape[0],1)\n",
    "test_error_vec = [0 if k[0]==k[1] else 1 for k in np.hstack((y_te1, y_test_pred))]\n",
    "test_err_rate = sum(test_error_vec)/len(y_te1)\n",
    "print(\"Testing Accuracy:\", (1- test_err_rate)*100, \"%\")"
   ]
  },
  {
   "cell_type": "code",
   "execution_count": 33,
   "metadata": {},
   "outputs": [
    {
     "name": "stdout",
     "output_type": "stream",
     "text": [
      "Testing square error: 1.6\n"
     ]
    }
   ],
   "source": [
    "test_Sq_err_vec = [ (it[0]-it[1])**2 for it in np.hstack((y_te1, y_test_pred))]\n",
    "test_sq_err = sum(test_Sq_err_vec)/len(y_te1)\n",
    "print(\"Testing square error:\",test_sq_err)"
   ]
  },
  {
   "cell_type": "markdown",
   "metadata": {},
   "source": [
    "## K-fold validation _RBF "
   ]
  },
  {
   "cell_type": "code",
   "execution_count": 51,
   "metadata": {},
   "outputs": [],
   "source": [
    "n_train = len(X_train)\n",
    "\n",
    "k_fold = 5\n",
    "id_train = [[]] * k_fold\n",
    "id_val = [[]] * k_fold\n",
    "\n",
    "for m in range(k_fold):\n",
    "    id_val[m] = range(m, n_train, k_fold) # Indices of k_fold validation sets.\n",
    "    id_train[m] = np.setdiff1d(range(n_train), id_val[m])"
   ]
  },
  {
   "cell_type": "code",
   "execution_count": 52,
   "metadata": {},
   "outputs": [],
   "source": [
    "# CMat_train_best = None\n",
    "# CMat_val_best = None\n",
    "# acc_train_best = 0\n",
    "# acc_val_best = 0\n",
    "# model_best = None\n",
    "# Val_acc = []"
   ]
  },
  {
   "cell_type": "code",
   "execution_count": 53,
   "metadata": {},
   "outputs": [],
   "source": [
    "# from sklearn.metrics import confusion_matrix\n",
    "# # ConfusionMatrix = np.zeros((2,2), dtype=int)\n",
    "\n",
    "# for m in range(k_fold):\n",
    "#     print(\"\\n iteration\", m)\n",
    "#     X_train_cur = X_train[id_train[m]]\n",
    "#     y_train_cur = y_train[id_train[m]]\n",
    "#     X_val_cur = X_train[id_val[m]]\n",
    "#     y_val_cur = y_train[id_val[m]]\n",
    "\n",
    "#     svc_cur = svm.SVC(kernel='rbf',gamma='auto')\n",
    "#     svc_cur.fit(X_train_cur, y_train_cur)\n",
    "#     y_pred_train_cur = svc_cur.predict(X_train_cur)\n",
    "#     y_pred_val_cur = svc_cur.predict(X_val_cur)\n",
    "    \n",
    "#     CMat_train = confusion_matrix(y_train_cur, y_pred_train_cur, labels=[-1,1])\n",
    "#     acc_train = np.sum(np.diag(CMat_train))/np.shape(X_train_cur)[0]\n",
    "    \n",
    "#     CMat_val = confusion_matrix(y_val_cur, y_pred_val_cur, labels=[-1,1])\n",
    "#     acc_val = np.sum(np.diag(CMat_val))/np.shape(X_val_cur)[0]\n",
    "#     Val_acc.append(acc_val)\n",
    "    \n",
    "#     if acc_val > acc_val_best:\n",
    "#         acc_train_best = acc_train\n",
    "#         acc_val_best = acc_val\n",
    "#         model_best =  svc_cur\n",
    "#         CMat_train_best = CMat_train\n",
    "#         CMat_val_best = CMat_val\n",
    "    \n",
    "#     print(\"Training confusion matrix:\\n\", CMat_train)\n",
    "#     print(\"Training accuracy:\", acc_train)\n",
    "#     print(\"Validation confusion matrix:\\n\", CMat_val)\n",
    "#     print(\"Validation accuracy:\", acc_val)"
   ]
  },
  {
   "cell_type": "code",
   "execution_count": 54,
   "metadata": {},
   "outputs": [],
   "source": [
    "acc_train_best = 0\n",
    "acc_val_best = 0\n",
    "model_best = None\n",
    "Val_acc = []"
   ]
  },
  {
   "cell_type": "code",
   "execution_count": 55,
   "metadata": {
    "scrolled": true
   },
   "outputs": [
    {
     "name": "stdout",
     "output_type": "stream",
     "text": [
      "\n",
      " iteration 0\n",
      "Validation accuracy: 0.5684931506849318\n",
      "\n",
      " iteration 1\n",
      "Validation accuracy: 0.6547945205479453\n",
      "\n",
      " iteration 2\n",
      "Validation accuracy: 0.5125000000000004\n",
      "\n",
      " iteration 3\n",
      "Validation accuracy: 0.5000000000000004\n",
      "\n",
      " iteration 4\n",
      "Validation accuracy: 0.5125000000000004\n"
     ]
    },
    {
     "name": "stderr",
     "output_type": "stream",
     "text": [
      "c:\\users\\50221\\appdata\\local\\programs\\python\\python37\\lib\\site-packages\\sklearn\\utils\\validation.py:73: DataConversionWarning: A column-vector y was passed when a 1d array was expected. Please change the shape of y to (n_samples, ), for example using ravel().\n",
      "  return f(**kwargs)\n",
      "c:\\users\\50221\\appdata\\local\\programs\\python\\python37\\lib\\site-packages\\sklearn\\utils\\validation.py:73: DataConversionWarning: A column-vector y was passed when a 1d array was expected. Please change the shape of y to (n_samples, ), for example using ravel().\n",
      "  return f(**kwargs)\n",
      "c:\\users\\50221\\appdata\\local\\programs\\python\\python37\\lib\\site-packages\\sklearn\\utils\\validation.py:73: DataConversionWarning: A column-vector y was passed when a 1d array was expected. Please change the shape of y to (n_samples, ), for example using ravel().\n",
      "  return f(**kwargs)\n",
      "c:\\users\\50221\\appdata\\local\\programs\\python\\python37\\lib\\site-packages\\sklearn\\utils\\validation.py:73: DataConversionWarning: A column-vector y was passed when a 1d array was expected. Please change the shape of y to (n_samples, ), for example using ravel().\n",
      "  return f(**kwargs)\n",
      "c:\\users\\50221\\appdata\\local\\programs\\python\\python37\\lib\\site-packages\\sklearn\\utils\\validation.py:73: DataConversionWarning: A column-vector y was passed when a 1d array was expected. Please change the shape of y to (n_samples, ), for example using ravel().\n",
      "  return f(**kwargs)\n"
     ]
    }
   ],
   "source": [
    " for m in range(k_fold):\n",
    "    print(\"\\n iteration\", m)\n",
    "    X_train_cur = X_train[id_train[m]]\n",
    "    y_train_cur = y_train[id_train[m]]\n",
    "    X_val_cur = X_train[id_val[m]]\n",
    "    y_val_cur = y_train[id_val[m]]\n",
    "\n",
    "    svc_cur = svm.SVC(kernel='rbf',gamma='auto')\n",
    "    svc_cur.fit(X_train_cur, y_train_cur)\n",
    "#     y_pred_train_cur = svc_cur.predict(X_train_cur)\n",
    "    y_pred_val_cur = svc_cur.predict(X_val_cur)\n",
    "        \n",
    "    y_pred = y_pred_val_cur.reshape(y_pred_val_cur.shape[0],1)\n",
    "    val_error_vec = [0 if k[0]==k[1] else 1 for k in np.hstack((y_val_cur, y_pred))]\n",
    "    acc_val = 1- sum(val_error_vec)/len(y_val_cur)\n",
    "    Val_acc.append(acc_val)\n",
    "\n",
    "    if acc_val > acc_val_best:\n",
    "        acc_val_best = acc_val\n",
    "        model_best =  svc_cur\n",
    "    \n",
    "    print(\"Validation accuracy:\", acc_val)"
   ]
  },
  {
   "cell_type": "code",
   "execution_count": 56,
   "metadata": {},
   "outputs": [
    {
     "name": "stdout",
     "output_type": "stream",
     "text": [
      "Highest validation accuracy: 0.6547945205479453\n",
      "Average training accuracy: 0.5496575342465757\n",
      "SVC(gamma='auto')\n"
     ]
    }
   ],
   "source": [
    "print(\"Highest validation accuracy:\", acc_val_best)\n",
    "print(\"Average training accuracy:\", sum(Val_acc)/len(Val_acc))\n",
    "print(model_best)"
   ]
  },
  {
   "cell_type": "code",
   "execution_count": 58,
   "metadata": {},
   "outputs": [
    {
     "name": "stdout",
     "output_type": "stream",
     "text": [
      "Testing Accuracy: 54.129032258064534 %\n"
     ]
    }
   ],
   "source": [
    "y_test_pred = model_best.predict(X_test)\n",
    "y_test_pred = y_test_pred.reshape(y_test_pred.shape[0],1)\n",
    "test_error_vec = [0 if k[0]==k[1] else 1 for k in np.hstack((y_test, y_test_pred))]\n",
    "test_err_rate = sum(test_error_vec)/len(y_test)\n",
    "print(\"Testing Accuracy:\", (1-test_err_rate)*100, \"%\")"
   ]
  },
  {
   "cell_type": "code",
   "execution_count": 42,
   "metadata": {},
   "outputs": [],
   "source": [
    "# test_Sq_err_vec = [ (it[0]-it[1])**2 for it in np.hstack((y_test, y_test_pred))]\n",
    "# test_sq_err = sum(test_Sq_err_vec)/len(y_test)\n",
    "# print(\"Testing square error:\",test_sq_err)"
   ]
  },
  {
   "cell_type": "markdown",
   "metadata": {},
   "source": [
    "## K-fold validation _poly"
   ]
  },
  {
   "cell_type": "code",
   "execution_count": 68,
   "metadata": {},
   "outputs": [],
   "source": [
    "acc_train_best = 0\n",
    "acc_val_best = 0\n",
    "model_best = None\n",
    "Val_acc = []"
   ]
  },
  {
   "cell_type": "code",
   "execution_count": 69,
   "metadata": {},
   "outputs": [
    {
     "name": "stdout",
     "output_type": "stream",
     "text": [
      "\n",
      " iteration 0\n",
      "Validation accuracy: 0.5616438356164382\n",
      "\n",
      " iteration 1\n",
      "Validation accuracy: 0.6273972602739724\n",
      "\n",
      " iteration 2\n",
      "Validation accuracy: 0.5444444444444443\n",
      "\n",
      " iteration 3\n",
      "Validation accuracy: 0.5444444444444443\n",
      "\n",
      " iteration 4\n",
      "Validation accuracy: 0.5444444444444443\n"
     ]
    },
    {
     "name": "stderr",
     "output_type": "stream",
     "text": [
      "c:\\users\\50221\\appdata\\local\\programs\\python\\python37\\lib\\site-packages\\sklearn\\utils\\validation.py:73: DataConversionWarning: A column-vector y was passed when a 1d array was expected. Please change the shape of y to (n_samples, ), for example using ravel().\n",
      "  return f(**kwargs)\n",
      "c:\\users\\50221\\appdata\\local\\programs\\python\\python37\\lib\\site-packages\\sklearn\\utils\\validation.py:73: DataConversionWarning: A column-vector y was passed when a 1d array was expected. Please change the shape of y to (n_samples, ), for example using ravel().\n",
      "  return f(**kwargs)\n",
      "c:\\users\\50221\\appdata\\local\\programs\\python\\python37\\lib\\site-packages\\sklearn\\utils\\validation.py:73: DataConversionWarning: A column-vector y was passed when a 1d array was expected. Please change the shape of y to (n_samples, ), for example using ravel().\n",
      "  return f(**kwargs)\n",
      "c:\\users\\50221\\appdata\\local\\programs\\python\\python37\\lib\\site-packages\\sklearn\\utils\\validation.py:73: DataConversionWarning: A column-vector y was passed when a 1d array was expected. Please change the shape of y to (n_samples, ), for example using ravel().\n",
      "  return f(**kwargs)\n",
      "c:\\users\\50221\\appdata\\local\\programs\\python\\python37\\lib\\site-packages\\sklearn\\utils\\validation.py:73: DataConversionWarning: A column-vector y was passed when a 1d array was expected. Please change the shape of y to (n_samples, ), for example using ravel().\n",
      "  return f(**kwargs)\n"
     ]
    }
   ],
   "source": [
    " for m in range(k_fold):\n",
    "    print(\"\\n iteration\", m)\n",
    "    X_train_cur = X_train[id_train[m]]\n",
    "    y_train_cur = y_train[id_train[m]]\n",
    "    X_val_cur = X_train[id_val[m]]\n",
    "    y_val_cur = y_train[id_val[m]]\n",
    "\n",
    "    svc_cur = svm.SVC(kernel='poly',gamma='auto')\n",
    "    svc_cur.fit(X_train_cur, y_train_cur)\n",
    "#     y_pred_train_cur = svc_cur.predict(X_train_cur)\n",
    "    y_pred_val_cur = svc_cur.predict(X_val_cur)\n",
    "        \n",
    "    y_pred = y_pred_val_cur.reshape(y_pred_val_cur.shape[0],1)\n",
    "    val_error_vec = [0 if k[0]==k[1] else 1 for k in np.hstack((y_val_cur, y_pred))]\n",
    "    acc_val = 1- sum(val_error_vec)/len(y_val_cur)\n",
    "    Val_acc.append(acc_val)\n",
    "\n",
    "    if acc_val > acc_val_best:\n",
    "        acc_val_best = acc_val\n",
    "        model_best =  svc_cur\n",
    "    \n",
    "    print(\"Validation accuracy:\", acc_val)"
   ]
  },
  {
   "cell_type": "code",
   "execution_count": 70,
   "metadata": {},
   "outputs": [
    {
     "name": "stdout",
     "output_type": "stream",
     "text": [
      "Highest validation accuracy: 0.6273972602739724\n",
      "Average training accuravy: 0.5644748858447487\n",
      "SVC(gamma='auto', kernel='poly')\n"
     ]
    }
   ],
   "source": [
    "print(\"Highest validation accuracy:\", acc_val_best)\n",
    "print(\"Average training accuravy:\", sum(Val_acc)/len(Val_acc))\n",
    "print(model_best)"
   ]
  },
  {
   "cell_type": "code",
   "execution_count": 72,
   "metadata": {},
   "outputs": [
    {
     "name": "stdout",
     "output_type": "stream",
     "text": [
      "Testing Accuracy: 57.6129032258065 %\n"
     ]
    }
   ],
   "source": [
    "y_test_pred = model_best.predict(X_test)\n",
    "y_test_pred = y_test_pred.reshape(y_test_pred.shape[0],1)\n",
    "test_error_vec = [0 if k[0]==k[1] else 1 for k in np.hstack((y_test, y_test_pred))]\n",
    "test_err_rate = sum(test_error_vec)/len(y_test)\n",
    "print(\"Testing Accuracy:\", (1-test_err_rate)*100, \"%\")"
   ]
  },
  {
   "cell_type": "markdown",
   "metadata": {},
   "source": [
    "## K-fold validation _linear_kernel"
   ]
  },
  {
   "cell_type": "code",
   "execution_count": 64,
   "metadata": {},
   "outputs": [],
   "source": [
    "acc_train_best = 0\n",
    "acc_val_best = 0\n",
    "model_best = None\n",
    "Val_acc = []"
   ]
  },
  {
   "cell_type": "code",
   "execution_count": 65,
   "metadata": {},
   "outputs": [
    {
     "name": "stdout",
     "output_type": "stream",
     "text": [
      "\n",
      " iteration 0\n",
      "Validation accuracy: 0.5205479452054795\n",
      "\n",
      " iteration 1\n",
      "Validation accuracy: 0.547945205479452\n",
      "\n",
      " iteration 2\n",
      "Validation accuracy: 0.5277777777777778\n",
      "\n",
      " iteration 3\n",
      "Validation accuracy: 0.4305555555555556\n",
      "\n",
      " iteration 4\n",
      "Validation accuracy: 0.5138888888888888\n"
     ]
    },
    {
     "name": "stderr",
     "output_type": "stream",
     "text": [
      "c:\\users\\50221\\appdata\\local\\programs\\python\\python37\\lib\\site-packages\\sklearn\\utils\\validation.py:73: DataConversionWarning: A column-vector y was passed when a 1d array was expected. Please change the shape of y to (n_samples, ), for example using ravel().\n",
      "  return f(**kwargs)\n",
      "c:\\users\\50221\\appdata\\local\\programs\\python\\python37\\lib\\site-packages\\sklearn\\svm\\_base.py:975: ConvergenceWarning: Liblinear failed to converge, increase the number of iterations.\n",
      "  \"the number of iterations.\", ConvergenceWarning)\n",
      "c:\\users\\50221\\appdata\\local\\programs\\python\\python37\\lib\\site-packages\\sklearn\\utils\\validation.py:73: DataConversionWarning: A column-vector y was passed when a 1d array was expected. Please change the shape of y to (n_samples, ), for example using ravel().\n",
      "  return f(**kwargs)\n",
      "c:\\users\\50221\\appdata\\local\\programs\\python\\python37\\lib\\site-packages\\sklearn\\utils\\validation.py:73: DataConversionWarning: A column-vector y was passed when a 1d array was expected. Please change the shape of y to (n_samples, ), for example using ravel().\n",
      "  return f(**kwargs)\n",
      "c:\\users\\50221\\appdata\\local\\programs\\python\\python37\\lib\\site-packages\\sklearn\\svm\\_base.py:975: ConvergenceWarning: Liblinear failed to converge, increase the number of iterations.\n",
      "  \"the number of iterations.\", ConvergenceWarning)\n",
      "c:\\users\\50221\\appdata\\local\\programs\\python\\python37\\lib\\site-packages\\sklearn\\utils\\validation.py:73: DataConversionWarning: A column-vector y was passed when a 1d array was expected. Please change the shape of y to (n_samples, ), for example using ravel().\n",
      "  return f(**kwargs)\n",
      "c:\\users\\50221\\appdata\\local\\programs\\python\\python37\\lib\\site-packages\\sklearn\\svm\\_base.py:975: ConvergenceWarning: Liblinear failed to converge, increase the number of iterations.\n",
      "  \"the number of iterations.\", ConvergenceWarning)\n",
      "c:\\users\\50221\\appdata\\local\\programs\\python\\python37\\lib\\site-packages\\sklearn\\utils\\validation.py:73: DataConversionWarning: A column-vector y was passed when a 1d array was expected. Please change the shape of y to (n_samples, ), for example using ravel().\n",
      "  return f(**kwargs)\n",
      "c:\\users\\50221\\appdata\\local\\programs\\python\\python37\\lib\\site-packages\\sklearn\\svm\\_base.py:975: ConvergenceWarning: Liblinear failed to converge, increase the number of iterations.\n",
      "  \"the number of iterations.\", ConvergenceWarning)\n"
     ]
    }
   ],
   "source": [
    " for m in range(k_fold):\n",
    "    print(\"\\n iteration\", m)\n",
    "    X_train_cur = X_train[id_train[m]]\n",
    "    y_train_cur = y_train[id_train[m]]\n",
    "    X_val_cur = X_train[id_val[m]]\n",
    "    y_val_cur = y_train[id_val[m]]\n",
    "    \n",
    "    \n",
    "    lin_svc = svm.LinearSVC()\n",
    "    lin_svc.fit(X_train_cur, y_train_cur)\n",
    "    y_pred_val_cur = lin_svc.predict(X_val_cur)\n",
    "        \n",
    "    y_pred = y_pred_val_cur.reshape(y_pred_val_cur.shape[0],1)\n",
    "    val_error_vec = [0 if k[0]==k[1] else 1 for k in np.hstack((y_val_cur, y_pred))]\n",
    "    acc_val = 1- sum(val_error_vec)/len(y_val_cur)\n",
    "    Val_acc.append(acc_val)\n",
    "\n",
    "    if acc_val > acc_val_best:\n",
    "        acc_val_best = acc_val\n",
    "        model_best =  svc_cur\n",
    "    \n",
    "    print(\"Validation accuracy:\", acc_val)"
   ]
  },
  {
   "cell_type": "code",
   "execution_count": 66,
   "metadata": {},
   "outputs": [
    {
     "name": "stdout",
     "output_type": "stream",
     "text": [
      "Highest validation accuracy: 0.547945205479452\n",
      "Average training accuravy: 0.5081430745814308\n",
      "SVC(gamma='auto', kernel='poly')\n"
     ]
    }
   ],
   "source": [
    "print(\"Highest validation accuracy:\", acc_val_best)\n",
    "print(\"Average training accuravy:\", sum(Val_acc)/len(Val_acc))\n",
    "print(model_best)"
   ]
  },
  {
   "cell_type": "code",
   "execution_count": 67,
   "metadata": {},
   "outputs": [
    {
     "name": "stdout",
     "output_type": "stream",
     "text": [
      "Testing Accuracy: 47.74193548387097 %\n"
     ]
    }
   ],
   "source": [
    "y_test_pred = model_best.predict(X_test)\n",
    "y_test_pred = y_test_pred.reshape(y_test_pred.shape[0],1)\n",
    "test_error_vec = [0 if k[0]==k[1] else 1 for k in np.hstack((y_test, y_test_pred))]\n",
    "test_err_rate = sum(test_error_vec)/len(y_test)\n",
    "print(\"Testing Accuracy:\", (1-test_err_rate)*100, \"%\")"
   ]
  },
  {
   "cell_type": "code",
   "execution_count": null,
   "metadata": {},
   "outputs": [],
   "source": []
  }
 ],
 "metadata": {
  "kernelspec": {
   "display_name": "Python 3",
   "language": "python",
   "name": "python3"
  },
  "language_info": {
   "codemirror_mode": {
    "name": "ipython",
    "version": 3
   },
   "file_extension": ".py",
   "mimetype": "text/x-python",
   "name": "python",
   "nbconvert_exporter": "python",
   "pygments_lexer": "ipython3",
   "version": "3.7.7"
  }
 },
 "nbformat": 4,
 "nbformat_minor": 4
}
