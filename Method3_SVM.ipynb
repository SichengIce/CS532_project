{
 "cells": [
  {
   "cell_type": "markdown",
   "metadata": {},
   "source": [
    "# SVM"
   ]
  },
  {
   "cell_type": "code",
   "execution_count": 1,
   "metadata": {},
   "outputs": [],
   "source": [
    "import numpy as np\n",
    "import pandas as pd\n",
    "import matplotlib.pyplot as plt\n",
    "import seaborn as sns\n",
    "from sklearn import svm\n",
    "import seaborn as sns"
   ]
  },
  {
   "cell_type": "code",
   "execution_count": 2,
   "metadata": {},
   "outputs": [],
   "source": [
    "X_train = np.asarray(pd.read_csv(\"training_data.csv\"))\n",
    "y_train = np.asarray(pd.read_csv(\"training_label.csv\"))\n",
    "X_test = np.asarray(pd.read_csv(\"testing_data.csv\"))\n",
    "y_test = np.asarray(pd.read_csv(\"testing_label.csv\"))"
   ]
  },
  {
   "cell_type": "code",
   "execution_count": 3,
   "metadata": {},
   "outputs": [],
   "source": [
    "n_train = X_train.shape[0]\n",
    "n_test = X_test.shape[0]"
   ]
  },
  {
   "cell_type": "code",
   "execution_count": 4,
   "metadata": {},
   "outputs": [],
   "source": [
    "def z_score(x, axis):\n",
    "    xr = np.rollaxis(x, axis=axis)\n",
    "    xr -= np.mean(x, axis=axis)\n",
    "    xr /= np.std(x, axis=axis)\n",
    "    # print(x)\n",
    "    return x"
   ]
  },
  {
   "cell_type": "code",
   "execution_count": 5,
   "metadata": {},
   "outputs": [],
   "source": [
    "X_train = z_score(X_train,0)\n",
    "X_test = z_score(X_test,0)"
   ]
  },
  {
   "cell_type": "code",
   "execution_count": 6,
   "metadata": {},
   "outputs": [
    {
     "name": "stderr",
     "output_type": "stream",
     "text": [
      "Using TensorFlow backend.\n"
     ]
    }
   ],
   "source": [
    "from keras.models import Sequential\n",
    "from keras.utils import np_utils\n",
    "from keras.layers.core import Dense, Activation, Dropout"
   ]
  },
  {
   "cell_type": "markdown",
   "metadata": {},
   "source": [
    "## svc"
   ]
  },
  {
   "cell_type": "code",
   "execution_count": 7,
   "metadata": {},
   "outputs": [
    {
     "name": "stderr",
     "output_type": "stream",
     "text": [
      "c:\\users\\50221\\appdata\\local\\programs\\python\\python37\\lib\\site-packages\\sklearn\\utils\\validation.py:73: DataConversionWarning: A column-vector y was passed when a 1d array was expected. Please change the shape of y to (n_samples, ), for example using ravel().\n",
      "  return f(**kwargs)\n"
     ]
    },
    {
     "data": {
      "text/plain": [
       "SVC(gamma='auto')"
      ]
     },
     "execution_count": 7,
     "metadata": {},
     "output_type": "execute_result"
    }
   ],
   "source": [
    "svc = svm.SVC(kernel='rbf',gamma='auto')\n",
    "svc.fit(X_train, y_train)"
   ]
  },
  {
   "cell_type": "code",
   "execution_count": 8,
   "metadata": {},
   "outputs": [
    {
     "name": "stdout",
     "output_type": "stream",
     "text": [
      "Training Accuracy: 68.50828729281768 %\n"
     ]
    }
   ],
   "source": [
    "y_train_pred = svc.predict(X_train)\n",
    "y_train_pred = y_train_pred.reshape(y_train_pred.shape[0],1)\n",
    "error_vec = [0 if k[0]==k[1] else 1 for k in np.hstack((y_train, y_train_pred))]\n",
    "err_rate = sum(error_vec)/len(y_train)\n",
    "print(\"Training Accuracy:\", (1- err_rate)*100, \"%\")"
   ]
  },
  {
   "cell_type": "code",
   "execution_count": 9,
   "metadata": {},
   "outputs": [
    {
     "name": "stdout",
     "output_type": "stream",
     "text": [
      "[[-1. -1.]\n",
      " [ 1. -1.]\n",
      " [ 1. -1.]\n",
      " [-1. -1.]\n",
      " [-1. -1.]\n",
      " [ 1. -1.]\n",
      " [-1. -1.]\n",
      " [ 1.  1.]\n",
      " [-1. -1.]\n",
      " [ 1. -1.]\n",
      " [ 1.  1.]\n",
      " [ 1. -1.]\n",
      " [ 1.  1.]\n",
      " [-1. -1.]\n",
      " [-1.  1.]\n",
      " [ 1.  1.]\n",
      " [-1. -1.]\n",
      " [ 1. -1.]\n",
      " [ 1. -1.]\n",
      " [-1. -1.]\n",
      " [ 1.  1.]\n",
      " [ 1.  1.]\n",
      " [ 1. -1.]\n",
      " [ 1. -1.]\n",
      " [-1. -1.]\n",
      " [ 1. -1.]\n",
      " [-1.  1.]\n",
      " [ 1. -1.]\n",
      " [ 1.  1.]\n",
      " [-1. -1.]\n",
      " [ 1. -1.]\n",
      " [-1.  1.]\n",
      " [ 1.  1.]\n",
      " [-1. -1.]\n",
      " [-1. -1.]\n",
      " [-1. -1.]\n",
      " [-1. -1.]\n",
      " [-1. -1.]\n",
      " [ 1.  1.]\n",
      " [ 1.  1.]\n",
      " [-1.  1.]\n",
      " [ 1. -1.]\n",
      " [ 1.  1.]\n",
      " [ 1. -1.]\n",
      " [ 1. -1.]\n",
      " [-1. -1.]\n",
      " [ 1.  1.]\n",
      " [-1. -1.]\n",
      " [-1. -1.]\n",
      " [-1. -1.]\n",
      " [ 1.  1.]\n",
      " [-1. -1.]\n",
      " [-1.  1.]\n",
      " [ 1. -1.]\n",
      " [-1. -1.]\n",
      " [-1.  1.]\n",
      " [-1. -1.]\n",
      " [ 1.  1.]\n",
      " [-1.  1.]\n",
      " [-1. -1.]\n",
      " [ 1.  1.]\n",
      " [-1.  1.]\n",
      " [ 1.  1.]\n",
      " [ 1.  1.]\n",
      " [ 1. -1.]\n",
      " [-1. -1.]\n",
      " [ 1. -1.]\n",
      " [-1. -1.]\n",
      " [ 1. -1.]\n",
      " [ 1.  1.]\n",
      " [ 1.  1.]\n",
      " [-1. -1.]\n",
      " [-1.  1.]\n",
      " [-1. -1.]\n",
      " [ 1.  1.]\n",
      " [-1. -1.]\n",
      " [-1. -1.]\n",
      " [ 1.  1.]\n",
      " [-1. -1.]\n",
      " [-1. -1.]\n",
      " [-1. -1.]\n",
      " [-1. -1.]\n",
      " [-1. -1.]\n",
      " [-1. -1.]\n",
      " [-1. -1.]\n",
      " [ 1. -1.]\n",
      " [ 1.  1.]\n",
      " [-1. -1.]\n",
      " [-1. -1.]\n",
      " [ 1.  1.]\n",
      " [ 1. -1.]\n",
      " [ 1. -1.]\n",
      " [ 1. -1.]\n",
      " [-1. -1.]\n",
      " [-1. -1.]\n",
      " [-1. -1.]\n",
      " [ 1.  1.]\n",
      " [-1.  1.]\n",
      " [ 1.  1.]\n",
      " [-1. -1.]\n",
      " [ 1. -1.]\n",
      " [-1. -1.]\n",
      " [-1. -1.]\n",
      " [-1. -1.]\n",
      " [-1. -1.]\n",
      " [ 1. -1.]\n",
      " [ 1.  1.]\n",
      " [ 1.  1.]\n",
      " [ 1.  1.]\n",
      " [-1. -1.]\n",
      " [ 1. -1.]\n",
      " [ 1.  1.]\n",
      " [-1.  1.]\n",
      " [-1. -1.]\n",
      " [-1. -1.]\n",
      " [ 1.  1.]\n",
      " [ 1. -1.]\n",
      " [-1.  1.]\n",
      " [-1. -1.]\n",
      " [-1.  1.]\n",
      " [-1.  1.]\n",
      " [-1. -1.]\n",
      " [-1. -1.]\n",
      " [-1. -1.]\n",
      " [ 1.  1.]\n",
      " [-1. -1.]\n",
      " [ 1. -1.]\n",
      " [-1. -1.]\n",
      " [-1. -1.]\n",
      " [-1. -1.]\n",
      " [-1. -1.]\n",
      " [-1. -1.]\n",
      " [ 1. -1.]\n",
      " [ 1.  1.]\n",
      " [ 1.  1.]\n",
      " [ 1.  1.]\n",
      " [ 1.  1.]\n",
      " [ 1. -1.]\n",
      " [-1. -1.]\n",
      " [ 1.  1.]\n",
      " [ 1.  1.]\n",
      " [-1. -1.]\n",
      " [-1. -1.]\n",
      " [-1. -1.]\n",
      " [-1.  1.]\n",
      " [-1. -1.]\n",
      " [ 1. -1.]\n",
      " [-1.  1.]\n",
      " [ 1.  1.]\n",
      " [-1. -1.]\n",
      " [ 1.  1.]\n",
      " [ 1.  1.]\n",
      " [-1. -1.]\n",
      " [-1. -1.]\n",
      " [-1. -1.]\n",
      " [ 1.  1.]\n",
      " [ 1. -1.]\n",
      " [-1.  1.]\n",
      " [-1. -1.]\n",
      " [ 1.  1.]\n",
      " [-1.  1.]\n",
      " [ 1.  1.]\n",
      " [ 1. -1.]\n",
      " [ 1. -1.]\n",
      " [ 1.  1.]\n",
      " [-1. -1.]\n",
      " [-1.  1.]\n",
      " [-1. -1.]\n",
      " [-1. -1.]\n",
      " [-1.  1.]\n",
      " [ 1.  1.]\n",
      " [-1. -1.]\n",
      " [-1. -1.]\n",
      " [-1. -1.]\n",
      " [ 1.  1.]\n",
      " [-1. -1.]\n",
      " [ 1.  1.]\n",
      " [-1.  1.]\n",
      " [-1.  1.]\n",
      " [-1.  1.]\n",
      " [-1.  1.]\n",
      " [-1. -1.]\n",
      " [ 1.  1.]\n",
      " [-1. -1.]\n",
      " [-1. -1.]\n",
      " [ 1. -1.]\n",
      " [-1. -1.]\n",
      " [ 1. -1.]\n",
      " [ 1.  1.]\n",
      " [ 1.  1.]\n",
      " [ 1. -1.]\n",
      " [-1. -1.]\n",
      " [-1. -1.]\n",
      " [ 1. -1.]\n",
      " [-1.  1.]\n",
      " [-1. -1.]\n",
      " [ 1.  1.]\n",
      " [ 1. -1.]\n",
      " [-1.  1.]\n",
      " [ 1. -1.]\n",
      " [ 1.  1.]\n",
      " [ 1.  1.]\n",
      " [ 1.  1.]\n",
      " [-1. -1.]\n",
      " [-1.  1.]\n",
      " [ 1.  1.]\n",
      " [ 1.  1.]\n",
      " [ 1. -1.]\n",
      " [ 1.  1.]\n",
      " [ 1.  1.]\n",
      " [ 1. -1.]\n",
      " [-1.  1.]\n",
      " [ 1.  1.]\n",
      " [ 1.  1.]\n",
      " [-1. -1.]\n",
      " [-1. -1.]\n",
      " [-1. -1.]\n",
      " [ 1.  1.]\n",
      " [ 1.  1.]\n",
      " [-1. -1.]\n",
      " [ 1.  1.]\n",
      " [-1. -1.]\n",
      " [ 1. -1.]\n",
      " [-1. -1.]\n",
      " [ 1. -1.]\n",
      " [ 1.  1.]\n",
      " [-1. -1.]\n",
      " [ 1.  1.]\n",
      " [ 1. -1.]\n",
      " [-1.  1.]\n",
      " [-1. -1.]\n",
      " [ 1.  1.]\n",
      " [ 1.  1.]\n",
      " [-1. -1.]\n",
      " [-1.  1.]\n",
      " [ 1. -1.]\n",
      " [-1. -1.]\n",
      " [-1. -1.]\n",
      " [-1. -1.]\n",
      " [ 1.  1.]\n",
      " [ 1.  1.]\n",
      " [-1.  1.]\n",
      " [-1. -1.]\n",
      " [ 1. -1.]\n",
      " [-1.  1.]\n",
      " [ 1. -1.]\n",
      " [-1. -1.]\n",
      " [ 1.  1.]\n",
      " [ 1. -1.]\n",
      " [-1.  1.]\n",
      " [-1. -1.]\n",
      " [-1. -1.]\n",
      " [ 1.  1.]\n",
      " [ 1.  1.]\n",
      " [-1. -1.]\n",
      " [ 1.  1.]\n",
      " [-1. -1.]\n",
      " [-1. -1.]\n",
      " [-1. -1.]\n",
      " [ 1. -1.]\n",
      " [-1. -1.]\n",
      " [-1. -1.]\n",
      " [-1. -1.]\n",
      " [ 1.  1.]\n",
      " [-1. -1.]\n",
      " [-1. -1.]\n",
      " [-1. -1.]\n",
      " [-1. -1.]\n",
      " [ 1. -1.]\n",
      " [ 1.  1.]\n",
      " [-1. -1.]\n",
      " [-1. -1.]\n",
      " [-1.  1.]\n",
      " [-1. -1.]\n",
      " [-1. -1.]\n",
      " [-1.  1.]\n",
      " [-1.  1.]\n",
      " [-1.  1.]\n",
      " [-1. -1.]\n",
      " [ 1.  1.]\n",
      " [ 1. -1.]\n",
      " [-1.  1.]\n",
      " [-1. -1.]\n",
      " [ 1. -1.]\n",
      " [-1. -1.]\n",
      " [ 1.  1.]\n",
      " [-1. -1.]\n",
      " [-1. -1.]\n",
      " [-1. -1.]\n",
      " [ 1.  1.]\n",
      " [ 1.  1.]\n",
      " [ 1.  1.]\n",
      " [-1. -1.]\n",
      " [ 1. -1.]\n",
      " [-1. -1.]\n",
      " [ 1.  1.]\n",
      " [ 1.  1.]\n",
      " [ 1. -1.]\n",
      " [-1.  1.]\n",
      " [ 1. -1.]\n",
      " [-1.  1.]\n",
      " [ 1. -1.]\n",
      " [ 1. -1.]\n",
      " [ 1.  1.]\n",
      " [ 1.  1.]\n",
      " [ 1.  1.]\n",
      " [ 1.  1.]\n",
      " [ 1.  1.]\n",
      " [ 1.  1.]\n",
      " [-1. -1.]\n",
      " [-1. -1.]\n",
      " [-1. -1.]\n",
      " [-1. -1.]\n",
      " [ 1. -1.]\n",
      " [ 1.  1.]\n",
      " [-1. -1.]\n",
      " [-1. -1.]\n",
      " [-1. -1.]\n",
      " [ 1.  1.]\n",
      " [-1. -1.]\n",
      " [-1. -1.]\n",
      " [ 1.  1.]\n",
      " [ 1. -1.]\n",
      " [ 1. -1.]\n",
      " [ 1.  1.]\n",
      " [-1. -1.]\n",
      " [ 1. -1.]\n",
      " [ 1. -1.]\n",
      " [-1. -1.]\n",
      " [-1.  1.]\n",
      " [-1. -1.]\n",
      " [ 1. -1.]\n",
      " [ 1.  1.]\n",
      " [-1. -1.]\n",
      " [-1. -1.]\n",
      " [ 1.  1.]\n",
      " [-1. -1.]\n",
      " [-1.  1.]\n",
      " [-1. -1.]\n",
      " [-1.  1.]\n",
      " [-1. -1.]\n",
      " [-1. -1.]\n",
      " [ 1.  1.]\n",
      " [-1. -1.]\n",
      " [ 1.  1.]\n",
      " [ 1. -1.]\n",
      " [ 1. -1.]\n",
      " [ 1.  1.]\n",
      " [ 1. -1.]\n",
      " [-1.  1.]\n",
      " [ 1.  1.]\n",
      " [-1. -1.]\n",
      " [-1. -1.]\n",
      " [ 1.  1.]\n",
      " [ 1.  1.]\n",
      " [ 1.  1.]\n",
      " [-1.  1.]\n",
      " [ 1. -1.]\n",
      " [ 1. -1.]\n",
      " [-1. -1.]\n",
      " [-1. -1.]\n",
      " [ 1.  1.]]\n"
     ]
    }
   ],
   "source": [
    "print(np.hstack((y_train, y_train_pred)))"
   ]
  },
  {
   "cell_type": "code",
   "execution_count": 10,
   "metadata": {},
   "outputs": [
    {
     "name": "stdout",
     "output_type": "stream",
     "text": [
      "Training square error: 1.2596685082872927\n"
     ]
    }
   ],
   "source": [
    "Sq_err_vec = [ (it[0]-it[1])**2 for it in np.hstack((y_train, y_train_pred))]\n",
    "sq_err = sum(Sq_err_vec)/len(y_train)\n",
    "print(\"Training square error:\",sq_err)"
   ]
  },
  {
   "cell_type": "code",
   "execution_count": 11,
   "metadata": {},
   "outputs": [
    {
     "name": "stdout",
     "output_type": "stream",
     "text": [
      "Testing Accuracy: 52.25806451612903 %\n"
     ]
    }
   ],
   "source": [
    "y_test_pred = svc.predict(X_test)\n",
    "y_test_pred = y_test_pred.reshape(y_test_pred.shape[0],1)\n",
    "test_error_vec = [0 if k[0]==k[1] else 1 for k in np.hstack((y_test, y_test_pred))]\n",
    "test_err_rate = sum(test_error_vec)/len(y_test)\n",
    "print(\"Testing Accuracy:\", (1- test_err_rate)*100, \"%\")"
   ]
  },
  {
   "cell_type": "code",
   "execution_count": 12,
   "metadata": {},
   "outputs": [
    {
     "name": "stdout",
     "output_type": "stream",
     "text": [
      "Testing square error: 1.9096774193548387\n"
     ]
    }
   ],
   "source": [
    "test_Sq_err_vec = [ (it[0]-it[1])**2 for it in np.hstack((y_test, y_test_pred))]\n",
    "test_sq_err = sum(test_Sq_err_vec)/len(y_test)\n",
    "print(\"Testing square error:\",test_sq_err)"
   ]
  },
  {
   "cell_type": "markdown",
   "metadata": {},
   "source": [
    "## linear SVC"
   ]
  },
  {
   "cell_type": "code",
   "execution_count": 13,
   "metadata": {},
   "outputs": [
    {
     "name": "stderr",
     "output_type": "stream",
     "text": [
      "c:\\users\\50221\\appdata\\local\\programs\\python\\python37\\lib\\site-packages\\sklearn\\utils\\validation.py:73: DataConversionWarning: A column-vector y was passed when a 1d array was expected. Please change the shape of y to (n_samples, ), for example using ravel().\n",
      "  return f(**kwargs)\n"
     ]
    },
    {
     "data": {
      "text/plain": [
       "LinearSVC()"
      ]
     },
     "execution_count": 13,
     "metadata": {},
     "output_type": "execute_result"
    }
   ],
   "source": [
    "lin_svc = svm.LinearSVC()\n",
    "lin_svc.fit(X_train, y_train)"
   ]
  },
  {
   "cell_type": "code",
   "execution_count": 14,
   "metadata": {},
   "outputs": [
    {
     "name": "stdout",
     "output_type": "stream",
     "text": [
      "Training Accuracy: 58.011049723756905 %\n"
     ]
    }
   ],
   "source": [
    "y_train_pred = lin_svc.predict(X_train)\n",
    "y_train_pred = y_train_pred.reshape(y_train_pred.shape[0],1)\n",
    "error_vec = [0 if k[0]==k[1] else 1 for k in np.hstack((y_train, y_train_pred))]\n",
    "err_rate = sum(error_vec)/len(y_train)\n",
    "print(\"Training Accuracy:\", (1- err_rate)*100, \"%\")"
   ]
  },
  {
   "cell_type": "code",
   "execution_count": 15,
   "metadata": {},
   "outputs": [
    {
     "name": "stdout",
     "output_type": "stream",
     "text": [
      "Training square error: 1.6795580110497237\n"
     ]
    }
   ],
   "source": [
    "Sq_err_vec = [ (it[0]-it[1])**2 for it in np.hstack((y_train, y_train_pred))]\n",
    "sq_err = sum(Sq_err_vec)/len(y_train)\n",
    "print(\"Training square error:\",sq_err)"
   ]
  },
  {
   "cell_type": "code",
   "execution_count": 16,
   "metadata": {},
   "outputs": [
    {
     "name": "stdout",
     "output_type": "stream",
     "text": [
      "Testing Accuracy: 50.96774193548388 %\n"
     ]
    }
   ],
   "source": [
    "y_test_pred = lin_svc.predict(X_test)\n",
    "y_test_pred = y_test_pred.reshape(y_test_pred.shape[0],1)\n",
    "test_error_vec = [0 if k[0]==k[1] else 1 for k in np.hstack((y_test, y_test_pred))]\n",
    "test_err_rate = sum(test_error_vec)/len(y_test)\n",
    "print(\"Testing Accuracy:\", (1- test_err_rate)*100, \"%\")"
   ]
  },
  {
   "cell_type": "code",
   "execution_count": 17,
   "metadata": {},
   "outputs": [
    {
     "name": "stdout",
     "output_type": "stream",
     "text": [
      "Testing square error: 1.961290322580645\n"
     ]
    }
   ],
   "source": [
    "test_Sq_err_vec = [ (it[0]-it[1])**2 for it in np.hstack((y_test, y_test_pred))]\n",
    "test_sq_err = sum(test_Sq_err_vec)/len(y_test)\n",
    "print(\"Testing square error:\",test_sq_err)"
   ]
  },
  {
   "cell_type": "markdown",
   "metadata": {},
   "source": [
    "# Feature selection "
   ]
  },
  {
   "cell_type": "code",
   "execution_count": 18,
   "metadata": {},
   "outputs": [],
   "source": [
    "features_selected = [\"month\",\"DMC\",\"DC\",\"RH\",\"wind\"]"
   ]
  },
  {
   "cell_type": "code",
   "execution_count": 19,
   "metadata": {},
   "outputs": [],
   "source": [
    "X_train1 = pd.read_csv(\"training_data.csv\")[features_selected]\n",
    "y_train1 = pd.read_csv(\"training_label.csv\")\n",
    "X_test1 = pd.read_csv(\"testing_data.csv\")[features_selected]\n",
    "y_test1 = pd.read_csv(\"testing_label.csv\")"
   ]
  },
  {
   "cell_type": "code",
   "execution_count": 20,
   "metadata": {},
   "outputs": [],
   "source": [
    "X_tr1 = np.asarray(X_train1)\n",
    "y_tr1 = np.asarray(y_train1)\n",
    "X_te1 = np.asarray(X_test1)\n",
    "y_te1 = np.asarray(y_test1)"
   ]
  },
  {
   "cell_type": "code",
   "execution_count": 21,
   "metadata": {},
   "outputs": [],
   "source": [
    "X_tr1 = z_score(X_tr1,0)\n",
    "X_te1 = z_score(X_te1,0)"
   ]
  },
  {
   "cell_type": "code",
   "execution_count": 22,
   "metadata": {},
   "outputs": [
    {
     "name": "stderr",
     "output_type": "stream",
     "text": [
      "c:\\users\\50221\\appdata\\local\\programs\\python\\python37\\lib\\site-packages\\sklearn\\utils\\validation.py:73: DataConversionWarning: A column-vector y was passed when a 1d array was expected. Please change the shape of y to (n_samples, ), for example using ravel().\n",
      "  return f(**kwargs)\n"
     ]
    },
    {
     "data": {
      "text/plain": [
       "SVC(gamma='auto')"
      ]
     },
     "execution_count": 22,
     "metadata": {},
     "output_type": "execute_result"
    }
   ],
   "source": [
    "svc = svm.SVC(kernel='rbf',gamma='auto')\n",
    "svc.fit(X_tr1, y_tr1)"
   ]
  },
  {
   "cell_type": "code",
   "execution_count": 25,
   "metadata": {},
   "outputs": [
    {
     "name": "stdout",
     "output_type": "stream",
     "text": [
      "Training Accuracy: 58.011049723756905 %\n"
     ]
    }
   ],
   "source": [
    "y_train_pred1 = svc.predict(X_tr1)\n",
    "y_train_pred1 = y_train_pred.reshape(y_train_pred1.shape[0],1)\n",
    "error_vec1 = [0 if k[0]==k[1] else 1 for k in np.hstack((y_tr1, y_train_pred1))]\n",
    "err_rate1 = sum(error_vec1)/len(y_tr1)\n",
    "print(\"Training Accuracy:\", (1- err_rate1)*100, \"%\")"
   ]
  },
  {
   "cell_type": "code",
   "execution_count": 26,
   "metadata": {},
   "outputs": [
    {
     "name": "stdout",
     "output_type": "stream",
     "text": [
      "Training square error: 1.6795580110497237\n"
     ]
    }
   ],
   "source": [
    "Sq_err_vec = [ (it[0]-it[1])**2 for it in np.hstack((y_tr1, y_train_pred1))]\n",
    "sq_err = sum(Sq_err_vec)/len(y_tr1)\n",
    "print(\"Training square error:\",sq_err)"
   ]
  },
  {
   "cell_type": "code",
   "execution_count": 27,
   "metadata": {},
   "outputs": [
    {
     "name": "stdout",
     "output_type": "stream",
     "text": [
      "Testing Accuracy: 48.38709677419355 %\n"
     ]
    }
   ],
   "source": [
    "y_test_pred = svc.predict(X_te1)\n",
    "y_test_pred = y_test_pred.reshape(y_test_pred.shape[0],1)\n",
    "test_error_vec = [0 if k[0]==k[1] else 1 for k in np.hstack((y_te1, y_test_pred))]\n",
    "test_err_rate = sum(test_error_vec)/len(y_te1)\n",
    "print(\"Testing Accuracy:\", (1- test_err_rate)*100, \"%\")"
   ]
  },
  {
   "cell_type": "code",
   "execution_count": 28,
   "metadata": {},
   "outputs": [
    {
     "name": "stdout",
     "output_type": "stream",
     "text": [
      "Testing square error: 2.064516129032258\n"
     ]
    }
   ],
   "source": [
    "test_Sq_err_vec = [ (it[0]-it[1])**2 for it in np.hstack((y_te1, y_test_pred))]\n",
    "test_sq_err = sum(test_Sq_err_vec)/len(y_te1)\n",
    "print(\"Testing square error:\",test_sq_err)"
   ]
  },
  {
   "cell_type": "markdown",
   "metadata": {},
   "source": [
    "# K-fold validation "
   ]
  },
  {
   "cell_type": "code",
   "execution_count": 41,
   "metadata": {},
   "outputs": [],
   "source": [
    "n_train = len(X_train)\n",
    "\n",
    "k_fold = 5\n",
    "id_train = [[]] * k_fold\n",
    "id_val = [[]] * k_fold\n",
    "\n",
    "for m in range(k_fold):\n",
    "    id_val[m] = range(m, n_train, k_fold) # Indices of k_fold validation sets.\n",
    "    id_train[m] = np.setdiff1d(range(n_train), id_val[m])"
   ]
  },
  {
   "cell_type": "code",
   "execution_count": 42,
   "metadata": {},
   "outputs": [],
   "source": [
    "CMat_train_best = None\n",
    "CMat_val_best = None\n",
    "acc_train_best = 0\n",
    "acc_val_best = 0\n",
    "model_best = None\n",
    "Val_acc = []"
   ]
  },
  {
   "cell_type": "code",
   "execution_count": 55,
   "metadata": {},
   "outputs": [
    {
     "name": "stdout",
     "output_type": "stream",
     "text": [
      "\n",
      " iteration 0\n",
      "Training confusion matrix:\n",
      " [[132  26]\n",
      " [ 78  53]]\n",
      "Training accuracy: 0.6401384083044983\n",
      "Validation confusion matrix:\n",
      " [[26  7]\n",
      " [28 12]]\n",
      "Validation accuracy: 0.5205479452054794\n",
      "\n",
      " iteration 1\n",
      "Training confusion matrix:\n",
      " [[116  34]\n",
      " [ 60  79]]\n",
      "Training accuracy: 0.6747404844290658\n",
      "Validation confusion matrix:\n",
      " [[28 13]\n",
      " [15 17]]\n",
      "Validation accuracy: 0.6164383561643836\n",
      "\n",
      " iteration 2\n",
      "Training confusion matrix:\n",
      " [[123  33]\n",
      " [ 56  78]]\n",
      "Training accuracy: 0.6931034482758621\n",
      "Validation confusion matrix:\n",
      " [[20 15]\n",
      " [24 13]]\n",
      "Validation accuracy: 0.4583333333333333\n",
      "\n",
      " iteration 3\n",
      "Training confusion matrix:\n",
      " [[ 98  55]\n",
      " [ 35 102]]\n",
      "Training accuracy: 0.6896551724137931\n",
      "Validation confusion matrix:\n",
      " [[18 20]\n",
      " [20 14]]\n",
      "Validation accuracy: 0.4444444444444444\n",
      "\n",
      " iteration 4\n",
      "Training confusion matrix:\n",
      " [[ 99  48]\n",
      " [ 39 104]]\n",
      "Training accuracy: 0.7\n",
      "Validation confusion matrix:\n",
      " [[16 28]\n",
      " [11 17]]\n",
      "Validation accuracy: 0.4583333333333333\n"
     ]
    },
    {
     "name": "stderr",
     "output_type": "stream",
     "text": [
      "c:\\users\\50221\\appdata\\local\\programs\\python\\python37\\lib\\site-packages\\sklearn\\utils\\validation.py:73: DataConversionWarning: A column-vector y was passed when a 1d array was expected. Please change the shape of y to (n_samples, ), for example using ravel().\n",
      "  return f(**kwargs)\n",
      "c:\\users\\50221\\appdata\\local\\programs\\python\\python37\\lib\\site-packages\\sklearn\\utils\\validation.py:73: DataConversionWarning: A column-vector y was passed when a 1d array was expected. Please change the shape of y to (n_samples, ), for example using ravel().\n",
      "  return f(**kwargs)\n",
      "c:\\users\\50221\\appdata\\local\\programs\\python\\python37\\lib\\site-packages\\sklearn\\utils\\validation.py:73: DataConversionWarning: A column-vector y was passed when a 1d array was expected. Please change the shape of y to (n_samples, ), for example using ravel().\n",
      "  return f(**kwargs)\n",
      "c:\\users\\50221\\appdata\\local\\programs\\python\\python37\\lib\\site-packages\\sklearn\\utils\\validation.py:73: DataConversionWarning: A column-vector y was passed when a 1d array was expected. Please change the shape of y to (n_samples, ), for example using ravel().\n",
      "  return f(**kwargs)\n",
      "c:\\users\\50221\\appdata\\local\\programs\\python\\python37\\lib\\site-packages\\sklearn\\utils\\validation.py:73: DataConversionWarning: A column-vector y was passed when a 1d array was expected. Please change the shape of y to (n_samples, ), for example using ravel().\n",
      "  return f(**kwargs)\n"
     ]
    }
   ],
   "source": [
    "from sklearn.metrics import confusion_matrix\n",
    "# ConfusionMatrix = np.zeros((2,2), dtype=int)\n",
    "\n",
    "for m in range(k_fold):\n",
    "    print(\"\\n iteration\", m)\n",
    "    X_train_cur = X_train[id_train[m]]\n",
    "    y_train_cur = y_train[id_train[m]]\n",
    "    X_val_cur = X_train[id_val[m]]\n",
    "    y_val_cur = y_train[id_val[m]]\n",
    "\n",
    "    svc_cur = svm.SVC(kernel='rbf',gamma='auto')\n",
    "    svc_cur.fit(X_train_cur, y_train_cur)\n",
    "    y_pred_train_cur = svc_cur.predict(X_train_cur)\n",
    "    y_pred_val_cur = svc_cur.predict(X_val_cur)\n",
    "    \n",
    "    CMat_train = confusion_matrix(y_train_cur, y_pred_train_cur, labels=[-1,1])\n",
    "    acc_train = np.sum(np.diag(CMat_train))/np.shape(X_train_cur)[0]\n",
    "    \n",
    "    CMat_val = confusion_matrix(y_val_cur, y_pred_val_cur, labels=[-1,1])\n",
    "    acc_val = np.sum(np.diag(CMat_val))/np.shape(X_val_cur)[0]\n",
    "    Val_acc.append(acc_val)\n",
    "    \n",
    "    if acc_val > acc_val_best:\n",
    "        acc_train_best = acc_train\n",
    "        acc_val_best = acc_val\n",
    "        model_best =  svc_cur\n",
    "        CMat_train_best = CMat_train\n",
    "        CMat_val_best = CMat_val\n",
    "    \n",
    "    print(\"Training confusion matrix:\\n\", CMat_train)\n",
    "    print(\"Training accuracy:\", acc_train)\n",
    "    print(\"Validation confusion matrix:\\n\", CMat_val)\n",
    "    print(\"Validation accuracy:\", acc_val)"
   ]
  },
  {
   "cell_type": "code",
   "execution_count": 56,
   "metadata": {},
   "outputs": [
    {
     "name": "stdout",
     "output_type": "stream",
     "text": [
      "Highest training accuracy: 0.6747404844290658\n",
      "Best training confusion matrix:\n",
      " [[116  34]\n",
      " [ 60  79]]\n",
      "Highest validation accuracy: 0.6164383561643836\n",
      "Best validation confusion matrix:\n",
      " [[28 13]\n",
      " [15 17]]\n",
      "SVC(gamma='auto')\n"
     ]
    }
   ],
   "source": [
    "print(\"Highest training accuracy:\", acc_train_best)\n",
    "print(\"Best training confusion matrix:\\n\", CMat_train_best)\n",
    "print(\"Highest validation accuracy:\", acc_val_best)\n",
    "print(\"Best validation confusion matrix:\\n\", CMat_val_best)\n",
    "print(model_best)"
   ]
  },
  {
   "cell_type": "code",
   "execution_count": 58,
   "metadata": {},
   "outputs": [
    {
     "name": "stdout",
     "output_type": "stream",
     "text": [
      "Testing Accuracy: 49.032258064516135 %\n"
     ]
    }
   ],
   "source": [
    "y_test_pred = model_best.predict(X_test)\n",
    "y_test_pred = y_test_pred.reshape(y_test_pred.shape[0],1)\n",
    "test_error_vec = [0 if k[0]==k[1] else 1 for k in np.hstack((y_test, y_test_pred))]\n",
    "test_err_rate = sum(test_error_vec)/len(y_test)\n",
    "print(\"Testing Accuracy:\", (1-test_err_rate)*100, \"%\")"
   ]
  },
  {
   "cell_type": "code",
   "execution_count": 59,
   "metadata": {},
   "outputs": [
    {
     "name": "stdout",
     "output_type": "stream",
     "text": [
      "Testing square error: 2.0387096774193547\n"
     ]
    }
   ],
   "source": [
    "test_Sq_err_vec = [ (it[0]-it[1])**2 for it in np.hstack((y_test, y_test_pred))]\n",
    "test_sq_err = sum(test_Sq_err_vec)/len(y_test)\n",
    "print(\"Testing square error:\",test_sq_err)"
   ]
  },
  {
   "cell_type": "code",
   "execution_count": null,
   "metadata": {},
   "outputs": [],
   "source": []
  }
 ],
 "metadata": {
  "kernelspec": {
   "display_name": "Python 3",
   "language": "python",
   "name": "python3"
  },
  "language_info": {
   "codemirror_mode": {
    "name": "ipython",
    "version": 3
   },
   "file_extension": ".py",
   "mimetype": "text/x-python",
   "name": "python",
   "nbconvert_exporter": "python",
   "pygments_lexer": "ipython3",
   "version": "3.7.7"
  }
 },
 "nbformat": 4,
 "nbformat_minor": 4
}
